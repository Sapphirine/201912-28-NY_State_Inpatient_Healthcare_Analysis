{
 "cells": [
  {
   "cell_type": "code",
   "execution_count": 1,
   "metadata": {},
   "outputs": [
    {
     "name": "stderr",
     "output_type": "stream",
     "text": [
      "/Users/mac/anaconda3/lib/python3.6/site-packages/IPython/core/interactiveshell.py:3058: DtypeWarning: Columns (29) have mixed types. Specify dtype option on import or set low_memory=False.\n",
      "  interactivity=interactivity, compiler=compiler, result=result)\n"
     ]
    },
    {
     "data": {
      "text/html": [
       "<div>\n",
       "<style scoped>\n",
       "    .dataframe tbody tr th:only-of-type {\n",
       "        vertical-align: middle;\n",
       "    }\n",
       "\n",
       "    .dataframe tbody tr th {\n",
       "        vertical-align: top;\n",
       "    }\n",
       "\n",
       "    .dataframe thead th {\n",
       "        text-align: right;\n",
       "    }\n",
       "</style>\n",
       "<table border=\"1\" class=\"dataframe\">\n",
       "  <thead>\n",
       "    <tr style=\"text-align: right;\">\n",
       "      <th></th>\n",
       "      <th>Hospital Service Area</th>\n",
       "      <th>Hospital County</th>\n",
       "      <th>Operating Certificate Number</th>\n",
       "      <th>Permanent Facility Id</th>\n",
       "      <th>Facility Name</th>\n",
       "      <th>Age Group</th>\n",
       "      <th>Zip Code - 3 digits</th>\n",
       "      <th>Gender</th>\n",
       "      <th>Race</th>\n",
       "      <th>Ethnicity</th>\n",
       "      <th>...</th>\n",
       "      <th>APR Risk of Mortality</th>\n",
       "      <th>APR Medical Surgical Description</th>\n",
       "      <th>Payment Typology 1</th>\n",
       "      <th>Payment Typology 2</th>\n",
       "      <th>Payment Typology 3</th>\n",
       "      <th>Birth Weight</th>\n",
       "      <th>Abortion Edit Indicator</th>\n",
       "      <th>Emergency Department Indicator</th>\n",
       "      <th>Total Charges</th>\n",
       "      <th>Total Costs</th>\n",
       "    </tr>\n",
       "  </thead>\n",
       "  <tbody>\n",
       "    <tr>\n",
       "      <td>0</td>\n",
       "      <td>Hudson Valley</td>\n",
       "      <td>Westchester</td>\n",
       "      <td>5903001.0</td>\n",
       "      <td>1061.0</td>\n",
       "      <td>Montefiore Mount Vernon Hospital</td>\n",
       "      <td>30 to 49</td>\n",
       "      <td>NaN</td>\n",
       "      <td>M</td>\n",
       "      <td>White</td>\n",
       "      <td>Not Span/Hispanic</td>\n",
       "      <td>...</td>\n",
       "      <td>Minor</td>\n",
       "      <td>Medical</td>\n",
       "      <td>Medicare</td>\n",
       "      <td>Medicare</td>\n",
       "      <td>Self-Pay</td>\n",
       "      <td>NaN</td>\n",
       "      <td>N</td>\n",
       "      <td>N</td>\n",
       "      <td>114168.00</td>\n",
       "      <td>40464.04</td>\n",
       "    </tr>\n",
       "    <tr>\n",
       "      <td>1</td>\n",
       "      <td>Hudson Valley</td>\n",
       "      <td>Westchester</td>\n",
       "      <td>5903001.0</td>\n",
       "      <td>1061.0</td>\n",
       "      <td>Montefiore Mount Vernon Hospital</td>\n",
       "      <td>50 to 69</td>\n",
       "      <td>105</td>\n",
       "      <td>M</td>\n",
       "      <td>White</td>\n",
       "      <td>Spanish/Hispanic</td>\n",
       "      <td>...</td>\n",
       "      <td>Moderate</td>\n",
       "      <td>Medical</td>\n",
       "      <td>Medicaid</td>\n",
       "      <td>Medicaid</td>\n",
       "      <td>Self-Pay</td>\n",
       "      <td>NaN</td>\n",
       "      <td>N</td>\n",
       "      <td>N</td>\n",
       "      <td>58517.00</td>\n",
       "      <td>26046.50</td>\n",
       "    </tr>\n",
       "    <tr>\n",
       "      <td>2</td>\n",
       "      <td>Hudson Valley</td>\n",
       "      <td>Westchester</td>\n",
       "      <td>5903001.0</td>\n",
       "      <td>1061.0</td>\n",
       "      <td>Montefiore Mount Vernon Hospital</td>\n",
       "      <td>30 to 49</td>\n",
       "      <td>105</td>\n",
       "      <td>F</td>\n",
       "      <td>White</td>\n",
       "      <td>Unknown</td>\n",
       "      <td>...</td>\n",
       "      <td>Moderate</td>\n",
       "      <td>Medical</td>\n",
       "      <td>Department of Corrections</td>\n",
       "      <td>Self-Pay</td>\n",
       "      <td>NaN</td>\n",
       "      <td>NaN</td>\n",
       "      <td>N</td>\n",
       "      <td>N</td>\n",
       "      <td>39647.04</td>\n",
       "      <td>17397.59</td>\n",
       "    </tr>\n",
       "    <tr>\n",
       "      <td>3</td>\n",
       "      <td>Hudson Valley</td>\n",
       "      <td>Westchester</td>\n",
       "      <td>5903001.0</td>\n",
       "      <td>1061.0</td>\n",
       "      <td>Montefiore Mount Vernon Hospital</td>\n",
       "      <td>50 to 69</td>\n",
       "      <td>105</td>\n",
       "      <td>F</td>\n",
       "      <td>White</td>\n",
       "      <td>Not Span/Hispanic</td>\n",
       "      <td>...</td>\n",
       "      <td>Moderate</td>\n",
       "      <td>Medical</td>\n",
       "      <td>Medicaid</td>\n",
       "      <td>Medicaid</td>\n",
       "      <td>Self-Pay</td>\n",
       "      <td>NaN</td>\n",
       "      <td>N</td>\n",
       "      <td>N</td>\n",
       "      <td>36031.09</td>\n",
       "      <td>16118.84</td>\n",
       "    </tr>\n",
       "    <tr>\n",
       "      <td>4</td>\n",
       "      <td>Hudson Valley</td>\n",
       "      <td>Westchester</td>\n",
       "      <td>5903001.0</td>\n",
       "      <td>1061.0</td>\n",
       "      <td>Montefiore Mount Vernon Hospital</td>\n",
       "      <td>18 to 29</td>\n",
       "      <td>105</td>\n",
       "      <td>F</td>\n",
       "      <td>White</td>\n",
       "      <td>Spanish/Hispanic</td>\n",
       "      <td>...</td>\n",
       "      <td>Minor</td>\n",
       "      <td>Medical</td>\n",
       "      <td>Department of Corrections</td>\n",
       "      <td>Self-Pay</td>\n",
       "      <td>NaN</td>\n",
       "      <td>NaN</td>\n",
       "      <td>N</td>\n",
       "      <td>N</td>\n",
       "      <td>30534.00</td>\n",
       "      <td>11921.05</td>\n",
       "    </tr>\n",
       "  </tbody>\n",
       "</table>\n",
       "<p>5 rows × 34 columns</p>\n",
       "</div>"
      ],
      "text/plain": [
       "  Hospital Service Area Hospital County  Operating Certificate Number  \\\n",
       "0         Hudson Valley     Westchester                     5903001.0   \n",
       "1         Hudson Valley     Westchester                     5903001.0   \n",
       "2         Hudson Valley     Westchester                     5903001.0   \n",
       "3         Hudson Valley     Westchester                     5903001.0   \n",
       "4         Hudson Valley     Westchester                     5903001.0   \n",
       "\n",
       "   Permanent Facility Id                     Facility Name Age Group  \\\n",
       "0                 1061.0  Montefiore Mount Vernon Hospital  30 to 49   \n",
       "1                 1061.0  Montefiore Mount Vernon Hospital  50 to 69   \n",
       "2                 1061.0  Montefiore Mount Vernon Hospital  30 to 49   \n",
       "3                 1061.0  Montefiore Mount Vernon Hospital  50 to 69   \n",
       "4                 1061.0  Montefiore Mount Vernon Hospital  18 to 29   \n",
       "\n",
       "  Zip Code - 3 digits Gender   Race          Ethnicity  ...  \\\n",
       "0                 NaN      M  White  Not Span/Hispanic  ...   \n",
       "1                 105      M  White   Spanish/Hispanic  ...   \n",
       "2                 105      F  White            Unknown  ...   \n",
       "3                 105      F  White  Not Span/Hispanic  ...   \n",
       "4                 105      F  White   Spanish/Hispanic  ...   \n",
       "\n",
       "  APR Risk of Mortality APR Medical Surgical Description  \\\n",
       "0                 Minor                          Medical   \n",
       "1              Moderate                          Medical   \n",
       "2              Moderate                          Medical   \n",
       "3              Moderate                          Medical   \n",
       "4                 Minor                          Medical   \n",
       "\n",
       "          Payment Typology 1  Payment Typology 2  Payment Typology 3  \\\n",
       "0                   Medicare            Medicare            Self-Pay   \n",
       "1                   Medicaid            Medicaid            Self-Pay   \n",
       "2  Department of Corrections            Self-Pay                 NaN   \n",
       "3                   Medicaid            Medicaid            Self-Pay   \n",
       "4  Department of Corrections            Self-Pay                 NaN   \n",
       "\n",
       "  Birth Weight  Abortion Edit Indicator Emergency Department Indicator  \\\n",
       "0          NaN                        N                              N   \n",
       "1          NaN                        N                              N   \n",
       "2          NaN                        N                              N   \n",
       "3          NaN                        N                              N   \n",
       "4          NaN                        N                              N   \n",
       "\n",
       "   Total Charges Total Costs  \n",
       "0      114168.00    40464.04  \n",
       "1       58517.00    26046.50  \n",
       "2       39647.04    17397.59  \n",
       "3       36031.09    16118.84  \n",
       "4       30534.00    11921.05  \n",
       "\n",
       "[5 rows x 34 columns]"
      ]
     },
     "execution_count": 1,
     "metadata": {},
     "output_type": "execute_result"
    }
   ],
   "source": [
    "import numpy as np\n",
    "import pandas as pd\n",
    "import matplotlib.pyplot as plt\n",
    "%matplotlib inline \n",
    "\n",
    "filename = '/Users/mac/Desktop/BigData_ProjectData/SPARCS-2017.csv'\n",
    "raw_data = pd.read_csv(filename)\n",
    "raw_data.head()"
   ]
  },
  {
   "cell_type": "code",
   "execution_count": 2,
   "metadata": {},
   "outputs": [
    {
     "data": {
      "text/plain": [
       "(2343569, 34)"
      ]
     },
     "execution_count": 2,
     "metadata": {},
     "output_type": "execute_result"
    }
   ],
   "source": [
    "np.shape(raw_data)"
   ]
  },
  {
   "cell_type": "code",
   "execution_count": 29,
   "metadata": {},
   "outputs": [],
   "source": [
    "# Drop a few NA records\n",
    "data = raw_data.dropna(subset = ['Hospital Service Area',\n",
    "                             'APR Risk of Mortality'])"
   ]
  },
  {
   "cell_type": "code",
   "execution_count": 30,
   "metadata": {},
   "outputs": [
    {
     "data": {
      "text/plain": [
       "(2338151, 34)"
      ]
     },
     "execution_count": 30,
     "metadata": {},
     "output_type": "execute_result"
    }
   ],
   "source": [
    "# Drop unkown gender (no distribution on black people)\n",
    "data = data[data[\"Gender\"]!=\"U\"]\n",
    "np.shape(data)"
   ]
  },
  {
   "cell_type": "code",
   "execution_count": 31,
   "metadata": {},
   "outputs": [
    {
     "data": {
      "text/plain": [
       "(2271398, 34)"
      ]
     },
     "execution_count": 31,
     "metadata": {},
     "output_type": "execute_result"
    }
   ],
   "source": [
    "# Drop patients from out of state\n",
    "data = data[data[\"Zip Code - 3 digits\"]!=\"OOS\"]\n",
    "np.shape(data)"
   ]
  },
  {
   "cell_type": "code",
   "execution_count": 32,
   "metadata": {},
   "outputs": [
    {
     "name": "stdout",
     "output_type": "stream",
     "text": [
      "(2271398, 20)\n"
     ]
    }
   ],
   "source": [
    "droplist = [\"Discharge Year\", # only 2017\n",
    "            \"Zip Code - 3 digits\", # patients' code\n",
    "            \"Abortion Edit Indicator\", # after dropping na, only one value, N for no abortion.\n",
    "            \"Operating Certificate Number\", # assigned by NYS Department of Health\n",
    "            \"Permanent Facility Id\", # almost 1-to-1 correspondence to \"Facility Name\",\n",
    "            \"CCS Diagnosis Code\", # 1-to-1 correspondence to \"CCS Diagnosis Description\",\n",
    "            \"CCS Procedure Code\", # 1-to-1 correspondence to \"CCS Procedure Description\",\n",
    "            \"APR MDC Code\", # 1-to-1 correspondence to \"APR MDC Description\",\n",
    "            \"APR Severity of Illness Code\", # 1-to-1 correspondence to \"APR Severity of Illness Description\",\n",
    "            \"APR DRG Code\",# 1-to-1 correspondence to \"APR DRG Description\"\n",
    "            \"Payment Typology 1\", # Don't care payment type in cost bias\n",
    "            \"Payment Typology 2\",\n",
    "            \"Payment Typology 3\",\n",
    "            \"Total Costs\"]# Total estimated cost for the discharge, corr(charge,cost)~0.7\n",
    "data = data.drop(droplist, axis=1)\n",
    "print(np.shape(data))"
   ]
  },
  {
   "cell_type": "code",
   "execution_count": 33,
   "metadata": {},
   "outputs": [
    {
     "name": "stdout",
     "output_type": "stream",
     "text": [
      "(223087, 20)\n",
      "(215327, 20)\n"
     ]
    }
   ],
   "source": [
    "print(np.shape(data[data[\"Birth Weight\"].notnull()]))\n",
    "print(np.shape(data[data[\"CCS Diagnosis Description\"]==\"Liveborn\"]))"
   ]
  },
  {
   "cell_type": "code",
   "execution_count": 34,
   "metadata": {},
   "outputs": [
    {
     "data": {
      "text/plain": [
       "{'F', 'M'}"
      ]
     },
     "execution_count": 34,
     "metadata": {},
     "output_type": "execute_result"
    }
   ],
   "source": [
    "test = data[data[\"Birth Weight\"].notnull()]\n",
    "set(test[\"Gender\"])"
   ]
  },
  {
   "cell_type": "code",
   "execution_count": 35,
   "metadata": {},
   "outputs": [
    {
     "data": {
      "text/plain": [
       "{'F', 'M'}"
      ]
     },
     "execution_count": 35,
     "metadata": {},
     "output_type": "execute_result"
    }
   ],
   "source": [
    "test2 = data[data[\"CCS Diagnosis Description\"]==\"Liveborn\"]\n",
    "set(test2[\"Gender\"])"
   ]
  },
  {
   "cell_type": "code",
   "execution_count": 36,
   "metadata": {},
   "outputs": [
    {
     "data": {
      "text/plain": [
       "<matplotlib.axes._subplots.AxesSubplot at 0x12242ca20>"
      ]
     },
     "execution_count": 36,
     "metadata": {},
     "output_type": "execute_result"
    },
    {
     "data": {
      "image/png": "[encoded data removed]",
      "text/plain": [
       "<Figure size 432x288 with 1 Axes>"
      ]
     },
     "metadata": {},
     "output_type": "display_data"
    }
   ],
   "source": [
    "test[\"Gender\"].value_counts().plot(kind=\"pie\")"
   ]
  },
  {
   "cell_type": "code",
   "execution_count": 37,
   "metadata": {},
   "outputs": [
    {
     "data": {
      "text/plain": [
       "<matplotlib.axes._subplots.AxesSubplot at 0x12241cd68>"
      ]
     },
     "execution_count": 37,
     "metadata": {},
     "output_type": "execute_result"
    },
    {
     "data": {
      "image/png": "[encoded data removed]",
      "text/plain": [
       "<Figure size 432x288 with 1 Axes>"
      ]
     },
     "metadata": {},
     "output_type": "display_data"
    }
   ],
   "source": [
    "test2[\"Gender\"].value_counts().plot(kind=\"pie\")"
   ]
  },
  {
   "cell_type": "code",
   "execution_count": 38,
   "metadata": {},
   "outputs": [
    {
     "data": {
      "text/plain": [
       "0"
      ]
     },
     "execution_count": 38,
     "metadata": {},
     "output_type": "execute_result"
    }
   ],
   "source": [
    "len(test2[test2[\"Birth Weight\"].isna()])"
   ]
  },
  {
   "cell_type": "code",
   "execution_count": 39,
   "metadata": {},
   "outputs": [
    {
     "data": {
      "text/plain": [
       "<matplotlib.axes._subplots.AxesSubplot at 0x11feb3fd0>"
      ]
     },
     "execution_count": 39,
     "metadata": {},
     "output_type": "execute_result"
    },
    {
     "data": {
      "image/png": "[encoded data removed]",
      "text/plain": [
       "<Figure size 432x288 with 1 Axes>"
      ]
     },
     "metadata": {
      "needs_background": "light"
     },
     "output_type": "display_data"
    }
   ],
   "source": [
    "data[\"CCS Diagnosis Description\"].value_counts()[::-1][-8:].plot.barh()"
   ]
  },
  {
   "cell_type": "code",
   "execution_count": 40,
   "metadata": {},
   "outputs": [
    {
     "data": {
      "text/plain": [
       "<matplotlib.axes._subplots.AxesSubplot at 0x11fe08860>"
      ]
     },
     "execution_count": 40,
     "metadata": {},
     "output_type": "execute_result"
    },
    {
     "data": {
      "image/png": "[encoded data removed]",
      "text/plain": [
       "<Figure size 432x288 with 1 Axes>"
      ]
     },
     "metadata": {
      "needs_background": "light"
     },
     "output_type": "display_data"
    }
   ],
   "source": [
    "data[\"CCS Procedure Description\"].value_counts()[::-1][-8:].plot.barh()"
   ]
  },
  {
   "cell_type": "code",
   "execution_count": 41,
   "metadata": {},
   "outputs": [
    {
     "data": {
      "text/plain": [
       "<matplotlib.axes._subplots.AxesSubplot at 0x1201195f8>"
      ]
     },
     "execution_count": 41,
     "metadata": {},
     "output_type": "execute_result"
    },
    {
     "data": {
      "image/png": "[encoded data removed]",
      "text/plain": [
       "<Figure size 432x288 with 1 Axes>"
      ]
     },
     "metadata": {
      "needs_background": "light"
     },
     "output_type": "display_data"
    }
   ],
   "source": [
    "test2[\"CCS Procedure Description\"].value_counts()[::-1][-8:].plot.barh()"
   ]
  },
  {
   "cell_type": "code",
   "execution_count": 42,
   "metadata": {},
   "outputs": [
    {
     "data": {
      "text/plain": [
       "<matplotlib.axes._subplots.AxesSubplot at 0x1226d76a0>"
      ]
     },
     "execution_count": 42,
     "metadata": {},
     "output_type": "execute_result"
    },
    {
     "data": {
      "image/png": "[encoded data removed]",
      "text/plain": [
       "<Figure size 432x288 with 1 Axes>"
      ]
     },
     "metadata": {
      "needs_background": "light"
     },
     "output_type": "display_data"
    }
   ],
   "source": [
    "data[\"APR DRG Description\"].value_counts()[::-1][-8:].plot.barh()"
   ]
  },
  {
   "cell_type": "code",
   "execution_count": 43,
   "metadata": {},
   "outputs": [
    {
     "data": {
      "text/plain": [
       "<matplotlib.axes._subplots.AxesSubplot at 0x121d719e8>"
      ]
     },
     "execution_count": 43,
     "metadata": {},
     "output_type": "execute_result"
    },
    {
     "data": {
      "image/png": "[encoded data removed]",
      "text/plain": [
       "<Figure size 432x288 with 1 Axes>"
      ]
     },
     "metadata": {
      "needs_background": "light"
     },
     "output_type": "display_data"
    }
   ],
   "source": [
    "test2[\"APR DRG Description\"].value_counts()[::-1][-8:].plot.barh()"
   ]
  },
  {
   "cell_type": "code",
   "execution_count": 44,
   "metadata": {},
   "outputs": [
    {
     "data": {
      "text/plain": [
       "<matplotlib.axes._subplots.AxesSubplot at 0x11f6702e8>"
      ]
     },
     "execution_count": 44,
     "metadata": {},
     "output_type": "execute_result"
    },
    {
     "data": {
      "image/png": "[encoded data removed]",
      "text/plain": [
       "<Figure size 432x288 with 1 Axes>"
      ]
     },
     "metadata": {
      "needs_background": "light"
     },
     "output_type": "display_data"
    }
   ],
   "source": [
    "data[\"APR MDC Description\"].value_counts()[::-1][-8:].plot.barh()"
   ]
  },
  {
   "cell_type": "code",
   "execution_count": 45,
   "metadata": {},
   "outputs": [
    {
     "data": {
      "text/plain": [
       "<matplotlib.axes._subplots.AxesSubplot at 0x122aa92e8>"
      ]
     },
     "execution_count": 45,
     "metadata": {},
     "output_type": "execute_result"
    },
    {
     "data": {
      "image/png": "[encoded data removed]",
      "text/plain": [
       "<Figure size 432x288 with 1 Axes>"
      ]
     },
     "metadata": {
      "needs_background": "light"
     },
     "output_type": "display_data"
    }
   ],
   "source": [
    "test2[\"APR MDC Description\"].value_counts()[::-1][-8:].plot.barh()"
   ]
  },
  {
   "cell_type": "code",
   "execution_count": 46,
   "metadata": {},
   "outputs": [
    {
     "data": {
      "text/plain": [
       "Hospital Service Area                       8\n",
       "Hospital County                            50\n",
       "Facility Name                             125\n",
       "Age Group                                   1\n",
       "Gender                                      2\n",
       "Race                                        4\n",
       "Ethnicity                                   4\n",
       "Length of Stay                            120\n",
       "Type of Admission                           4\n",
       "Patient Disposition                        18\n",
       "CCS Diagnosis Description                   1\n",
       "CCS Procedure Description                 126\n",
       "APR DRG Description                        28\n",
       "APR MDC Description                         1\n",
       "APR Severity of Illness Description         4\n",
       "APR Risk of Mortality                       4\n",
       "APR Medical Surgical Description            2\n",
       "Birth Weight                              127\n",
       "Emergency Department Indicator              2\n",
       "Total Charges                          116457\n",
       "dtype: int64"
      ]
     },
     "execution_count": 46,
     "metadata": {},
     "output_type": "execute_result"
    }
   ],
   "source": [
    "test2.nunique()"
   ]
  },
  {
   "cell_type": "code",
   "execution_count": 47,
   "metadata": {},
   "outputs": [
    {
     "name": "stdout",
     "output_type": "stream",
     "text": [
      "(215327, 15)\n"
     ]
    }
   ],
   "source": [
    "droplist2 = [\"CCS Diagnosis Description\",\n",
    "             \"CCS Procedure Description\",\n",
    "             \"Age Group\",\n",
    "             \"APR DRG Description\",\n",
    "             \"APR MDC Description\"\n",
    "            ]\n",
    "test2 = test2.drop(droplist2, axis=1)\n",
    "print(np.shape(test2))"
   ]
  },
  {
   "cell_type": "code",
   "execution_count": 48,
   "metadata": {},
   "outputs": [
    {
     "data": {
      "text/plain": [
       "Hospital Service Area                       8\n",
       "Hospital County                            50\n",
       "Facility Name                             125\n",
       "Gender                                      2\n",
       "Race                                        4\n",
       "Ethnicity                                   4\n",
       "Length of Stay                            120\n",
       "Type of Admission                           4\n",
       "Patient Disposition                        18\n",
       "APR Severity of Illness Description         4\n",
       "APR Risk of Mortality                       4\n",
       "APR Medical Surgical Description            2\n",
       "Birth Weight                              127\n",
       "Emergency Department Indicator              2\n",
       "Total Charges                          116457\n",
       "dtype: int64"
      ]
     },
     "execution_count": 48,
     "metadata": {},
     "output_type": "execute_result"
    }
   ],
   "source": [
    "test2.nunique()"
   ]
  },
  {
   "cell_type": "code",
   "execution_count": 50,
   "metadata": {},
   "outputs": [
    {
     "data": {
      "text/plain": [
       "<matplotlib.axes._subplots.AxesSubplot at 0x1231bda58>"
      ]
     },
     "execution_count": 50,
     "metadata": {},
     "output_type": "execute_result"
    },
    {
     "data": {
      "image/png": "[encoded data removed]",
      "text/plain": [
       "<Figure size 432x288 with 1 Axes>"
      ]
     },
     "metadata": {},
     "output_type": "display_data"
    }
   ],
   "source": [
    "test2[\"Race\"].value_counts().plot(kind=\"pie\")"
   ]
  },
  {
   "cell_type": "code",
   "execution_count": 54,
   "metadata": {},
   "outputs": [
    {
     "data": {
      "text/plain": [
       "<matplotlib.axes._subplots.AxesSubplot at 0x1200c1c50>"
      ]
     },
     "execution_count": 54,
     "metadata": {},
     "output_type": "execute_result"
    },
    {
     "data": {
      "image/png": "[encoded data removed]",
      "text/plain": [
       "<Figure size 432x288 with 1 Axes>"
      ]
     },
     "metadata": {
      "needs_background": "light"
     },
     "output_type": "display_data"
    }
   ],
   "source": [
    "test2[\"Birth Weight\"].value_counts()[::-1][-8:].plot.barh()"
   ]
  },
  {
   "cell_type": "code",
   "execution_count": 52,
   "metadata": {},
   "outputs": [
    {
     "data": {
      "text/plain": [
       "{'Capital/Adirond',\n",
       " 'Central NY',\n",
       " 'Finger Lakes',\n",
       " 'Hudson Valley',\n",
       " 'Long Island',\n",
       " 'New York City',\n",
       " 'Southern Tier',\n",
       " 'Western NY'}"
      ]
     },
     "execution_count": 52,
     "metadata": {},
     "output_type": "execute_result"
    }
   ],
   "source": [
    "set(test2[\"Hospital Service Area\"])"
   ]
  },
  {
   "cell_type": "code",
   "execution_count": 53,
   "metadata": {},
   "outputs": [
    {
     "data": {
      "text/html": [
       "<div>\n",
       "<style scoped>\n",
       "    .dataframe tbody tr th:only-of-type {\n",
       "        vertical-align: middle;\n",
       "    }\n",
       "\n",
       "    .dataframe tbody tr th {\n",
       "        vertical-align: top;\n",
       "    }\n",
       "\n",
       "    .dataframe thead th {\n",
       "        text-align: right;\n",
       "    }\n",
       "</style>\n",
       "<table border=\"1\" class=\"dataframe\">\n",
       "  <thead>\n",
       "    <tr style=\"text-align: right;\">\n",
       "      <th></th>\n",
       "      <th>Hospital Service Area</th>\n",
       "      <th>Hospital County</th>\n",
       "      <th>Facility Name</th>\n",
       "      <th>Gender</th>\n",
       "      <th>Race</th>\n",
       "      <th>Ethnicity</th>\n",
       "      <th>Length of Stay</th>\n",
       "      <th>Type of Admission</th>\n",
       "      <th>Patient Disposition</th>\n",
       "      <th>APR Severity of Illness Description</th>\n",
       "      <th>APR Risk of Mortality</th>\n",
       "      <th>APR Medical Surgical Description</th>\n",
       "      <th>Birth Weight</th>\n",
       "      <th>Emergency Department Indicator</th>\n",
       "      <th>Total Charges</th>\n",
       "    </tr>\n",
       "  </thead>\n",
       "  <tbody>\n",
       "    <tr>\n",
       "      <td>Hospital Service Area</td>\n",
       "      <td>1.000000</td>\n",
       "      <td>0.495469</td>\n",
       "      <td>0.190486</td>\n",
       "      <td>0.002076</td>\n",
       "      <td>0.213274</td>\n",
       "      <td>-0.041383</td>\n",
       "      <td>0.011755</td>\n",
       "      <td>-0.028432</td>\n",
       "      <td>0.054709</td>\n",
       "      <td>-0.014991</td>\n",
       "      <td>-0.002127</td>\n",
       "      <td>-0.006376</td>\n",
       "      <td>-0.054511</td>\n",
       "      <td>-0.003033</td>\n",
       "      <td>0.099982</td>\n",
       "    </tr>\n",
       "    <tr>\n",
       "      <td>Hospital County</td>\n",
       "      <td>0.495469</td>\n",
       "      <td>1.000000</td>\n",
       "      <td>0.470559</td>\n",
       "      <td>-0.000976</td>\n",
       "      <td>0.185273</td>\n",
       "      <td>0.077829</td>\n",
       "      <td>-0.023343</td>\n",
       "      <td>-0.041317</td>\n",
       "      <td>0.043245</td>\n",
       "      <td>-0.038319</td>\n",
       "      <td>-0.022945</td>\n",
       "      <td>-0.015992</td>\n",
       "      <td>-0.011630</td>\n",
       "      <td>-0.003673</td>\n",
       "      <td>0.140187</td>\n",
       "    </tr>\n",
       "    <tr>\n",
       "      <td>Facility Name</td>\n",
       "      <td>0.190486</td>\n",
       "      <td>0.470559</td>\n",
       "      <td>1.000000</td>\n",
       "      <td>0.003018</td>\n",
       "      <td>0.016420</td>\n",
       "      <td>-0.053648</td>\n",
       "      <td>-0.003227</td>\n",
       "      <td>-0.037993</td>\n",
       "      <td>0.010009</td>\n",
       "      <td>-0.028671</td>\n",
       "      <td>-0.009027</td>\n",
       "      <td>-0.008086</td>\n",
       "      <td>-0.031026</td>\n",
       "      <td>-0.006587</td>\n",
       "      <td>0.113058</td>\n",
       "    </tr>\n",
       "    <tr>\n",
       "      <td>Gender</td>\n",
       "      <td>0.002076</td>\n",
       "      <td>-0.000976</td>\n",
       "      <td>0.003018</td>\n",
       "      <td>1.000000</td>\n",
       "      <td>0.001189</td>\n",
       "      <td>-0.002032</td>\n",
       "      <td>-0.013827</td>\n",
       "      <td>0.000180</td>\n",
       "      <td>-0.005484</td>\n",
       "      <td>-0.024493</td>\n",
       "      <td>-0.017114</td>\n",
       "      <td>-0.008369</td>\n",
       "      <td>-0.015663</td>\n",
       "      <td>-0.000944</td>\n",
       "      <td>-0.048808</td>\n",
       "    </tr>\n",
       "    <tr>\n",
       "      <td>Race</td>\n",
       "      <td>0.213274</td>\n",
       "      <td>0.185273</td>\n",
       "      <td>0.016420</td>\n",
       "      <td>0.001189</td>\n",
       "      <td>1.000000</td>\n",
       "      <td>0.011018</td>\n",
       "      <td>-0.014198</td>\n",
       "      <td>0.005659</td>\n",
       "      <td>-0.033863</td>\n",
       "      <td>-0.037366</td>\n",
       "      <td>-0.020697</td>\n",
       "      <td>-0.000907</td>\n",
       "      <td>-0.041915</td>\n",
       "      <td>-0.004525</td>\n",
       "      <td>0.025571</td>\n",
       "    </tr>\n",
       "    <tr>\n",
       "      <td>Ethnicity</td>\n",
       "      <td>-0.041383</td>\n",
       "      <td>0.077829</td>\n",
       "      <td>-0.053648</td>\n",
       "      <td>-0.002032</td>\n",
       "      <td>0.011018</td>\n",
       "      <td>1.000000</td>\n",
       "      <td>-0.000625</td>\n",
       "      <td>-0.016642</td>\n",
       "      <td>0.017595</td>\n",
       "      <td>0.011764</td>\n",
       "      <td>0.003225</td>\n",
       "      <td>0.000338</td>\n",
       "      <td>-0.003277</td>\n",
       "      <td>0.001979</td>\n",
       "      <td>0.047864</td>\n",
       "    </tr>\n",
       "    <tr>\n",
       "      <td>Length of Stay</td>\n",
       "      <td>0.011755</td>\n",
       "      <td>-0.023343</td>\n",
       "      <td>-0.003227</td>\n",
       "      <td>-0.013827</td>\n",
       "      <td>-0.014198</td>\n",
       "      <td>-0.000625</td>\n",
       "      <td>1.000000</td>\n",
       "      <td>0.004012</td>\n",
       "      <td>0.228843</td>\n",
       "      <td>0.395901</td>\n",
       "      <td>0.426407</td>\n",
       "      <td>0.231546</td>\n",
       "      <td>0.086049</td>\n",
       "      <td>0.011479</td>\n",
       "      <td>0.094622</td>\n",
       "    </tr>\n",
       "    <tr>\n",
       "      <td>Type of Admission</td>\n",
       "      <td>-0.028432</td>\n",
       "      <td>-0.041317</td>\n",
       "      <td>-0.037993</td>\n",
       "      <td>0.000180</td>\n",
       "      <td>0.005659</td>\n",
       "      <td>-0.016642</td>\n",
       "      <td>0.004012</td>\n",
       "      <td>1.000000</td>\n",
       "      <td>-0.000504</td>\n",
       "      <td>-0.001649</td>\n",
       "      <td>0.000839</td>\n",
       "      <td>-0.000831</td>\n",
       "      <td>0.073777</td>\n",
       "      <td>0.169880</td>\n",
       "      <td>0.018976</td>\n",
       "    </tr>\n",
       "    <tr>\n",
       "      <td>Patient Disposition</td>\n",
       "      <td>0.054709</td>\n",
       "      <td>0.043245</td>\n",
       "      <td>0.010009</td>\n",
       "      <td>-0.005484</td>\n",
       "      <td>-0.033863</td>\n",
       "      <td>0.017595</td>\n",
       "      <td>0.228843</td>\n",
       "      <td>-0.000504</td>\n",
       "      <td>1.000000</td>\n",
       "      <td>0.217908</td>\n",
       "      <td>0.302983</td>\n",
       "      <td>0.133283</td>\n",
       "      <td>0.049997</td>\n",
       "      <td>0.011976</td>\n",
       "      <td>0.048183</td>\n",
       "    </tr>\n",
       "    <tr>\n",
       "      <td>APR Severity of Illness Description</td>\n",
       "      <td>-0.014991</td>\n",
       "      <td>-0.038319</td>\n",
       "      <td>-0.028671</td>\n",
       "      <td>-0.024493</td>\n",
       "      <td>-0.037366</td>\n",
       "      <td>0.011764</td>\n",
       "      <td>0.395901</td>\n",
       "      <td>-0.001649</td>\n",
       "      <td>0.217908</td>\n",
       "      <td>1.000000</td>\n",
       "      <td>0.448274</td>\n",
       "      <td>0.177029</td>\n",
       "      <td>0.067157</td>\n",
       "      <td>0.017340</td>\n",
       "      <td>0.138006</td>\n",
       "    </tr>\n",
       "    <tr>\n",
       "      <td>APR Risk of Mortality</td>\n",
       "      <td>-0.002127</td>\n",
       "      <td>-0.022945</td>\n",
       "      <td>-0.009027</td>\n",
       "      <td>-0.017114</td>\n",
       "      <td>-0.020697</td>\n",
       "      <td>0.003225</td>\n",
       "      <td>0.426407</td>\n",
       "      <td>0.000839</td>\n",
       "      <td>0.302983</td>\n",
       "      <td>0.448274</td>\n",
       "      <td>1.000000</td>\n",
       "      <td>0.335178</td>\n",
       "      <td>0.070917</td>\n",
       "      <td>0.018213</td>\n",
       "      <td>0.054619</td>\n",
       "    </tr>\n",
       "    <tr>\n",
       "      <td>APR Medical Surgical Description</td>\n",
       "      <td>-0.006376</td>\n",
       "      <td>-0.015992</td>\n",
       "      <td>-0.008086</td>\n",
       "      <td>-0.008369</td>\n",
       "      <td>-0.000907</td>\n",
       "      <td>0.000338</td>\n",
       "      <td>0.231546</td>\n",
       "      <td>-0.000831</td>\n",
       "      <td>0.133283</td>\n",
       "      <td>0.177029</td>\n",
       "      <td>0.335178</td>\n",
       "      <td>1.000000</td>\n",
       "      <td>0.019158</td>\n",
       "      <td>0.000899</td>\n",
       "      <td>0.033577</td>\n",
       "    </tr>\n",
       "    <tr>\n",
       "      <td>Birth Weight</td>\n",
       "      <td>-0.054511</td>\n",
       "      <td>-0.011630</td>\n",
       "      <td>-0.031026</td>\n",
       "      <td>-0.015663</td>\n",
       "      <td>-0.041915</td>\n",
       "      <td>-0.003277</td>\n",
       "      <td>0.086049</td>\n",
       "      <td>0.073777</td>\n",
       "      <td>0.049997</td>\n",
       "      <td>0.067157</td>\n",
       "      <td>0.070917</td>\n",
       "      <td>0.019158</td>\n",
       "      <td>1.000000</td>\n",
       "      <td>0.004000</td>\n",
       "      <td>0.314564</td>\n",
       "    </tr>\n",
       "    <tr>\n",
       "      <td>Emergency Department Indicator</td>\n",
       "      <td>-0.003033</td>\n",
       "      <td>-0.003673</td>\n",
       "      <td>-0.006587</td>\n",
       "      <td>-0.000944</td>\n",
       "      <td>-0.004525</td>\n",
       "      <td>0.001979</td>\n",
       "      <td>0.011479</td>\n",
       "      <td>0.169880</td>\n",
       "      <td>0.011976</td>\n",
       "      <td>0.017340</td>\n",
       "      <td>0.018213</td>\n",
       "      <td>0.000899</td>\n",
       "      <td>0.004000</td>\n",
       "      <td>1.000000</td>\n",
       "      <td>0.017764</td>\n",
       "    </tr>\n",
       "    <tr>\n",
       "      <td>Total Charges</td>\n",
       "      <td>0.099982</td>\n",
       "      <td>0.140187</td>\n",
       "      <td>0.113058</td>\n",
       "      <td>-0.048808</td>\n",
       "      <td>0.025571</td>\n",
       "      <td>0.047864</td>\n",
       "      <td>0.094622</td>\n",
       "      <td>0.018976</td>\n",
       "      <td>0.048183</td>\n",
       "      <td>0.138006</td>\n",
       "      <td>0.054619</td>\n",
       "      <td>0.033577</td>\n",
       "      <td>0.314564</td>\n",
       "      <td>0.017764</td>\n",
       "      <td>1.000000</td>\n",
       "    </tr>\n",
       "  </tbody>\n",
       "</table>\n",
       "</div>"
      ],
      "text/plain": [
       "                                     Hospital Service Area  Hospital County  \\\n",
       "Hospital Service Area                             1.000000         0.495469   \n",
       "Hospital County                                   0.495469         1.000000   \n",
       "Facility Name                                     0.190486         0.470559   \n",
       "Gender                                            0.002076        -0.000976   \n",
       "Race                                              0.213274         0.185273   \n",
       "Ethnicity                                        -0.041383         0.077829   \n",
       "Length of Stay                                    0.011755        -0.023343   \n",
       "Type of Admission                                -0.028432        -0.041317   \n",
       "Patient Disposition                               0.054709         0.043245   \n",
       "APR Severity of Illness Description              -0.014991        -0.038319   \n",
       "APR Risk of Mortality                            -0.002127        -0.022945   \n",
       "APR Medical Surgical Description                 -0.006376        -0.015992   \n",
       "Birth Weight                                     -0.054511        -0.011630   \n",
       "Emergency Department Indicator                   -0.003033        -0.003673   \n",
       "Total Charges                                     0.099982         0.140187   \n",
       "\n",
       "                                     Facility Name    Gender      Race  \\\n",
       "Hospital Service Area                     0.190486  0.002076  0.213274   \n",
       "Hospital County                           0.470559 -0.000976  0.185273   \n",
       "Facility Name                             1.000000  0.003018  0.016420   \n",
       "Gender                                    0.003018  1.000000  0.001189   \n",
       "Race                                      0.016420  0.001189  1.000000   \n",
       "Ethnicity                                -0.053648 -0.002032  0.011018   \n",
       "Length of Stay                           -0.003227 -0.013827 -0.014198   \n",
       "Type of Admission                        -0.037993  0.000180  0.005659   \n",
       "Patient Disposition                       0.010009 -0.005484 -0.033863   \n",
       "APR Severity of Illness Description      -0.028671 -0.024493 -0.037366   \n",
       "APR Risk of Mortality                    -0.009027 -0.017114 -0.020697   \n",
       "APR Medical Surgical Description         -0.008086 -0.008369 -0.000907   \n",
       "Birth Weight                             -0.031026 -0.015663 -0.041915   \n",
       "Emergency Department Indicator           -0.006587 -0.000944 -0.004525   \n",
       "Total Charges                             0.113058 -0.048808  0.025571   \n",
       "\n",
       "                                     Ethnicity  Length of Stay  \\\n",
       "Hospital Service Area                -0.041383        0.011755   \n",
       "Hospital County                       0.077829       -0.023343   \n",
       "Facility Name                        -0.053648       -0.003227   \n",
       "Gender                               -0.002032       -0.013827   \n",
       "Race                                  0.011018       -0.014198   \n",
       "Ethnicity                             1.000000       -0.000625   \n",
       "Length of Stay                       -0.000625        1.000000   \n",
       "Type of Admission                    -0.016642        0.004012   \n",
       "Patient Disposition                   0.017595        0.228843   \n",
       "APR Severity of Illness Description   0.011764        0.395901   \n",
       "APR Risk of Mortality                 0.003225        0.426407   \n",
       "APR Medical Surgical Description      0.000338        0.231546   \n",
       "Birth Weight                         -0.003277        0.086049   \n",
       "Emergency Department Indicator        0.001979        0.011479   \n",
       "Total Charges                         0.047864        0.094622   \n",
       "\n",
       "                                     Type of Admission  Patient Disposition  \\\n",
       "Hospital Service Area                        -0.028432             0.054709   \n",
       "Hospital County                              -0.041317             0.043245   \n",
       "Facility Name                                -0.037993             0.010009   \n",
       "Gender                                        0.000180            -0.005484   \n",
       "Race                                          0.005659            -0.033863   \n",
       "Ethnicity                                    -0.016642             0.017595   \n",
       "Length of Stay                                0.004012             0.228843   \n",
       "Type of Admission                             1.000000            -0.000504   \n",
       "Patient Disposition                          -0.000504             1.000000   \n",
       "APR Severity of Illness Description          -0.001649             0.217908   \n",
       "APR Risk of Mortality                         0.000839             0.302983   \n",
       "APR Medical Surgical Description             -0.000831             0.133283   \n",
       "Birth Weight                                  0.073777             0.049997   \n",
       "Emergency Department Indicator                0.169880             0.011976   \n",
       "Total Charges                                 0.018976             0.048183   \n",
       "\n",
       "                                     APR Severity of Illness Description  \\\n",
       "Hospital Service Area                                          -0.014991   \n",
       "Hospital County                                                -0.038319   \n",
       "Facility Name                                                  -0.028671   \n",
       "Gender                                                         -0.024493   \n",
       "Race                                                           -0.037366   \n",
       "Ethnicity                                                       0.011764   \n",
       "Length of Stay                                                  0.395901   \n",
       "Type of Admission                                              -0.001649   \n",
       "Patient Disposition                                             0.217908   \n",
       "APR Severity of Illness Description                             1.000000   \n",
       "APR Risk of Mortality                                           0.448274   \n",
       "APR Medical Surgical Description                                0.177029   \n",
       "Birth Weight                                                    0.067157   \n",
       "Emergency Department Indicator                                  0.017340   \n",
       "Total Charges                                                   0.138006   \n",
       "\n",
       "                                     APR Risk of Mortality  \\\n",
       "Hospital Service Area                            -0.002127   \n",
       "Hospital County                                  -0.022945   \n",
       "Facility Name                                    -0.009027   \n",
       "Gender                                           -0.017114   \n",
       "Race                                             -0.020697   \n",
       "Ethnicity                                         0.003225   \n",
       "Length of Stay                                    0.426407   \n",
       "Type of Admission                                 0.000839   \n",
       "Patient Disposition                               0.302983   \n",
       "APR Severity of Illness Description               0.448274   \n",
       "APR Risk of Mortality                             1.000000   \n",
       "APR Medical Surgical Description                  0.335178   \n",
       "Birth Weight                                      0.070917   \n",
       "Emergency Department Indicator                    0.018213   \n",
       "Total Charges                                     0.054619   \n",
       "\n",
       "                                     APR Medical Surgical Description  \\\n",
       "Hospital Service Area                                       -0.006376   \n",
       "Hospital County                                             -0.015992   \n",
       "Facility Name                                               -0.008086   \n",
       "Gender                                                      -0.008369   \n",
       "Race                                                        -0.000907   \n",
       "Ethnicity                                                    0.000338   \n",
       "Length of Stay                                               0.231546   \n",
       "Type of Admission                                           -0.000831   \n",
       "Patient Disposition                                          0.133283   \n",
       "APR Severity of Illness Description                          0.177029   \n",
       "APR Risk of Mortality                                        0.335178   \n",
       "APR Medical Surgical Description                             1.000000   \n",
       "Birth Weight                                                 0.019158   \n",
       "Emergency Department Indicator                               0.000899   \n",
       "Total Charges                                                0.033577   \n",
       "\n",
       "                                     Birth Weight  \\\n",
       "Hospital Service Area                   -0.054511   \n",
       "Hospital County                         -0.011630   \n",
       "Facility Name                           -0.031026   \n",
       "Gender                                  -0.015663   \n",
       "Race                                    -0.041915   \n",
       "Ethnicity                               -0.003277   \n",
       "Length of Stay                           0.086049   \n",
       "Type of Admission                        0.073777   \n",
       "Patient Disposition                      0.049997   \n",
       "APR Severity of Illness Description      0.067157   \n",
       "APR Risk of Mortality                    0.070917   \n",
       "APR Medical Surgical Description         0.019158   \n",
       "Birth Weight                             1.000000   \n",
       "Emergency Department Indicator           0.004000   \n",
       "Total Charges                            0.314564   \n",
       "\n",
       "                                     Emergency Department Indicator  \\\n",
       "Hospital Service Area                                     -0.003033   \n",
       "Hospital County                                           -0.003673   \n",
       "Facility Name                                             -0.006587   \n",
       "Gender                                                    -0.000944   \n",
       "Race                                                      -0.004525   \n",
       "Ethnicity                                                  0.001979   \n",
       "Length of Stay                                             0.011479   \n",
       "Type of Admission                                          0.169880   \n",
       "Patient Disposition                                        0.011976   \n",
       "APR Severity of Illness Description                        0.017340   \n",
       "APR Risk of Mortality                                      0.018213   \n",
       "APR Medical Surgical Description                           0.000899   \n",
       "Birth Weight                                               0.004000   \n",
       "Emergency Department Indicator                             1.000000   \n",
       "Total Charges                                              0.017764   \n",
       "\n",
       "                                     Total Charges  \n",
       "Hospital Service Area                     0.099982  \n",
       "Hospital County                           0.140187  \n",
       "Facility Name                             0.113058  \n",
       "Gender                                   -0.048808  \n",
       "Race                                      0.025571  \n",
       "Ethnicity                                 0.047864  \n",
       "Length of Stay                            0.094622  \n",
       "Type of Admission                         0.018976  \n",
       "Patient Disposition                       0.048183  \n",
       "APR Severity of Illness Description       0.138006  \n",
       "APR Risk of Mortality                     0.054619  \n",
       "APR Medical Surgical Description          0.033577  \n",
       "Birth Weight                              0.314564  \n",
       "Emergency Department Indicator            0.017764  \n",
       "Total Charges                             1.000000  "
      ]
     },
     "execution_count": 53,
     "metadata": {},
     "output_type": "execute_result"
    }
   ],
   "source": [
    "test2.apply(lambda x : pd.factorize(x)[0]).corr(method='pearson', min_periods=1)"
   ]
  },
  {
   "cell_type": "code",
   "execution_count": 55,
   "metadata": {},
   "outputs": [
    {
     "data": {
      "text/plain": [
       "20         Minor\n",
       "55         Minor\n",
       "59         Minor\n",
       "73         Minor\n",
       "81         Minor\n",
       "           ...  \n",
       "2343103    Minor\n",
       "2343144    Major\n",
       "2343311    Minor\n",
       "2343321    Minor\n",
       "2343374    Minor\n",
       "Name: APR Severity of Illness Description, Length: 215327, dtype: object"
      ]
     },
     "execution_count": 55,
     "metadata": {},
     "output_type": "execute_result"
    }
   ],
   "source": [
    "test2[\"APR Severity of Illness Description\"]"
   ]
  },
  {
   "cell_type": "code",
   "execution_count": 58,
   "metadata": {},
   "outputs": [
    {
     "data": {
      "text/plain": [
       "Hospital Service Area                   object\n",
       "Hospital County                         object\n",
       "Facility Name                           object\n",
       "Gender                                  object\n",
       "Race                                    object\n",
       "Ethnicity                               object\n",
       "Length of Stay                          object\n",
       "Type of Admission                       object\n",
       "Patient Disposition                     object\n",
       "APR Severity of Illness Description     object\n",
       "APR Risk of Mortality                   object\n",
       "APR Medical Surgical Description        object\n",
       "Birth Weight                            object\n",
       "Emergency Department Indicator          object\n",
       "Total Charges                          float64\n",
       "dtype: object"
      ]
     },
     "execution_count": 58,
     "metadata": {},
     "output_type": "execute_result"
    }
   ],
   "source": [
    "test2.dtypes"
   ]
  },
  {
   "cell_type": "code",
   "execution_count": 60,
   "metadata": {},
   "outputs": [
    {
     "data": {
      "text/plain": [
       "(423, 15)"
      ]
     },
     "execution_count": 60,
     "metadata": {},
     "output_type": "execute_result"
    }
   ],
   "source": [
    "np.shape(test2[test2[\"Birth Weight\"]==\"UNKN\"])"
   ]
  },
  {
   "cell_type": "code",
   "execution_count": 61,
   "metadata": {},
   "outputs": [],
   "source": [
    "test2 = test2[test2[\"Birth Weight\"]!=\"UNKN\"]"
   ]
  },
  {
   "cell_type": "code",
   "execution_count": 63,
   "metadata": {},
   "outputs": [
    {
     "name": "stderr",
     "output_type": "stream",
     "text": [
      "/Users/mac/anaconda3/lib/python3.6/site-packages/ipykernel_launcher.py:1: SettingWithCopyWarning: \n",
      "A value is trying to be set on a copy of a slice from a DataFrame.\n",
      "Try using .loc[row_indexer,col_indexer] = value instead\n",
      "\n",
      "See the caveats in the documentation: http://pandas.pydata.org/pandas-docs/stable/user_guide/indexing.html#returning-a-view-versus-a-copy\n",
      "  \"\"\"Entry point for launching an IPython kernel.\n"
     ]
    }
   ],
   "source": [
    "test2[\"Birth Weight\"] = test2[\"Birth Weight\"].apply(pd.to_numeric)"
   ]
  },
  {
   "cell_type": "code",
   "execution_count": 68,
   "metadata": {},
   "outputs": [
    {
     "data": {
      "text/plain": [
       "(208, 15)"
      ]
     },
     "execution_count": 68,
     "metadata": {},
     "output_type": "execute_result"
    }
   ],
   "source": [
    "np.shape(test2[test2[\"Length of Stay\"]==\"120 +\"])"
   ]
  },
  {
   "cell_type": "code",
   "execution_count": 69,
   "metadata": {},
   "outputs": [],
   "source": [
    "test2 = test2[test2[\"Length of Stay\"]!=\"120 +\"]"
   ]
  },
  {
   "cell_type": "code",
   "execution_count": 73,
   "metadata": {},
   "outputs": [
    {
     "name": "stderr",
     "output_type": "stream",
     "text": [
      "/Users/mac/anaconda3/lib/python3.6/site-packages/ipykernel_launcher.py:1: SettingWithCopyWarning: \n",
      "A value is trying to be set on a copy of a slice from a DataFrame.\n",
      "Try using .loc[row_indexer,col_indexer] = value instead\n",
      "\n",
      "See the caveats in the documentation: http://pandas.pydata.org/pandas-docs/stable/user_guide/indexing.html#returning-a-view-versus-a-copy\n",
      "  \"\"\"Entry point for launching an IPython kernel.\n"
     ]
    }
   ],
   "source": [
    "test2[\"Length of Stay\"] = test2[\"Length of Stay\"].apply(pd.to_numeric)"
   ]
  },
  {
   "cell_type": "code",
   "execution_count": 74,
   "metadata": {},
   "outputs": [
    {
     "data": {
      "text/plain": [
       "Hospital Service Area                   object\n",
       "Hospital County                         object\n",
       "Facility Name                           object\n",
       "Gender                                  object\n",
       "Race                                    object\n",
       "Ethnicity                               object\n",
       "Length of Stay                           int64\n",
       "Type of Admission                       object\n",
       "Patient Disposition                     object\n",
       "APR Severity of Illness Description     object\n",
       "APR Risk of Mortality                   object\n",
       "APR Medical Surgical Description        object\n",
       "Birth Weight                           float64\n",
       "Emergency Department Indicator          object\n",
       "Total Charges                          float64\n",
       "dtype: object"
      ]
     },
     "execution_count": 74,
     "metadata": {},
     "output_type": "execute_result"
    }
   ],
   "source": [
    "test2.dtypes"
   ]
  },
  {
   "cell_type": "code",
   "execution_count": 72,
   "metadata": {},
   "outputs": [
    {
     "data": {
      "text/plain": [
       "(214696, 15)"
      ]
     },
     "execution_count": 72,
     "metadata": {},
     "output_type": "execute_result"
    }
   ],
   "source": [
    "np.shape(test2)"
   ]
  },
  {
   "cell_type": "markdown",
   "metadata": {},
   "source": [
    "# average the charge"
   ]
  },
  {
   "cell_type": "code",
   "execution_count": 80,
   "metadata": {},
   "outputs": [
    {
     "name": "stderr",
     "output_type": "stream",
     "text": [
      "/Users/mac/anaconda3/lib/python3.6/site-packages/ipykernel_launcher.py:2: SettingWithCopyWarning: \n",
      "A value is trying to be set on a copy of a slice from a DataFrame.\n",
      "Try using .loc[row_indexer,col_indexer] = value instead\n",
      "\n",
      "See the caveats in the documentation: http://pandas.pydata.org/pandas-docs/stable/user_guide/indexing.html#returning-a-view-versus-a-copy\n",
      "  \n"
     ]
    },
    {
     "data": {
      "text/html": [
       "<div>\n",
       "<style scoped>\n",
       "    .dataframe tbody tr th:only-of-type {\n",
       "        vertical-align: middle;\n",
       "    }\n",
       "\n",
       "    .dataframe tbody tr th {\n",
       "        vertical-align: top;\n",
       "    }\n",
       "\n",
       "    .dataframe thead th {\n",
       "        text-align: right;\n",
       "    }\n",
       "</style>\n",
       "<table border=\"1\" class=\"dataframe\">\n",
       "  <thead>\n",
       "    <tr style=\"text-align: right;\">\n",
       "      <th></th>\n",
       "      <th>Hospital Service Area</th>\n",
       "      <th>Hospital County</th>\n",
       "      <th>Facility Name</th>\n",
       "      <th>Gender</th>\n",
       "      <th>Race</th>\n",
       "      <th>Ethnicity</th>\n",
       "      <th>Length of Stay</th>\n",
       "      <th>Type of Admission</th>\n",
       "      <th>Patient Disposition</th>\n",
       "      <th>APR Severity of Illness Description</th>\n",
       "      <th>APR Risk of Mortality</th>\n",
       "      <th>APR Medical Surgical Description</th>\n",
       "      <th>Birth Weight</th>\n",
       "      <th>Emergency Department Indicator</th>\n",
       "      <th>Total Charges</th>\n",
       "      <th>Average Charges</th>\n",
       "    </tr>\n",
       "  </thead>\n",
       "  <tbody>\n",
       "    <tr>\n",
       "      <td>20</td>\n",
       "      <td>Hudson Valley</td>\n",
       "      <td>Westchester</td>\n",
       "      <td>Montefiore New Rochelle Hospital</td>\n",
       "      <td>M</td>\n",
       "      <td>Other Race</td>\n",
       "      <td>Spanish/Hispanic</td>\n",
       "      <td>2</td>\n",
       "      <td>Newborn</td>\n",
       "      <td>Home or Self Care</td>\n",
       "      <td>Minor</td>\n",
       "      <td>Minor</td>\n",
       "      <td>Medical</td>\n",
       "      <td>3300.0</td>\n",
       "      <td>N</td>\n",
       "      <td>7247.00</td>\n",
       "      <td>3623.500000</td>\n",
       "    </tr>\n",
       "    <tr>\n",
       "      <td>55</td>\n",
       "      <td>Hudson Valley</td>\n",
       "      <td>Sullivan</td>\n",
       "      <td>Catskill Regional Medical Center</td>\n",
       "      <td>M</td>\n",
       "      <td>Black/African American</td>\n",
       "      <td>Spanish/Hispanic</td>\n",
       "      <td>3</td>\n",
       "      <td>Newborn</td>\n",
       "      <td>Home or Self Care</td>\n",
       "      <td>Minor</td>\n",
       "      <td>Minor</td>\n",
       "      <td>Medical</td>\n",
       "      <td>3100.0</td>\n",
       "      <td>N</td>\n",
       "      <td>7901.91</td>\n",
       "      <td>2633.970000</td>\n",
       "    </tr>\n",
       "    <tr>\n",
       "      <td>59</td>\n",
       "      <td>Hudson Valley</td>\n",
       "      <td>Sullivan</td>\n",
       "      <td>Catskill Regional Medical Center</td>\n",
       "      <td>M</td>\n",
       "      <td>White</td>\n",
       "      <td>Not Span/Hispanic</td>\n",
       "      <td>3</td>\n",
       "      <td>Newborn</td>\n",
       "      <td>Home or Self Care</td>\n",
       "      <td>Minor</td>\n",
       "      <td>Minor</td>\n",
       "      <td>Medical</td>\n",
       "      <td>3000.0</td>\n",
       "      <td>N</td>\n",
       "      <td>7013.82</td>\n",
       "      <td>2337.940000</td>\n",
       "    </tr>\n",
       "    <tr>\n",
       "      <td>73</td>\n",
       "      <td>Hudson Valley</td>\n",
       "      <td>Sullivan</td>\n",
       "      <td>Catskill Regional Medical Center</td>\n",
       "      <td>F</td>\n",
       "      <td>White</td>\n",
       "      <td>Not Span/Hispanic</td>\n",
       "      <td>2</td>\n",
       "      <td>Newborn</td>\n",
       "      <td>Home or Self Care</td>\n",
       "      <td>Minor</td>\n",
       "      <td>Minor</td>\n",
       "      <td>Medical</td>\n",
       "      <td>3300.0</td>\n",
       "      <td>N</td>\n",
       "      <td>4943.06</td>\n",
       "      <td>2471.530000</td>\n",
       "    </tr>\n",
       "    <tr>\n",
       "      <td>81</td>\n",
       "      <td>Hudson Valley</td>\n",
       "      <td>Sullivan</td>\n",
       "      <td>Catskill Regional Medical Center</td>\n",
       "      <td>M</td>\n",
       "      <td>White</td>\n",
       "      <td>Not Span/Hispanic</td>\n",
       "      <td>3</td>\n",
       "      <td>Newborn</td>\n",
       "      <td>Home or Self Care</td>\n",
       "      <td>Minor</td>\n",
       "      <td>Minor</td>\n",
       "      <td>Medical</td>\n",
       "      <td>3400.0</td>\n",
       "      <td>N</td>\n",
       "      <td>8220.07</td>\n",
       "      <td>2740.023333</td>\n",
       "    </tr>\n",
       "  </tbody>\n",
       "</table>\n",
       "</div>"
      ],
      "text/plain": [
       "   Hospital Service Area Hospital County                     Facility Name  \\\n",
       "20         Hudson Valley     Westchester  Montefiore New Rochelle Hospital   \n",
       "55         Hudson Valley        Sullivan  Catskill Regional Medical Center   \n",
       "59         Hudson Valley        Sullivan  Catskill Regional Medical Center   \n",
       "73         Hudson Valley        Sullivan  Catskill Regional Medical Center   \n",
       "81         Hudson Valley        Sullivan  Catskill Regional Medical Center   \n",
       "\n",
       "   Gender                    Race          Ethnicity  Length of Stay  \\\n",
       "20      M              Other Race   Spanish/Hispanic               2   \n",
       "55      M  Black/African American   Spanish/Hispanic               3   \n",
       "59      M                   White  Not Span/Hispanic               3   \n",
       "73      F                   White  Not Span/Hispanic               2   \n",
       "81      M                   White  Not Span/Hispanic               3   \n",
       "\n",
       "   Type of Admission Patient Disposition APR Severity of Illness Description  \\\n",
       "20           Newborn   Home or Self Care                               Minor   \n",
       "55           Newborn   Home or Self Care                               Minor   \n",
       "59           Newborn   Home or Self Care                               Minor   \n",
       "73           Newborn   Home or Self Care                               Minor   \n",
       "81           Newborn   Home or Self Care                               Minor   \n",
       "\n",
       "   APR Risk of Mortality APR Medical Surgical Description  Birth Weight  \\\n",
       "20                 Minor                          Medical        3300.0   \n",
       "55                 Minor                          Medical        3100.0   \n",
       "59                 Minor                          Medical        3000.0   \n",
       "73                 Minor                          Medical        3300.0   \n",
       "81                 Minor                          Medical        3400.0   \n",
       "\n",
       "   Emergency Department Indicator  Total Charges  Average Charges  \n",
       "20                              N        7247.00      3623.500000  \n",
       "55                              N        7901.91      2633.970000  \n",
       "59                              N        7013.82      2337.940000  \n",
       "73                              N        4943.06      2471.530000  \n",
       "81                              N        8220.07      2740.023333  "
      ]
     },
     "execution_count": 80,
     "metadata": {},
     "output_type": "execute_result"
    }
   ],
   "source": [
    "avg = test2[\"Total Charges\"]/test2[\"Length of Stay\"]\n",
    "test2[\"Average Charges\"] = avg\n",
    "test2.head()"
   ]
  },
  {
   "cell_type": "code",
   "execution_count": 83,
   "metadata": {},
   "outputs": [
    {
     "data": {
      "text/html": [
       "<div>\n",
       "<style scoped>\n",
       "    .dataframe tbody tr th:only-of-type {\n",
       "        vertical-align: middle;\n",
       "    }\n",
       "\n",
       "    .dataframe tbody tr th {\n",
       "        vertical-align: top;\n",
       "    }\n",
       "\n",
       "    .dataframe thead th {\n",
       "        text-align: right;\n",
       "    }\n",
       "</style>\n",
       "<table border=\"1\" class=\"dataframe\">\n",
       "  <thead>\n",
       "    <tr style=\"text-align: right;\">\n",
       "      <th></th>\n",
       "      <th>Length of Stay</th>\n",
       "      <th>Birth Weight</th>\n",
       "      <th>Total Charges</th>\n",
       "      <th>Average Charges</th>\n",
       "    </tr>\n",
       "  </thead>\n",
       "  <tbody>\n",
       "    <tr>\n",
       "      <td>Length of Stay</td>\n",
       "      <td>1.000000</td>\n",
       "      <td>-0.437193</td>\n",
       "      <td>0.867343</td>\n",
       "      <td>0.298303</td>\n",
       "    </tr>\n",
       "    <tr>\n",
       "      <td>Birth Weight</td>\n",
       "      <td>-0.437193</td>\n",
       "      <td>1.000000</td>\n",
       "      <td>-0.366210</td>\n",
       "      <td>-0.218900</td>\n",
       "    </tr>\n",
       "    <tr>\n",
       "      <td>Total Charges</td>\n",
       "      <td>0.867343</td>\n",
       "      <td>-0.366210</td>\n",
       "      <td>1.000000</td>\n",
       "      <td>0.455786</td>\n",
       "    </tr>\n",
       "    <tr>\n",
       "      <td>Average Charges</td>\n",
       "      <td>0.298303</td>\n",
       "      <td>-0.218900</td>\n",
       "      <td>0.455786</td>\n",
       "      <td>1.000000</td>\n",
       "    </tr>\n",
       "  </tbody>\n",
       "</table>\n",
       "</div>"
      ],
      "text/plain": [
       "                 Length of Stay  Birth Weight  Total Charges  Average Charges\n",
       "Length of Stay         1.000000     -0.437193       0.867343         0.298303\n",
       "Birth Weight          -0.437193      1.000000      -0.366210        -0.218900\n",
       "Total Charges          0.867343     -0.366210       1.000000         0.455786\n",
       "Average Charges        0.298303     -0.218900       0.455786         1.000000"
      ]
     },
     "execution_count": 83,
     "metadata": {},
     "output_type": "execute_result"
    }
   ],
   "source": [
    "test2.corr(method='pearson', min_periods=1)"
   ]
  },
  {
   "cell_type": "code",
   "execution_count": 84,
   "metadata": {},
   "outputs": [
    {
     "data": {
      "text/html": [
       "<div>\n",
       "<style scoped>\n",
       "    .dataframe tbody tr th:only-of-type {\n",
       "        vertical-align: middle;\n",
       "    }\n",
       "\n",
       "    .dataframe tbody tr th {\n",
       "        vertical-align: top;\n",
       "    }\n",
       "\n",
       "    .dataframe thead th {\n",
       "        text-align: right;\n",
       "    }\n",
       "</style>\n",
       "<table border=\"1\" class=\"dataframe\">\n",
       "  <thead>\n",
       "    <tr style=\"text-align: right;\">\n",
       "      <th></th>\n",
       "      <th>Hospital Service Area</th>\n",
       "      <th>Hospital County</th>\n",
       "      <th>Facility Name</th>\n",
       "      <th>Gender</th>\n",
       "      <th>Race</th>\n",
       "      <th>Ethnicity</th>\n",
       "      <th>Length of Stay</th>\n",
       "      <th>Type of Admission</th>\n",
       "      <th>Patient Disposition</th>\n",
       "      <th>APR Severity of Illness Description</th>\n",
       "      <th>APR Risk of Mortality</th>\n",
       "      <th>APR Medical Surgical Description</th>\n",
       "      <th>Birth Weight</th>\n",
       "      <th>Emergency Department Indicator</th>\n",
       "      <th>Total Charges</th>\n",
       "      <th>Average Charges</th>\n",
       "    </tr>\n",
       "  </thead>\n",
       "  <tbody>\n",
       "    <tr>\n",
       "      <td>Hospital Service Area</td>\n",
       "      <td>1.000000</td>\n",
       "      <td>0.494291</td>\n",
       "      <td>0.194331</td>\n",
       "      <td>0.002228</td>\n",
       "      <td>0.212763</td>\n",
       "      <td>-0.041353</td>\n",
       "      <td>0.012051</td>\n",
       "      <td>-0.028600</td>\n",
       "      <td>0.056545</td>\n",
       "      <td>-0.015309</td>\n",
       "      <td>-0.001631</td>\n",
       "      <td>-0.005494</td>\n",
       "      <td>0.026658</td>\n",
       "      <td>-0.003100</td>\n",
       "      <td>0.101090</td>\n",
       "      <td>0.102064</td>\n",
       "    </tr>\n",
       "    <tr>\n",
       "      <td>Hospital County</td>\n",
       "      <td>0.494291</td>\n",
       "      <td>1.000000</td>\n",
       "      <td>0.474918</td>\n",
       "      <td>-0.000854</td>\n",
       "      <td>0.184728</td>\n",
       "      <td>0.078026</td>\n",
       "      <td>-0.023014</td>\n",
       "      <td>-0.041498</td>\n",
       "      <td>0.043412</td>\n",
       "      <td>-0.038515</td>\n",
       "      <td>-0.022349</td>\n",
       "      <td>-0.015472</td>\n",
       "      <td>0.028797</td>\n",
       "      <td>-0.003740</td>\n",
       "      <td>0.141165</td>\n",
       "      <td>0.141812</td>\n",
       "    </tr>\n",
       "    <tr>\n",
       "      <td>Facility Name</td>\n",
       "      <td>0.194331</td>\n",
       "      <td>0.474918</td>\n",
       "      <td>1.000000</td>\n",
       "      <td>0.002950</td>\n",
       "      <td>0.017786</td>\n",
       "      <td>-0.053902</td>\n",
       "      <td>-0.002846</td>\n",
       "      <td>-0.037942</td>\n",
       "      <td>0.012273</td>\n",
       "      <td>-0.028109</td>\n",
       "      <td>-0.008775</td>\n",
       "      <td>-0.007704</td>\n",
       "      <td>0.014320</td>\n",
       "      <td>-0.006529</td>\n",
       "      <td>0.112628</td>\n",
       "      <td>0.113816</td>\n",
       "    </tr>\n",
       "    <tr>\n",
       "      <td>Gender</td>\n",
       "      <td>0.002228</td>\n",
       "      <td>-0.000854</td>\n",
       "      <td>0.002950</td>\n",
       "      <td>1.000000</td>\n",
       "      <td>0.001564</td>\n",
       "      <td>-0.002236</td>\n",
       "      <td>-0.014064</td>\n",
       "      <td>0.000186</td>\n",
       "      <td>-0.006559</td>\n",
       "      <td>-0.024773</td>\n",
       "      <td>-0.017821</td>\n",
       "      <td>-0.007772</td>\n",
       "      <td>-0.046123</td>\n",
       "      <td>-0.000942</td>\n",
       "      <td>-0.048796</td>\n",
       "      <td>-0.047108</td>\n",
       "    </tr>\n",
       "    <tr>\n",
       "      <td>Race</td>\n",
       "      <td>0.212763</td>\n",
       "      <td>0.184728</td>\n",
       "      <td>0.017786</td>\n",
       "      <td>0.001564</td>\n",
       "      <td>1.000000</td>\n",
       "      <td>0.011300</td>\n",
       "      <td>-0.014034</td>\n",
       "      <td>0.005609</td>\n",
       "      <td>-0.031254</td>\n",
       "      <td>-0.037393</td>\n",
       "      <td>-0.020309</td>\n",
       "      <td>-0.000186</td>\n",
       "      <td>0.018111</td>\n",
       "      <td>-0.004561</td>\n",
       "      <td>0.026160</td>\n",
       "      <td>0.025425</td>\n",
       "    </tr>\n",
       "    <tr>\n",
       "      <td>Ethnicity</td>\n",
       "      <td>-0.041353</td>\n",
       "      <td>0.078026</td>\n",
       "      <td>-0.053902</td>\n",
       "      <td>-0.002236</td>\n",
       "      <td>0.011300</td>\n",
       "      <td>1.000000</td>\n",
       "      <td>-0.000381</td>\n",
       "      <td>-0.016651</td>\n",
       "      <td>0.015699</td>\n",
       "      <td>0.012195</td>\n",
       "      <td>0.004003</td>\n",
       "      <td>0.001388</td>\n",
       "      <td>0.008159</td>\n",
       "      <td>0.001983</td>\n",
       "      <td>0.047980</td>\n",
       "      <td>0.047812</td>\n",
       "    </tr>\n",
       "    <tr>\n",
       "      <td>Length of Stay</td>\n",
       "      <td>0.012051</td>\n",
       "      <td>-0.023014</td>\n",
       "      <td>-0.002846</td>\n",
       "      <td>-0.014064</td>\n",
       "      <td>-0.014034</td>\n",
       "      <td>-0.000381</td>\n",
       "      <td>1.000000</td>\n",
       "      <td>0.004195</td>\n",
       "      <td>0.222977</td>\n",
       "      <td>0.390223</td>\n",
       "      <td>0.419730</td>\n",
       "      <td>0.224907</td>\n",
       "      <td>0.200856</td>\n",
       "      <td>0.011655</td>\n",
       "      <td>0.094079</td>\n",
       "      <td>0.092217</td>\n",
       "    </tr>\n",
       "    <tr>\n",
       "      <td>Type of Admission</td>\n",
       "      <td>-0.028600</td>\n",
       "      <td>-0.041498</td>\n",
       "      <td>-0.037942</td>\n",
       "      <td>0.000186</td>\n",
       "      <td>0.005609</td>\n",
       "      <td>-0.016651</td>\n",
       "      <td>0.004195</td>\n",
       "      <td>1.000000</td>\n",
       "      <td>-0.000514</td>\n",
       "      <td>-0.001482</td>\n",
       "      <td>0.001261</td>\n",
       "      <td>-0.000500</td>\n",
       "      <td>-0.002388</td>\n",
       "      <td>0.169876</td>\n",
       "      <td>0.019075</td>\n",
       "      <td>0.019270</td>\n",
       "    </tr>\n",
       "    <tr>\n",
       "      <td>Patient Disposition</td>\n",
       "      <td>0.056545</td>\n",
       "      <td>0.043412</td>\n",
       "      <td>0.012273</td>\n",
       "      <td>-0.006559</td>\n",
       "      <td>-0.031254</td>\n",
       "      <td>0.015699</td>\n",
       "      <td>0.222977</td>\n",
       "      <td>-0.000514</td>\n",
       "      <td>1.000000</td>\n",
       "      <td>0.209416</td>\n",
       "      <td>0.290813</td>\n",
       "      <td>0.114516</td>\n",
       "      <td>0.092462</td>\n",
       "      <td>0.011605</td>\n",
       "      <td>0.047442</td>\n",
       "      <td>0.047083</td>\n",
       "    </tr>\n",
       "    <tr>\n",
       "      <td>APR Severity of Illness Description</td>\n",
       "      <td>-0.015309</td>\n",
       "      <td>-0.038515</td>\n",
       "      <td>-0.028109</td>\n",
       "      <td>-0.024773</td>\n",
       "      <td>-0.037393</td>\n",
       "      <td>0.012195</td>\n",
       "      <td>0.390223</td>\n",
       "      <td>-0.001482</td>\n",
       "      <td>0.209416</td>\n",
       "      <td>1.000000</td>\n",
       "      <td>0.437275</td>\n",
       "      <td>0.160385</td>\n",
       "      <td>0.147640</td>\n",
       "      <td>0.017574</td>\n",
       "      <td>0.137410</td>\n",
       "      <td>0.136612</td>\n",
       "    </tr>\n",
       "    <tr>\n",
       "      <td>APR Risk of Mortality</td>\n",
       "      <td>-0.001631</td>\n",
       "      <td>-0.022349</td>\n",
       "      <td>-0.008775</td>\n",
       "      <td>-0.017821</td>\n",
       "      <td>-0.020309</td>\n",
       "      <td>0.004003</td>\n",
       "      <td>0.419730</td>\n",
       "      <td>0.001261</td>\n",
       "      <td>0.290813</td>\n",
       "      <td>0.437275</td>\n",
       "      <td>1.000000</td>\n",
       "      <td>0.306082</td>\n",
       "      <td>0.165105</td>\n",
       "      <td>0.018997</td>\n",
       "      <td>0.052785</td>\n",
       "      <td>0.052215</td>\n",
       "    </tr>\n",
       "    <tr>\n",
       "      <td>APR Medical Surgical Description</td>\n",
       "      <td>-0.005494</td>\n",
       "      <td>-0.015472</td>\n",
       "      <td>-0.007704</td>\n",
       "      <td>-0.007772</td>\n",
       "      <td>-0.000186</td>\n",
       "      <td>0.001388</td>\n",
       "      <td>0.224907</td>\n",
       "      <td>-0.000500</td>\n",
       "      <td>0.114516</td>\n",
       "      <td>0.160385</td>\n",
       "      <td>0.306082</td>\n",
       "      <td>1.000000</td>\n",
       "      <td>0.042269</td>\n",
       "      <td>0.001150</td>\n",
       "      <td>0.033301</td>\n",
       "      <td>0.032872</td>\n",
       "    </tr>\n",
       "    <tr>\n",
       "      <td>Birth Weight</td>\n",
       "      <td>0.026658</td>\n",
       "      <td>0.028797</td>\n",
       "      <td>0.014320</td>\n",
       "      <td>-0.046123</td>\n",
       "      <td>0.018111</td>\n",
       "      <td>0.008159</td>\n",
       "      <td>0.200856</td>\n",
       "      <td>-0.002388</td>\n",
       "      <td>0.092462</td>\n",
       "      <td>0.147640</td>\n",
       "      <td>0.165105</td>\n",
       "      <td>0.042269</td>\n",
       "      <td>1.000000</td>\n",
       "      <td>-0.001850</td>\n",
       "      <td>0.051547</td>\n",
       "      <td>0.051600</td>\n",
       "    </tr>\n",
       "    <tr>\n",
       "      <td>Emergency Department Indicator</td>\n",
       "      <td>-0.003100</td>\n",
       "      <td>-0.003740</td>\n",
       "      <td>-0.006529</td>\n",
       "      <td>-0.000942</td>\n",
       "      <td>-0.004561</td>\n",
       "      <td>0.001983</td>\n",
       "      <td>0.011655</td>\n",
       "      <td>0.169876</td>\n",
       "      <td>0.011605</td>\n",
       "      <td>0.017574</td>\n",
       "      <td>0.018997</td>\n",
       "      <td>0.001150</td>\n",
       "      <td>-0.001850</td>\n",
       "      <td>1.000000</td>\n",
       "      <td>0.017816</td>\n",
       "      <td>0.018088</td>\n",
       "    </tr>\n",
       "    <tr>\n",
       "      <td>Total Charges</td>\n",
       "      <td>0.101090</td>\n",
       "      <td>0.141165</td>\n",
       "      <td>0.112628</td>\n",
       "      <td>-0.048796</td>\n",
       "      <td>0.026160</td>\n",
       "      <td>0.047980</td>\n",
       "      <td>0.094079</td>\n",
       "      <td>0.019075</td>\n",
       "      <td>0.047442</td>\n",
       "      <td>0.137410</td>\n",
       "      <td>0.052785</td>\n",
       "      <td>0.033301</td>\n",
       "      <td>0.051547</td>\n",
       "      <td>0.017816</td>\n",
       "      <td>1.000000</td>\n",
       "      <td>0.962745</td>\n",
       "    </tr>\n",
       "    <tr>\n",
       "      <td>Average Charges</td>\n",
       "      <td>0.102064</td>\n",
       "      <td>0.141812</td>\n",
       "      <td>0.113816</td>\n",
       "      <td>-0.047108</td>\n",
       "      <td>0.025425</td>\n",
       "      <td>0.047812</td>\n",
       "      <td>0.092217</td>\n",
       "      <td>0.019270</td>\n",
       "      <td>0.047083</td>\n",
       "      <td>0.136612</td>\n",
       "      <td>0.052215</td>\n",
       "      <td>0.032872</td>\n",
       "      <td>0.051600</td>\n",
       "      <td>0.018088</td>\n",
       "      <td>0.962745</td>\n",
       "      <td>1.000000</td>\n",
       "    </tr>\n",
       "  </tbody>\n",
       "</table>\n",
       "</div>"
      ],
      "text/plain": [
       "                                     Hospital Service Area  Hospital County  \\\n",
       "Hospital Service Area                             1.000000         0.494291   \n",
       "Hospital County                                   0.494291         1.000000   \n",
       "Facility Name                                     0.194331         0.474918   \n",
       "Gender                                            0.002228        -0.000854   \n",
       "Race                                              0.212763         0.184728   \n",
       "Ethnicity                                        -0.041353         0.078026   \n",
       "Length of Stay                                    0.012051        -0.023014   \n",
       "Type of Admission                                -0.028600        -0.041498   \n",
       "Patient Disposition                               0.056545         0.043412   \n",
       "APR Severity of Illness Description              -0.015309        -0.038515   \n",
       "APR Risk of Mortality                            -0.001631        -0.022349   \n",
       "APR Medical Surgical Description                 -0.005494        -0.015472   \n",
       "Birth Weight                                      0.026658         0.028797   \n",
       "Emergency Department Indicator                   -0.003100        -0.003740   \n",
       "Total Charges                                     0.101090         0.141165   \n",
       "Average Charges                                   0.102064         0.141812   \n",
       "\n",
       "                                     Facility Name    Gender      Race  \\\n",
       "Hospital Service Area                     0.194331  0.002228  0.212763   \n",
       "Hospital County                           0.474918 -0.000854  0.184728   \n",
       "Facility Name                             1.000000  0.002950  0.017786   \n",
       "Gender                                    0.002950  1.000000  0.001564   \n",
       "Race                                      0.017786  0.001564  1.000000   \n",
       "Ethnicity                                -0.053902 -0.002236  0.011300   \n",
       "Length of Stay                           -0.002846 -0.014064 -0.014034   \n",
       "Type of Admission                        -0.037942  0.000186  0.005609   \n",
       "Patient Disposition                       0.012273 -0.006559 -0.031254   \n",
       "APR Severity of Illness Description      -0.028109 -0.024773 -0.037393   \n",
       "APR Risk of Mortality                    -0.008775 -0.017821 -0.020309   \n",
       "APR Medical Surgical Description         -0.007704 -0.007772 -0.000186   \n",
       "Birth Weight                              0.014320 -0.046123  0.018111   \n",
       "Emergency Department Indicator           -0.006529 -0.000942 -0.004561   \n",
       "Total Charges                             0.112628 -0.048796  0.026160   \n",
       "Average Charges                           0.113816 -0.047108  0.025425   \n",
       "\n",
       "                                     Ethnicity  Length of Stay  \\\n",
       "Hospital Service Area                -0.041353        0.012051   \n",
       "Hospital County                       0.078026       -0.023014   \n",
       "Facility Name                        -0.053902       -0.002846   \n",
       "Gender                               -0.002236       -0.014064   \n",
       "Race                                  0.011300       -0.014034   \n",
       "Ethnicity                             1.000000       -0.000381   \n",
       "Length of Stay                       -0.000381        1.000000   \n",
       "Type of Admission                    -0.016651        0.004195   \n",
       "Patient Disposition                   0.015699        0.222977   \n",
       "APR Severity of Illness Description   0.012195        0.390223   \n",
       "APR Risk of Mortality                 0.004003        0.419730   \n",
       "APR Medical Surgical Description      0.001388        0.224907   \n",
       "Birth Weight                          0.008159        0.200856   \n",
       "Emergency Department Indicator        0.001983        0.011655   \n",
       "Total Charges                         0.047980        0.094079   \n",
       "Average Charges                       0.047812        0.092217   \n",
       "\n",
       "                                     Type of Admission  Patient Disposition  \\\n",
       "Hospital Service Area                        -0.028600             0.056545   \n",
       "Hospital County                              -0.041498             0.043412   \n",
       "Facility Name                                -0.037942             0.012273   \n",
       "Gender                                        0.000186            -0.006559   \n",
       "Race                                          0.005609            -0.031254   \n",
       "Ethnicity                                    -0.016651             0.015699   \n",
       "Length of Stay                                0.004195             0.222977   \n",
       "Type of Admission                             1.000000            -0.000514   \n",
       "Patient Disposition                          -0.000514             1.000000   \n",
       "APR Severity of Illness Description          -0.001482             0.209416   \n",
       "APR Risk of Mortality                         0.001261             0.290813   \n",
       "APR Medical Surgical Description             -0.000500             0.114516   \n",
       "Birth Weight                                 -0.002388             0.092462   \n",
       "Emergency Department Indicator                0.169876             0.011605   \n",
       "Total Charges                                 0.019075             0.047442   \n",
       "Average Charges                               0.019270             0.047083   \n",
       "\n",
       "                                     APR Severity of Illness Description  \\\n",
       "Hospital Service Area                                          -0.015309   \n",
       "Hospital County                                                -0.038515   \n",
       "Facility Name                                                  -0.028109   \n",
       "Gender                                                         -0.024773   \n",
       "Race                                                           -0.037393   \n",
       "Ethnicity                                                       0.012195   \n",
       "Length of Stay                                                  0.390223   \n",
       "Type of Admission                                              -0.001482   \n",
       "Patient Disposition                                             0.209416   \n",
       "APR Severity of Illness Description                             1.000000   \n",
       "APR Risk of Mortality                                           0.437275   \n",
       "APR Medical Surgical Description                                0.160385   \n",
       "Birth Weight                                                    0.147640   \n",
       "Emergency Department Indicator                                  0.017574   \n",
       "Total Charges                                                   0.137410   \n",
       "Average Charges                                                 0.136612   \n",
       "\n",
       "                                     APR Risk of Mortality  \\\n",
       "Hospital Service Area                            -0.001631   \n",
       "Hospital County                                  -0.022349   \n",
       "Facility Name                                    -0.008775   \n",
       "Gender                                           -0.017821   \n",
       "Race                                             -0.020309   \n",
       "Ethnicity                                         0.004003   \n",
       "Length of Stay                                    0.419730   \n",
       "Type of Admission                                 0.001261   \n",
       "Patient Disposition                               0.290813   \n",
       "APR Severity of Illness Description               0.437275   \n",
       "APR Risk of Mortality                             1.000000   \n",
       "APR Medical Surgical Description                  0.306082   \n",
       "Birth Weight                                      0.165105   \n",
       "Emergency Department Indicator                    0.018997   \n",
       "Total Charges                                     0.052785   \n",
       "Average Charges                                   0.052215   \n",
       "\n",
       "                                     APR Medical Surgical Description  \\\n",
       "Hospital Service Area                                       -0.005494   \n",
       "Hospital County                                             -0.015472   \n",
       "Facility Name                                               -0.007704   \n",
       "Gender                                                      -0.007772   \n",
       "Race                                                        -0.000186   \n",
       "Ethnicity                                                    0.001388   \n",
       "Length of Stay                                               0.224907   \n",
       "Type of Admission                                           -0.000500   \n",
       "Patient Disposition                                          0.114516   \n",
       "APR Severity of Illness Description                          0.160385   \n",
       "APR Risk of Mortality                                        0.306082   \n",
       "APR Medical Surgical Description                             1.000000   \n",
       "Birth Weight                                                 0.042269   \n",
       "Emergency Department Indicator                               0.001150   \n",
       "Total Charges                                                0.033301   \n",
       "Average Charges                                              0.032872   \n",
       "\n",
       "                                     Birth Weight  \\\n",
       "Hospital Service Area                    0.026658   \n",
       "Hospital County                          0.028797   \n",
       "Facility Name                            0.014320   \n",
       "Gender                                  -0.046123   \n",
       "Race                                     0.018111   \n",
       "Ethnicity                                0.008159   \n",
       "Length of Stay                           0.200856   \n",
       "Type of Admission                       -0.002388   \n",
       "Patient Disposition                      0.092462   \n",
       "APR Severity of Illness Description      0.147640   \n",
       "APR Risk of Mortality                    0.165105   \n",
       "APR Medical Surgical Description         0.042269   \n",
       "Birth Weight                             1.000000   \n",
       "Emergency Department Indicator          -0.001850   \n",
       "Total Charges                            0.051547   \n",
       "Average Charges                          0.051600   \n",
       "\n",
       "                                     Emergency Department Indicator  \\\n",
       "Hospital Service Area                                     -0.003100   \n",
       "Hospital County                                           -0.003740   \n",
       "Facility Name                                             -0.006529   \n",
       "Gender                                                    -0.000942   \n",
       "Race                                                      -0.004561   \n",
       "Ethnicity                                                  0.001983   \n",
       "Length of Stay                                             0.011655   \n",
       "Type of Admission                                          0.169876   \n",
       "Patient Disposition                                        0.011605   \n",
       "APR Severity of Illness Description                        0.017574   \n",
       "APR Risk of Mortality                                      0.018997   \n",
       "APR Medical Surgical Description                           0.001150   \n",
       "Birth Weight                                              -0.001850   \n",
       "Emergency Department Indicator                             1.000000   \n",
       "Total Charges                                              0.017816   \n",
       "Average Charges                                            0.018088   \n",
       "\n",
       "                                     Total Charges  Average Charges  \n",
       "Hospital Service Area                     0.101090         0.102064  \n",
       "Hospital County                           0.141165         0.141812  \n",
       "Facility Name                             0.112628         0.113816  \n",
       "Gender                                   -0.048796        -0.047108  \n",
       "Race                                      0.026160         0.025425  \n",
       "Ethnicity                                 0.047980         0.047812  \n",
       "Length of Stay                            0.094079         0.092217  \n",
       "Type of Admission                         0.019075         0.019270  \n",
       "Patient Disposition                       0.047442         0.047083  \n",
       "APR Severity of Illness Description       0.137410         0.136612  \n",
       "APR Risk of Mortality                     0.052785         0.052215  \n",
       "APR Medical Surgical Description          0.033301         0.032872  \n",
       "Birth Weight                              0.051547         0.051600  \n",
       "Emergency Department Indicator            0.017816         0.018088  \n",
       "Total Charges                             1.000000         0.962745  \n",
       "Average Charges                           0.962745         1.000000  "
      ]
     },
     "execution_count": 84,
     "metadata": {},
     "output_type": "execute_result"
    }
   ],
   "source": [
    "test2.apply(lambda x : pd.factorize(x)[0]).corr(method='pearson', min_periods=1)"
   ]
  },
  {
   "cell_type": "code",
   "execution_count": 85,
   "metadata": {},
   "outputs": [
    {
     "data": {
      "text/plain": [
       "(214696, 14)"
      ]
     },
     "execution_count": 85,
     "metadata": {},
     "output_type": "execute_result"
    }
   ],
   "source": [
    "test2 = test2.drop([\"Length of Stay\",\"Total Charges\"], axis=1)\n",
    "np.shape(test2)"
   ]
  },
  {
   "cell_type": "code",
   "execution_count": 87,
   "metadata": {},
   "outputs": [
    {
     "data": {
      "text/plain": [
       "Hospital Service Area                   object\n",
       "Hospital County                         object\n",
       "Facility Name                           object\n",
       "Gender                                  object\n",
       "Race                                    object\n",
       "Ethnicity                               object\n",
       "Type of Admission                       object\n",
       "Patient Disposition                     object\n",
       "APR Severity of Illness Description     object\n",
       "APR Risk of Mortality                   object\n",
       "APR Medical Surgical Description        object\n",
       "Birth Weight                           float64\n",
       "Emergency Department Indicator          object\n",
       "Average Charges                        float64\n",
       "dtype: object"
      ]
     },
     "execution_count": 87,
     "metadata": {},
     "output_type": "execute_result"
    }
   ],
   "source": [
    "test2.dtypes"
   ]
  },
  {
   "cell_type": "code",
   "execution_count": 89,
   "metadata": {},
   "outputs": [],
   "source": [
    "newname = '/Users/mac/Desktop/BigData_ProjectData/SPARCS-2017-Birth-Bias.csv'\n",
    "test2.to_csv(newname, sep='\\t', index=False)"
   ]
  },
  {
   "cell_type": "code",
   "execution_count": 79,
   "metadata": {},
   "outputs": [
    {
     "data": {
      "text/plain": [
       "(20           7247.00\n",
       " 55           7901.91\n",
       " 59           7013.82\n",
       " 73           4943.06\n",
       " 81           8220.07\n",
       "              ...    \n",
       " 2343103      6100.11\n",
       " 2343144    243151.86\n",
       " 2343311      5889.09\n",
       " 2343321      4441.71\n",
       " 2343374      6924.81\n",
       " Name: Total Charges, Length: 214696, dtype: float64, 20          2\n",
       " 55          3\n",
       " 59          3\n",
       " 73          2\n",
       " 81          3\n",
       "            ..\n",
       " 2343103     3\n",
       " 2343144    29\n",
       " 2343311     3\n",
       " 2343321     2\n",
       " 2343374     3\n",
       " Name: Length of Stay, Length: 214696, dtype: int64)"
      ]
     },
     "execution_count": 79,
     "metadata": {},
     "output_type": "execute_result"
    }
   ],
   "source": [
    "test2[\"Total Charges\"],test2[\"Length of Stay\"]"
   ]
  },
  {
   "cell_type": "code",
   "execution_count": 82,
   "metadata": {},
   "outputs": [
    {
     "data": {
      "text/plain": [
       "<matplotlib.collections.PathCollection at 0x123dafd68>"
      ]
     },
     "execution_count": 82,
     "metadata": {},
     "output_type": "execute_result"
    },
    {
     "data": {
      "image/png": "[encoded data removed]",
      "text/plain": [
       "<Figure size 432x288 with 1 Axes>"
      ]
     },
     "metadata": {
      "needs_background": "light"
     },
     "output_type": "display_data"
    }
   ],
   "source": [
    "import matplotlib.pyplot as plt\n",
    "plt.scatter(test2[\"Length of Stay\"], test2[\"Total Charges\"])"
   ]
  },
  {
   "cell_type": "code",
   "execution_count": null,
   "metadata": {},
   "outputs": [],
   "source": []
  },
  {
   "cell_type": "code",
   "execution_count": null,
   "metadata": {},
   "outputs": [],
   "source": []
  },
  {
   "cell_type": "code",
   "execution_count": 97,
   "metadata": {},
   "outputs": [
    {
     "name": "stdout",
     "output_type": "stream",
     "text": [
      "(214696,) (214696, 2)\n"
     ]
    }
   ],
   "source": [
    "y = test2[\"Average Charges\"]\n",
    "X = test2.loc[:,[\"Birth Weight\",\"Hospital County\"]]\n",
    "print(np.shape(y),np.shape(X))"
   ]
  },
  {
   "cell_type": "code",
   "execution_count": 100,
   "metadata": {},
   "outputs": [
    {
     "ename": "NameError",
     "evalue": "name 'mutual_info_classif' is not defined",
     "output_type": "error",
     "traceback": [
      "\u001b[0;31m---------------------------------------------------------------------------\u001b[0m",
      "\u001b[0;31mNameError\u001b[0m                                 Traceback (most recent call last)",
      "\u001b[0;32m<ipython-input-100-de099acbb8cf>\u001b[0m in \u001b[0;36m<module>\u001b[0;34m\u001b[0m\n\u001b[1;32m      1\u001b[0m \u001b[0;32mfrom\u001b[0m \u001b[0msklearn\u001b[0m\u001b[0;34m.\u001b[0m\u001b[0mfeature_selection\u001b[0m \u001b[0;32mimport\u001b[0m \u001b[0mmutual_info_regression\u001b[0m\u001b[0;34m\u001b[0m\u001b[0;34m\u001b[0m\u001b[0m\n\u001b[1;32m      2\u001b[0m \u001b[0;32mfrom\u001b[0m \u001b[0mfunctools\u001b[0m \u001b[0;32mimport\u001b[0m \u001b[0mpartial\u001b[0m\u001b[0;34m\u001b[0m\u001b[0;34m\u001b[0m\u001b[0m\n\u001b[0;32m----> 3\u001b[0;31m \u001b[0mdiscrete_mutual_info_classif\u001b[0m \u001b[0;34m=\u001b[0m \u001b[0mpartial\u001b[0m\u001b[0;34m(\u001b[0m\u001b[0mmutual_info_classif\u001b[0m\u001b[0;34m,\u001b[0m \u001b[0miscrete_features\u001b[0m\u001b[0;34m=\u001b[0m\u001b[0;34m[\u001b[0m\u001b[0;36m1\u001b[0m\u001b[0;34m]\u001b[0m\u001b[0;34m)\u001b[0m\u001b[0;34m\u001b[0m\u001b[0;34m\u001b[0m\u001b[0m\n\u001b[0m\u001b[1;32m      4\u001b[0m \u001b[0mSelectKBest\u001b[0m\u001b[0;34m(\u001b[0m\u001b[0mscore_func\u001b[0m\u001b[0;34m=\u001b[0m\u001b[0mdiscrete_mutual_info_classif\u001b[0m\u001b[0;34m)\u001b[0m\u001b[0;34m.\u001b[0m\u001b[0mfit\u001b[0m\u001b[0;34m(\u001b[0m\u001b[0mX\u001b[0m\u001b[0;34m,\u001b[0m \u001b[0my\u001b[0m\u001b[0;34m)\u001b[0m\u001b[0;34m\u001b[0m\u001b[0;34m\u001b[0m\u001b[0m\n\u001b[1;32m      5\u001b[0m \u001b[0;31m#mutual_info_regression(X,y,discrete_features=[1])\u001b[0m\u001b[0;34m\u001b[0m\u001b[0;34m\u001b[0m\u001b[0;34m\u001b[0m\u001b[0m\n",
      "\u001b[0;31mNameError\u001b[0m: name 'mutual_info_classif' is not defined"
     ]
    }
   ],
   "source": [
    "from sklearn.feature_selection import mutual_info_regression\n",
    "from functools import partial\n",
    "discrete_mutual_info_classif = partial(mutual_info_classif, iscrete_features=[1])\n",
    "SelectKBest(score_func=discrete_mutual_info_classif).fit(X, y)\n",
    "#mutual_info_regression(X,y,discrete_features=[1])"
   ]
  },
  {
   "cell_type": "code",
   "execution_count": 105,
   "metadata": {},
   "outputs": [
    {
     "name": "stdout",
     "output_type": "stream",
     "text": [
      "Southern Tier        2649\n",
      "Finger Lakes        12485\n",
      "Capital/Adirond     13490\n",
      "Central NY          14715\n",
      "Western NY          14771\n",
      "Hudson Valley       21256\n",
      "Long Island         26380\n",
      "New York City      108950\n",
      "Name: Hospital Service Area, dtype: int64\n",
      "Monroe        9266\n",
      "Erie         11246\n",
      "Nassau       13056\n",
      "Bronx        13256\n",
      "Suffolk      13324\n",
      "Queens       24361\n",
      "Kings        26349\n",
      "Manhattan    39449\n",
      "Name: Hospital County, dtype: int64\n",
      "NYU Winthrop Hospital                                             4736\n",
      "New York Presbyterian Hospital - New York Weill Cornell Center    4842\n",
      "New York - Presbyterian Brooklyn Methodist Hospital               4984\n",
      "NYU Langone Hospitals                                             5308\n",
      "Mount Sinai West                                                  5389\n",
      "Mount Sinai Hospital                                              6981\n",
      "Maimonides Medical Center                                         7839\n",
      "Cohen Children's Medical Center                                   8938\n",
      "Name: Facility Name, dtype: int64\n",
      "F    104677\n",
      "M    110019\n",
      "Name: Gender, dtype: int64\n",
      "Multi-racial                2527\n",
      "Black/African American     28189\n",
      "Other Race                 82560\n",
      "White                     101420\n",
      "Name: Race, dtype: int64\n",
      "Multi-ethnic           1330\n",
      "Spanish/Hispanic      29837\n",
      "Unknown               32478\n",
      "Not Span/Hispanic    151051\n",
      "Name: Ethnicity, dtype: int64\n",
      "Urgent           66\n",
      "Elective        194\n",
      "Emergency       423\n",
      "Newborn      214013\n",
      "Name: Type of Admission, dtype: int64\n",
      "Court/Law Enforcement                       48\n",
      "Left Against Medical Advice                 51\n",
      "Another Type Not Listed                     90\n",
      "Cancer Center or Children's Hospital       119\n",
      "Expired                                    577\n",
      "Short-term Hospital                       1814\n",
      "Home w/ Home Health Services              7503\n",
      "Home or Self Care                       204345\n",
      "Name: Patient Disposition, dtype: int64\n",
      "Extreme       1681\n",
      "Major        13301\n",
      "Moderate     35397\n",
      "Minor       164317\n",
      "Name: APR Severity of Illness Description, dtype: int64\n",
      "Extreme        609\n",
      "Major         1425\n",
      "Moderate      3271\n",
      "Minor       209391\n",
      "Name: APR Risk of Mortality, dtype: int64\n",
      "Surgical       738\n",
      "Medical     213958\n",
      "Name: APR Medical Surgical Description, dtype: int64\n"
     ]
    },
    {
     "ename": "KeyError",
     "evalue": "-8.0",
     "output_type": "error",
     "traceback": [
      "\u001b[0;31m---------------------------------------------------------------------------\u001b[0m",
      "\u001b[0;31mValueError\u001b[0m                                Traceback (most recent call last)",
      "\u001b[0;32m~/anaconda3/lib/python3.6/site-packages/pandas/core/indexes/base.py\u001b[0m in \u001b[0;36mget_slice_bound\u001b[0;34m(self, label, side, kind)\u001b[0m\n\u001b[1;32m   5166\u001b[0m             \u001b[0;32mtry\u001b[0m\u001b[0;34m:\u001b[0m\u001b[0;34m\u001b[0m\u001b[0;34m\u001b[0m\u001b[0m\n\u001b[0;32m-> 5167\u001b[0;31m                 \u001b[0;32mreturn\u001b[0m \u001b[0mself\u001b[0m\u001b[0;34m.\u001b[0m\u001b[0m_searchsorted_monotonic\u001b[0m\u001b[0;34m(\u001b[0m\u001b[0mlabel\u001b[0m\u001b[0;34m,\u001b[0m \u001b[0mside\u001b[0m\u001b[0;34m)\u001b[0m\u001b[0;34m\u001b[0m\u001b[0;34m\u001b[0m\u001b[0m\n\u001b[0m\u001b[1;32m   5168\u001b[0m             \u001b[0;32mexcept\u001b[0m \u001b[0mValueError\u001b[0m\u001b[0;34m:\u001b[0m\u001b[0;34m\u001b[0m\u001b[0;34m\u001b[0m\u001b[0m\n",
      "\u001b[0;32m~/anaconda3/lib/python3.6/site-packages/pandas/core/indexes/base.py\u001b[0m in \u001b[0;36m_searchsorted_monotonic\u001b[0;34m(self, label, side)\u001b[0m\n\u001b[1;32m   5127\u001b[0m \u001b[0;34m\u001b[0m\u001b[0m\n\u001b[0;32m-> 5128\u001b[0;31m         \u001b[0;32mraise\u001b[0m \u001b[0mValueError\u001b[0m\u001b[0;34m(\u001b[0m\u001b[0;34m\"index must be monotonic increasing or decreasing\"\u001b[0m\u001b[0;34m)\u001b[0m\u001b[0;34m\u001b[0m\u001b[0;34m\u001b[0m\u001b[0m\n\u001b[0m\u001b[1;32m   5129\u001b[0m \u001b[0;34m\u001b[0m\u001b[0m\n",
      "\u001b[0;31mValueError\u001b[0m: index must be monotonic increasing or decreasing",
      "\nDuring handling of the above exception, another exception occurred:\n",
      "\u001b[0;31mKeyError\u001b[0m                                  Traceback (most recent call last)",
      "\u001b[0;32m<ipython-input-105-1a199727270a>\u001b[0m in \u001b[0;36m<module>\u001b[0;34m\u001b[0m\n\u001b[1;32m      1\u001b[0m \u001b[0;32mfor\u001b[0m \u001b[0micol\u001b[0m \u001b[0;32min\u001b[0m \u001b[0mtest2\u001b[0m\u001b[0;34m.\u001b[0m\u001b[0mcolumns\u001b[0m\u001b[0;34m:\u001b[0m\u001b[0;34m\u001b[0m\u001b[0;34m\u001b[0m\u001b[0m\n\u001b[0;32m----> 2\u001b[0;31m     \u001b[0mprint\u001b[0m\u001b[0;34m(\u001b[0m\u001b[0mtest2\u001b[0m\u001b[0;34m[\u001b[0m\u001b[0micol\u001b[0m\u001b[0;34m]\u001b[0m\u001b[0;34m.\u001b[0m\u001b[0mvalue_counts\u001b[0m\u001b[0;34m(\u001b[0m\u001b[0;34m)\u001b[0m\u001b[0;34m[\u001b[0m\u001b[0;34m:\u001b[0m\u001b[0;34m:\u001b[0m\u001b[0;34m-\u001b[0m\u001b[0;36m1\u001b[0m\u001b[0;34m]\u001b[0m\u001b[0;34m[\u001b[0m\u001b[0;34m-\u001b[0m\u001b[0;36m8\u001b[0m\u001b[0;34m:\u001b[0m\u001b[0;34m]\u001b[0m\u001b[0;34m)\u001b[0m\u001b[0;31m#.plot.barh()\u001b[0m\u001b[0;34m\u001b[0m\u001b[0;34m\u001b[0m\u001b[0m\n\u001b[0m",
      "\u001b[0;32m~/anaconda3/lib/python3.6/site-packages/pandas/core/series.py\u001b[0m in \u001b[0;36m__getitem__\u001b[0;34m(self, key)\u001b[0m\n\u001b[1;32m   1108\u001b[0m             \u001b[0mkey\u001b[0m \u001b[0;34m=\u001b[0m \u001b[0mcheck_bool_indexer\u001b[0m\u001b[0;34m(\u001b[0m\u001b[0mself\u001b[0m\u001b[0;34m.\u001b[0m\u001b[0mindex\u001b[0m\u001b[0;34m,\u001b[0m \u001b[0mkey\u001b[0m\u001b[0;34m)\u001b[0m\u001b[0;34m\u001b[0m\u001b[0;34m\u001b[0m\u001b[0m\n\u001b[1;32m   1109\u001b[0m \u001b[0;34m\u001b[0m\u001b[0m\n\u001b[0;32m-> 1110\u001b[0;31m         \u001b[0;32mreturn\u001b[0m \u001b[0mself\u001b[0m\u001b[0;34m.\u001b[0m\u001b[0m_get_with\u001b[0m\u001b[0;34m(\u001b[0m\u001b[0mkey\u001b[0m\u001b[0;34m)\u001b[0m\u001b[0;34m\u001b[0m\u001b[0;34m\u001b[0m\u001b[0m\n\u001b[0m\u001b[1;32m   1111\u001b[0m \u001b[0;34m\u001b[0m\u001b[0m\n\u001b[1;32m   1112\u001b[0m     \u001b[0;32mdef\u001b[0m \u001b[0m_get_with\u001b[0m\u001b[0;34m(\u001b[0m\u001b[0mself\u001b[0m\u001b[0;34m,\u001b[0m \u001b[0mkey\u001b[0m\u001b[0;34m)\u001b[0m\u001b[0;34m:\u001b[0m\u001b[0;34m\u001b[0m\u001b[0;34m\u001b[0m\u001b[0m\n",
      "\u001b[0;32m~/anaconda3/lib/python3.6/site-packages/pandas/core/series.py\u001b[0m in \u001b[0;36m_get_with\u001b[0;34m(self, key)\u001b[0m\n\u001b[1;32m   1113\u001b[0m         \u001b[0;31m# other: fancy integer or otherwise\u001b[0m\u001b[0;34m\u001b[0m\u001b[0;34m\u001b[0m\u001b[0;34m\u001b[0m\u001b[0m\n\u001b[1;32m   1114\u001b[0m         \u001b[0;32mif\u001b[0m \u001b[0misinstance\u001b[0m\u001b[0;34m(\u001b[0m\u001b[0mkey\u001b[0m\u001b[0;34m,\u001b[0m \u001b[0mslice\u001b[0m\u001b[0;34m)\u001b[0m\u001b[0;34m:\u001b[0m\u001b[0;34m\u001b[0m\u001b[0;34m\u001b[0m\u001b[0m\n\u001b[0;32m-> 1115\u001b[0;31m             \u001b[0mindexer\u001b[0m \u001b[0;34m=\u001b[0m \u001b[0mself\u001b[0m\u001b[0;34m.\u001b[0m\u001b[0mindex\u001b[0m\u001b[0;34m.\u001b[0m\u001b[0m_convert_slice_indexer\u001b[0m\u001b[0;34m(\u001b[0m\u001b[0mkey\u001b[0m\u001b[0;34m,\u001b[0m \u001b[0mkind\u001b[0m\u001b[0;34m=\u001b[0m\u001b[0;34m\"getitem\"\u001b[0m\u001b[0;34m)\u001b[0m\u001b[0;34m\u001b[0m\u001b[0;34m\u001b[0m\u001b[0m\n\u001b[0m\u001b[1;32m   1116\u001b[0m             \u001b[0;32mreturn\u001b[0m \u001b[0mself\u001b[0m\u001b[0;34m.\u001b[0m\u001b[0m_get_values\u001b[0m\u001b[0;34m(\u001b[0m\u001b[0mindexer\u001b[0m\u001b[0;34m)\u001b[0m\u001b[0;34m\u001b[0m\u001b[0;34m\u001b[0m\u001b[0m\n\u001b[1;32m   1117\u001b[0m         \u001b[0;32melif\u001b[0m \u001b[0misinstance\u001b[0m\u001b[0;34m(\u001b[0m\u001b[0mkey\u001b[0m\u001b[0;34m,\u001b[0m \u001b[0mABCDataFrame\u001b[0m\u001b[0;34m)\u001b[0m\u001b[0;34m:\u001b[0m\u001b[0;34m\u001b[0m\u001b[0;34m\u001b[0m\u001b[0m\n",
      "\u001b[0;32m~/anaconda3/lib/python3.6/site-packages/pandas/core/indexes/numeric.py\u001b[0m in \u001b[0;36m_convert_slice_indexer\u001b[0;34m(self, key, kind)\u001b[0m\n\u001b[1;32m    395\u001b[0m \u001b[0;34m\u001b[0m\u001b[0m\n\u001b[1;32m    396\u001b[0m         \u001b[0;31m# translate to locations\u001b[0m\u001b[0;34m\u001b[0m\u001b[0;34m\u001b[0m\u001b[0;34m\u001b[0m\u001b[0m\n\u001b[0;32m--> 397\u001b[0;31m         \u001b[0;32mreturn\u001b[0m \u001b[0mself\u001b[0m\u001b[0;34m.\u001b[0m\u001b[0mslice_indexer\u001b[0m\u001b[0;34m(\u001b[0m\u001b[0mkey\u001b[0m\u001b[0;34m.\u001b[0m\u001b[0mstart\u001b[0m\u001b[0;34m,\u001b[0m \u001b[0mkey\u001b[0m\u001b[0;34m.\u001b[0m\u001b[0mstop\u001b[0m\u001b[0;34m,\u001b[0m \u001b[0mkey\u001b[0m\u001b[0;34m.\u001b[0m\u001b[0mstep\u001b[0m\u001b[0;34m,\u001b[0m \u001b[0mkind\u001b[0m\u001b[0;34m=\u001b[0m\u001b[0mkind\u001b[0m\u001b[0;34m)\u001b[0m\u001b[0;34m\u001b[0m\u001b[0;34m\u001b[0m\u001b[0m\n\u001b[0m\u001b[1;32m    398\u001b[0m \u001b[0;34m\u001b[0m\u001b[0m\n\u001b[1;32m    399\u001b[0m     def _format_native_types(\n",
      "\u001b[0;32m~/anaconda3/lib/python3.6/site-packages/pandas/core/indexes/base.py\u001b[0m in \u001b[0;36mslice_indexer\u001b[0;34m(self, start, end, step, kind)\u001b[0m\n\u001b[1;32m   5032\u001b[0m         \u001b[0mslice\u001b[0m\u001b[0;34m(\u001b[0m\u001b[0;36m1\u001b[0m\u001b[0;34m,\u001b[0m \u001b[0;36m3\u001b[0m\u001b[0;34m)\u001b[0m\u001b[0;34m\u001b[0m\u001b[0;34m\u001b[0m\u001b[0m\n\u001b[1;32m   5033\u001b[0m         \"\"\"\n\u001b[0;32m-> 5034\u001b[0;31m         \u001b[0mstart_slice\u001b[0m\u001b[0;34m,\u001b[0m \u001b[0mend_slice\u001b[0m \u001b[0;34m=\u001b[0m \u001b[0mself\u001b[0m\u001b[0;34m.\u001b[0m\u001b[0mslice_locs\u001b[0m\u001b[0;34m(\u001b[0m\u001b[0mstart\u001b[0m\u001b[0;34m,\u001b[0m \u001b[0mend\u001b[0m\u001b[0;34m,\u001b[0m \u001b[0mstep\u001b[0m\u001b[0;34m=\u001b[0m\u001b[0mstep\u001b[0m\u001b[0;34m,\u001b[0m \u001b[0mkind\u001b[0m\u001b[0;34m=\u001b[0m\u001b[0mkind\u001b[0m\u001b[0;34m)\u001b[0m\u001b[0;34m\u001b[0m\u001b[0;34m\u001b[0m\u001b[0m\n\u001b[0m\u001b[1;32m   5035\u001b[0m \u001b[0;34m\u001b[0m\u001b[0m\n\u001b[1;32m   5036\u001b[0m         \u001b[0;31m# return a slice\u001b[0m\u001b[0;34m\u001b[0m\u001b[0;34m\u001b[0m\u001b[0;34m\u001b[0m\u001b[0m\n",
      "\u001b[0;32m~/anaconda3/lib/python3.6/site-packages/pandas/core/indexes/base.py\u001b[0m in \u001b[0;36mslice_locs\u001b[0;34m(self, start, end, step, kind)\u001b[0m\n\u001b[1;32m   5246\u001b[0m         \u001b[0mstart_slice\u001b[0m \u001b[0;34m=\u001b[0m \u001b[0;32mNone\u001b[0m\u001b[0;34m\u001b[0m\u001b[0;34m\u001b[0m\u001b[0m\n\u001b[1;32m   5247\u001b[0m         \u001b[0;32mif\u001b[0m \u001b[0mstart\u001b[0m \u001b[0;32mis\u001b[0m \u001b[0;32mnot\u001b[0m \u001b[0;32mNone\u001b[0m\u001b[0;34m:\u001b[0m\u001b[0;34m\u001b[0m\u001b[0;34m\u001b[0m\u001b[0m\n\u001b[0;32m-> 5248\u001b[0;31m             \u001b[0mstart_slice\u001b[0m \u001b[0;34m=\u001b[0m \u001b[0mself\u001b[0m\u001b[0;34m.\u001b[0m\u001b[0mget_slice_bound\u001b[0m\u001b[0;34m(\u001b[0m\u001b[0mstart\u001b[0m\u001b[0;34m,\u001b[0m \u001b[0;34m\"left\"\u001b[0m\u001b[0;34m,\u001b[0m \u001b[0mkind\u001b[0m\u001b[0;34m)\u001b[0m\u001b[0;34m\u001b[0m\u001b[0;34m\u001b[0m\u001b[0m\n\u001b[0m\u001b[1;32m   5249\u001b[0m         \u001b[0;32mif\u001b[0m \u001b[0mstart_slice\u001b[0m \u001b[0;32mis\u001b[0m \u001b[0;32mNone\u001b[0m\u001b[0;34m:\u001b[0m\u001b[0;34m\u001b[0m\u001b[0;34m\u001b[0m\u001b[0m\n\u001b[1;32m   5250\u001b[0m             \u001b[0mstart_slice\u001b[0m \u001b[0;34m=\u001b[0m \u001b[0;36m0\u001b[0m\u001b[0;34m\u001b[0m\u001b[0;34m\u001b[0m\u001b[0m\n",
      "\u001b[0;32m~/anaconda3/lib/python3.6/site-packages/pandas/core/indexes/base.py\u001b[0m in \u001b[0;36mget_slice_bound\u001b[0;34m(self, label, side, kind)\u001b[0m\n\u001b[1;32m   5168\u001b[0m             \u001b[0;32mexcept\u001b[0m \u001b[0mValueError\u001b[0m\u001b[0;34m:\u001b[0m\u001b[0;34m\u001b[0m\u001b[0;34m\u001b[0m\u001b[0m\n\u001b[1;32m   5169\u001b[0m                 \u001b[0;31m# raise the original KeyError\u001b[0m\u001b[0;34m\u001b[0m\u001b[0;34m\u001b[0m\u001b[0;34m\u001b[0m\u001b[0m\n\u001b[0;32m-> 5170\u001b[0;31m                 \u001b[0;32mraise\u001b[0m \u001b[0merr\u001b[0m\u001b[0;34m\u001b[0m\u001b[0;34m\u001b[0m\u001b[0m\n\u001b[0m\u001b[1;32m   5171\u001b[0m \u001b[0;34m\u001b[0m\u001b[0m\n\u001b[1;32m   5172\u001b[0m         \u001b[0;32mif\u001b[0m \u001b[0misinstance\u001b[0m\u001b[0;34m(\u001b[0m\u001b[0mslc\u001b[0m\u001b[0;34m,\u001b[0m \u001b[0mnp\u001b[0m\u001b[0;34m.\u001b[0m\u001b[0mndarray\u001b[0m\u001b[0;34m)\u001b[0m\u001b[0;34m:\u001b[0m\u001b[0;34m\u001b[0m\u001b[0;34m\u001b[0m\u001b[0m\n",
      "\u001b[0;32m~/anaconda3/lib/python3.6/site-packages/pandas/core/indexes/base.py\u001b[0m in \u001b[0;36mget_slice_bound\u001b[0;34m(self, label, side, kind)\u001b[0m\n\u001b[1;32m   5162\u001b[0m         \u001b[0;31m# we need to look up the label\u001b[0m\u001b[0;34m\u001b[0m\u001b[0;34m\u001b[0m\u001b[0;34m\u001b[0m\u001b[0m\n\u001b[1;32m   5163\u001b[0m         \u001b[0;32mtry\u001b[0m\u001b[0;34m:\u001b[0m\u001b[0;34m\u001b[0m\u001b[0;34m\u001b[0m\u001b[0m\n\u001b[0;32m-> 5164\u001b[0;31m             \u001b[0mslc\u001b[0m \u001b[0;34m=\u001b[0m \u001b[0mself\u001b[0m\u001b[0;34m.\u001b[0m\u001b[0mget_loc\u001b[0m\u001b[0;34m(\u001b[0m\u001b[0mlabel\u001b[0m\u001b[0;34m)\u001b[0m\u001b[0;34m\u001b[0m\u001b[0;34m\u001b[0m\u001b[0m\n\u001b[0m\u001b[1;32m   5165\u001b[0m         \u001b[0;32mexcept\u001b[0m \u001b[0mKeyError\u001b[0m \u001b[0;32mas\u001b[0m \u001b[0merr\u001b[0m\u001b[0;34m:\u001b[0m\u001b[0;34m\u001b[0m\u001b[0;34m\u001b[0m\u001b[0m\n\u001b[1;32m   5166\u001b[0m             \u001b[0;32mtry\u001b[0m\u001b[0;34m:\u001b[0m\u001b[0;34m\u001b[0m\u001b[0;34m\u001b[0m\u001b[0m\n",
      "\u001b[0;32m~/anaconda3/lib/python3.6/site-packages/pandas/core/indexes/numeric.py\u001b[0m in \u001b[0;36mget_loc\u001b[0;34m(self, key, method, tolerance)\u001b[0m\n\u001b[1;32m    477\u001b[0m         \u001b[0;32mexcept\u001b[0m \u001b[0;34m(\u001b[0m\u001b[0mTypeError\u001b[0m\u001b[0;34m,\u001b[0m \u001b[0mNotImplementedError\u001b[0m\u001b[0;34m)\u001b[0m\u001b[0;34m:\u001b[0m\u001b[0;34m\u001b[0m\u001b[0;34m\u001b[0m\u001b[0m\n\u001b[1;32m    478\u001b[0m             \u001b[0;32mpass\u001b[0m\u001b[0;34m\u001b[0m\u001b[0;34m\u001b[0m\u001b[0m\n\u001b[0;32m--> 479\u001b[0;31m         \u001b[0;32mreturn\u001b[0m \u001b[0msuper\u001b[0m\u001b[0;34m(\u001b[0m\u001b[0;34m)\u001b[0m\u001b[0;34m.\u001b[0m\u001b[0mget_loc\u001b[0m\u001b[0;34m(\u001b[0m\u001b[0mkey\u001b[0m\u001b[0;34m,\u001b[0m \u001b[0mmethod\u001b[0m\u001b[0;34m=\u001b[0m\u001b[0mmethod\u001b[0m\u001b[0;34m,\u001b[0m \u001b[0mtolerance\u001b[0m\u001b[0;34m=\u001b[0m\u001b[0mtolerance\u001b[0m\u001b[0;34m)\u001b[0m\u001b[0;34m\u001b[0m\u001b[0;34m\u001b[0m\u001b[0m\n\u001b[0m\u001b[1;32m    480\u001b[0m \u001b[0;34m\u001b[0m\u001b[0m\n\u001b[1;32m    481\u001b[0m     \u001b[0;34m@\u001b[0m\u001b[0mcache_readonly\u001b[0m\u001b[0;34m\u001b[0m\u001b[0;34m\u001b[0m\u001b[0m\n",
      "\u001b[0;32m~/anaconda3/lib/python3.6/site-packages/pandas/core/indexes/base.py\u001b[0m in \u001b[0;36mget_loc\u001b[0;34m(self, key, method, tolerance)\u001b[0m\n\u001b[1;32m   2897\u001b[0m                 \u001b[0;32mreturn\u001b[0m \u001b[0mself\u001b[0m\u001b[0;34m.\u001b[0m\u001b[0m_engine\u001b[0m\u001b[0;34m.\u001b[0m\u001b[0mget_loc\u001b[0m\u001b[0;34m(\u001b[0m\u001b[0mkey\u001b[0m\u001b[0;34m)\u001b[0m\u001b[0;34m\u001b[0m\u001b[0;34m\u001b[0m\u001b[0m\n\u001b[1;32m   2898\u001b[0m             \u001b[0;32mexcept\u001b[0m \u001b[0mKeyError\u001b[0m\u001b[0;34m:\u001b[0m\u001b[0;34m\u001b[0m\u001b[0;34m\u001b[0m\u001b[0m\n\u001b[0;32m-> 2899\u001b[0;31m                 \u001b[0;32mreturn\u001b[0m \u001b[0mself\u001b[0m\u001b[0;34m.\u001b[0m\u001b[0m_engine\u001b[0m\u001b[0;34m.\u001b[0m\u001b[0mget_loc\u001b[0m\u001b[0;34m(\u001b[0m\u001b[0mself\u001b[0m\u001b[0;34m.\u001b[0m\u001b[0m_maybe_cast_indexer\u001b[0m\u001b[0;34m(\u001b[0m\u001b[0mkey\u001b[0m\u001b[0;34m)\u001b[0m\u001b[0;34m)\u001b[0m\u001b[0;34m\u001b[0m\u001b[0;34m\u001b[0m\u001b[0m\n\u001b[0m\u001b[1;32m   2900\u001b[0m         \u001b[0mindexer\u001b[0m \u001b[0;34m=\u001b[0m \u001b[0mself\u001b[0m\u001b[0;34m.\u001b[0m\u001b[0mget_indexer\u001b[0m\u001b[0;34m(\u001b[0m\u001b[0;34m[\u001b[0m\u001b[0mkey\u001b[0m\u001b[0;34m]\u001b[0m\u001b[0;34m,\u001b[0m \u001b[0mmethod\u001b[0m\u001b[0;34m=\u001b[0m\u001b[0mmethod\u001b[0m\u001b[0;34m,\u001b[0m \u001b[0mtolerance\u001b[0m\u001b[0;34m=\u001b[0m\u001b[0mtolerance\u001b[0m\u001b[0;34m)\u001b[0m\u001b[0;34m\u001b[0m\u001b[0;34m\u001b[0m\u001b[0m\n\u001b[1;32m   2901\u001b[0m         \u001b[0;32mif\u001b[0m \u001b[0mindexer\u001b[0m\u001b[0;34m.\u001b[0m\u001b[0mndim\u001b[0m \u001b[0;34m>\u001b[0m \u001b[0;36m1\u001b[0m \u001b[0;32mor\u001b[0m \u001b[0mindexer\u001b[0m\u001b[0;34m.\u001b[0m\u001b[0msize\u001b[0m \u001b[0;34m>\u001b[0m \u001b[0;36m1\u001b[0m\u001b[0;34m:\u001b[0m\u001b[0;34m\u001b[0m\u001b[0;34m\u001b[0m\u001b[0m\n",
      "\u001b[0;32mpandas/_libs/index.pyx\u001b[0m in \u001b[0;36mpandas._libs.index.IndexEngine.get_loc\u001b[0;34m()\u001b[0m\n",
      "\u001b[0;32mpandas/_libs/index.pyx\u001b[0m in \u001b[0;36mpandas._libs.index.IndexEngine.get_loc\u001b[0;34m()\u001b[0m\n",
      "\u001b[0;32mpandas/_libs/hashtable_class_helper.pxi\u001b[0m in \u001b[0;36mpandas._libs.hashtable.Float64HashTable.get_item\u001b[0;34m()\u001b[0m\n",
      "\u001b[0;32mpandas/_libs/hashtable_class_helper.pxi\u001b[0m in \u001b[0;36mpandas._libs.hashtable.Float64HashTable.get_item\u001b[0;34m()\u001b[0m\n",
      "\u001b[0;31mKeyError\u001b[0m: -8.0"
     ]
    }
   ],
   "source": [
    "for icol in test2.columns:\n",
    "    print(test2[icol].value_counts()[::-1][-8:])#.plot.barh()"
   ]
  },
  {
   "cell_type": "code",
   "execution_count": null,
   "metadata": {},
   "outputs": [],
   "source": []
  }
 ],
 "metadata": {
  "kernelspec": {
   "display_name": "Python 3",
   "language": "python",
   "name": "python3"
  },
  "language_info": {
   "codemirror_mode": {
    "name": "ipython",
    "version": 3
   },
   "file_extension": ".py",
   "mimetype": "text/x-python",
   "name": "python",
   "nbconvert_exporter": "python",
   "pygments_lexer": "ipython3",
   "version": "3.6.9"
  }
 },
 "nbformat": 4,
 "nbformat_minor": 2
}
