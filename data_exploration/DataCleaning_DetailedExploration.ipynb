{
 "cells": [
  {
   "cell_type": "code",
   "execution_count": 1,
   "metadata": {},
   "outputs": [],
   "source": [
    "import numpy as np\n",
    "import pandas as pd\n",
    "import matplotlib.pyplot as plt\n",
    "%matplotlib inline \n",
    "\n",
    "filename = '/Users/mac/Desktop/BigData_ProjectData/SPARCS-2017.csv'"
   ]
  },
  {
   "cell_type": "code",
   "execution_count": 2,
   "metadata": {},
   "outputs": [
    {
     "name": "stderr",
     "output_type": "stream",
     "text": [
      "/Users/mac/anaconda3/lib/python3.6/site-packages/IPython/core/interactiveshell.py:3058: DtypeWarning: Columns (29) have mixed types. Specify dtype option on import or set low_memory=False.\n",
      "  interactivity=interactivity, compiler=compiler, result=result)\n"
     ]
    },
    {
     "data": {
      "text/html": [
       "<div>\n",
       "<style scoped>\n",
       "    .dataframe tbody tr th:only-of-type {\n",
       "        vertical-align: middle;\n",
       "    }\n",
       "\n",
       "    .dataframe tbody tr th {\n",
       "        vertical-align: top;\n",
       "    }\n",
       "\n",
       "    .dataframe thead th {\n",
       "        text-align: right;\n",
       "    }\n",
       "</style>\n",
       "<table border=\"1\" class=\"dataframe\">\n",
       "  <thead>\n",
       "    <tr style=\"text-align: right;\">\n",
       "      <th></th>\n",
       "      <th>Hospital Service Area</th>\n",
       "      <th>Hospital County</th>\n",
       "      <th>Operating Certificate Number</th>\n",
       "      <th>Permanent Facility Id</th>\n",
       "      <th>Facility Name</th>\n",
       "      <th>Age Group</th>\n",
       "      <th>Zip Code - 3 digits</th>\n",
       "      <th>Gender</th>\n",
       "      <th>Race</th>\n",
       "      <th>Ethnicity</th>\n",
       "      <th>...</th>\n",
       "      <th>APR Risk of Mortality</th>\n",
       "      <th>APR Medical Surgical Description</th>\n",
       "      <th>Payment Typology 1</th>\n",
       "      <th>Payment Typology 2</th>\n",
       "      <th>Payment Typology 3</th>\n",
       "      <th>Birth Weight</th>\n",
       "      <th>Abortion Edit Indicator</th>\n",
       "      <th>Emergency Department Indicator</th>\n",
       "      <th>Total Charges</th>\n",
       "      <th>Total Costs</th>\n",
       "    </tr>\n",
       "  </thead>\n",
       "  <tbody>\n",
       "    <tr>\n",
       "      <td>0</td>\n",
       "      <td>Hudson Valley</td>\n",
       "      <td>Westchester</td>\n",
       "      <td>5903001.0</td>\n",
       "      <td>1061.0</td>\n",
       "      <td>Montefiore Mount Vernon Hospital</td>\n",
       "      <td>30 to 49</td>\n",
       "      <td>NaN</td>\n",
       "      <td>M</td>\n",
       "      <td>White</td>\n",
       "      <td>Not Span/Hispanic</td>\n",
       "      <td>...</td>\n",
       "      <td>Minor</td>\n",
       "      <td>Medical</td>\n",
       "      <td>Medicare</td>\n",
       "      <td>Medicare</td>\n",
       "      <td>Self-Pay</td>\n",
       "      <td>NaN</td>\n",
       "      <td>N</td>\n",
       "      <td>N</td>\n",
       "      <td>114168.00</td>\n",
       "      <td>40464.04</td>\n",
       "    </tr>\n",
       "    <tr>\n",
       "      <td>1</td>\n",
       "      <td>Hudson Valley</td>\n",
       "      <td>Westchester</td>\n",
       "      <td>5903001.0</td>\n",
       "      <td>1061.0</td>\n",
       "      <td>Montefiore Mount Vernon Hospital</td>\n",
       "      <td>50 to 69</td>\n",
       "      <td>105</td>\n",
       "      <td>M</td>\n",
       "      <td>White</td>\n",
       "      <td>Spanish/Hispanic</td>\n",
       "      <td>...</td>\n",
       "      <td>Moderate</td>\n",
       "      <td>Medical</td>\n",
       "      <td>Medicaid</td>\n",
       "      <td>Medicaid</td>\n",
       "      <td>Self-Pay</td>\n",
       "      <td>NaN</td>\n",
       "      <td>N</td>\n",
       "      <td>N</td>\n",
       "      <td>58517.00</td>\n",
       "      <td>26046.50</td>\n",
       "    </tr>\n",
       "    <tr>\n",
       "      <td>2</td>\n",
       "      <td>Hudson Valley</td>\n",
       "      <td>Westchester</td>\n",
       "      <td>5903001.0</td>\n",
       "      <td>1061.0</td>\n",
       "      <td>Montefiore Mount Vernon Hospital</td>\n",
       "      <td>30 to 49</td>\n",
       "      <td>105</td>\n",
       "      <td>F</td>\n",
       "      <td>White</td>\n",
       "      <td>Unknown</td>\n",
       "      <td>...</td>\n",
       "      <td>Moderate</td>\n",
       "      <td>Medical</td>\n",
       "      <td>Department of Corrections</td>\n",
       "      <td>Self-Pay</td>\n",
       "      <td>NaN</td>\n",
       "      <td>NaN</td>\n",
       "      <td>N</td>\n",
       "      <td>N</td>\n",
       "      <td>39647.04</td>\n",
       "      <td>17397.59</td>\n",
       "    </tr>\n",
       "    <tr>\n",
       "      <td>3</td>\n",
       "      <td>Hudson Valley</td>\n",
       "      <td>Westchester</td>\n",
       "      <td>5903001.0</td>\n",
       "      <td>1061.0</td>\n",
       "      <td>Montefiore Mount Vernon Hospital</td>\n",
       "      <td>50 to 69</td>\n",
       "      <td>105</td>\n",
       "      <td>F</td>\n",
       "      <td>White</td>\n",
       "      <td>Not Span/Hispanic</td>\n",
       "      <td>...</td>\n",
       "      <td>Moderate</td>\n",
       "      <td>Medical</td>\n",
       "      <td>Medicaid</td>\n",
       "      <td>Medicaid</td>\n",
       "      <td>Self-Pay</td>\n",
       "      <td>NaN</td>\n",
       "      <td>N</td>\n",
       "      <td>N</td>\n",
       "      <td>36031.09</td>\n",
       "      <td>16118.84</td>\n",
       "    </tr>\n",
       "    <tr>\n",
       "      <td>4</td>\n",
       "      <td>Hudson Valley</td>\n",
       "      <td>Westchester</td>\n",
       "      <td>5903001.0</td>\n",
       "      <td>1061.0</td>\n",
       "      <td>Montefiore Mount Vernon Hospital</td>\n",
       "      <td>18 to 29</td>\n",
       "      <td>105</td>\n",
       "      <td>F</td>\n",
       "      <td>White</td>\n",
       "      <td>Spanish/Hispanic</td>\n",
       "      <td>...</td>\n",
       "      <td>Minor</td>\n",
       "      <td>Medical</td>\n",
       "      <td>Department of Corrections</td>\n",
       "      <td>Self-Pay</td>\n",
       "      <td>NaN</td>\n",
       "      <td>NaN</td>\n",
       "      <td>N</td>\n",
       "      <td>N</td>\n",
       "      <td>30534.00</td>\n",
       "      <td>11921.05</td>\n",
       "    </tr>\n",
       "  </tbody>\n",
       "</table>\n",
       "<p>5 rows × 34 columns</p>\n",
       "</div>"
      ],
      "text/plain": [
       "  Hospital Service Area Hospital County  Operating Certificate Number  \\\n",
       "0         Hudson Valley     Westchester                     5903001.0   \n",
       "1         Hudson Valley     Westchester                     5903001.0   \n",
       "2         Hudson Valley     Westchester                     5903001.0   \n",
       "3         Hudson Valley     Westchester                     5903001.0   \n",
       "4         Hudson Valley     Westchester                     5903001.0   \n",
       "\n",
       "   Permanent Facility Id                     Facility Name Age Group  \\\n",
       "0                 1061.0  Montefiore Mount Vernon Hospital  30 to 49   \n",
       "1                 1061.0  Montefiore Mount Vernon Hospital  50 to 69   \n",
       "2                 1061.0  Montefiore Mount Vernon Hospital  30 to 49   \n",
       "3                 1061.0  Montefiore Mount Vernon Hospital  50 to 69   \n",
       "4                 1061.0  Montefiore Mount Vernon Hospital  18 to 29   \n",
       "\n",
       "  Zip Code - 3 digits Gender   Race          Ethnicity  ...  \\\n",
       "0                 NaN      M  White  Not Span/Hispanic  ...   \n",
       "1                 105      M  White   Spanish/Hispanic  ...   \n",
       "2                 105      F  White            Unknown  ...   \n",
       "3                 105      F  White  Not Span/Hispanic  ...   \n",
       "4                 105      F  White   Spanish/Hispanic  ...   \n",
       "\n",
       "  APR Risk of Mortality APR Medical Surgical Description  \\\n",
       "0                 Minor                          Medical   \n",
       "1              Moderate                          Medical   \n",
       "2              Moderate                          Medical   \n",
       "3              Moderate                          Medical   \n",
       "4                 Minor                          Medical   \n",
       "\n",
       "          Payment Typology 1  Payment Typology 2  Payment Typology 3  \\\n",
       "0                   Medicare            Medicare            Self-Pay   \n",
       "1                   Medicaid            Medicaid            Self-Pay   \n",
       "2  Department of Corrections            Self-Pay                 NaN   \n",
       "3                   Medicaid            Medicaid            Self-Pay   \n",
       "4  Department of Corrections            Self-Pay                 NaN   \n",
       "\n",
       "  Birth Weight  Abortion Edit Indicator Emergency Department Indicator  \\\n",
       "0          NaN                        N                              N   \n",
       "1          NaN                        N                              N   \n",
       "2          NaN                        N                              N   \n",
       "3          NaN                        N                              N   \n",
       "4          NaN                        N                              N   \n",
       "\n",
       "   Total Charges Total Costs  \n",
       "0      114168.00    40464.04  \n",
       "1       58517.00    26046.50  \n",
       "2       39647.04    17397.59  \n",
       "3       36031.09    16118.84  \n",
       "4       30534.00    11921.05  \n",
       "\n",
       "[5 rows x 34 columns]"
      ]
     },
     "execution_count": 2,
     "metadata": {},
     "output_type": "execute_result"
    }
   ],
   "source": [
    "data = pd.read_csv(filename, encoding = \"ISO-8859-1\")\n",
    "data.head()"
   ]
  },
  {
   "cell_type": "code",
   "execution_count": 3,
   "metadata": {},
   "outputs": [
    {
     "data": {
      "text/plain": [
       "(2343569, 34)"
      ]
     },
     "execution_count": 3,
     "metadata": {},
     "output_type": "execute_result"
    }
   ],
   "source": [
    "np.shape(data)"
   ]
  },
  {
   "cell_type": "code",
   "execution_count": 4,
   "metadata": {},
   "outputs": [
    {
     "data": {
      "text/plain": [
       "Hospital Service Area                  2338414\n",
       "Hospital County                        2338414\n",
       "Operating Certificate Number           2338414\n",
       "Permanent Facility Id                  2338414\n",
       "Facility Name                          2343569\n",
       "Age Group                              2343569\n",
       "Zip Code - 3 digits                    2304550\n",
       "Gender                                 2343569\n",
       "Race                                   2343569\n",
       "Ethnicity                              2343569\n",
       "Length of Stay                         2343569\n",
       "Type of Admission                      2343569\n",
       "Patient Disposition                    2343569\n",
       "Discharge Year                         2343569\n",
       "CCS Diagnosis Code                     2343569\n",
       "CCS Diagnosis Description              2343569\n",
       "CCS Procedure Code                     2343569\n",
       "CCS Procedure Description              2343569\n",
       "APR DRG Code                           2343569\n",
       "APR DRG Description                    2343569\n",
       "APR MDC Code                           2343569\n",
       "APR MDC Description                    2343569\n",
       "APR Severity of Illness Code           2343569\n",
       "APR Severity of Illness Description    2343329\n",
       "APR Risk of Mortality                  2343329\n",
       "APR Medical Surgical Description       2343569\n",
       "Payment Typology 1                     2343569\n",
       "Payment Typology 2                     1464847\n",
       "Payment Typology 3                      606325\n",
       "Birth Weight                            227884\n",
       "Abortion Edit Indicator                2343569\n",
       "Emergency Department Indicator         2343569\n",
       "Total Charges                          2343569\n",
       "Total Costs                            2343569\n",
       "dtype: int64"
      ]
     },
     "execution_count": 4,
     "metadata": {},
     "output_type": "execute_result"
    }
   ],
   "source": [
    "data.count()"
   ]
  },
  {
   "cell_type": "markdown",
   "metadata": {},
   "source": [
    "Columns containing missing values, #values/#rows:\n",
    "Hospital Service Area 99.78%\n",
    "Hospital County 99.78%\n",
    "Operating Certificate Number 99.78%\n",
    "Permanent Facility Id 99.78%\n",
    "Zip Code - 3 digits 98.33%\n",
    "APR Severity of Illness Description 99.99%\n",
    "APR Risk of Mortality 99.99%\n",
    "Payment Typology 2 62.5%\n",
    "Payment Typology 3 25.87%\n",
    "Birth Weight 9.7% "
   ]
  },
  {
   "cell_type": "code",
   "execution_count": 15,
   "metadata": {},
   "outputs": [
    {
     "data": {
      "text/plain": [
       "(2343569, 34)"
      ]
     },
     "execution_count": 15,
     "metadata": {},
     "output_type": "execute_result"
    }
   ],
   "source": [
    "np.shape(data[data[\"Hospital Service Area\"] != \"\"])"
   ]
  },
  {
   "cell_type": "code",
   "execution_count": 19,
   "metadata": {},
   "outputs": [
    {
     "data": {
      "text/plain": [
       "Hospital Service Area                  2304316\n",
       "Hospital County                        2304316\n",
       "Operating Certificate Number           2304316\n",
       "Permanent Facility Id                  2304316\n",
       "Facility Name                          2304316\n",
       "Age Group                              2304316\n",
       "Zip Code - 3 digits                    2304316\n",
       "Gender                                 2304316\n",
       "Race                                   2304316\n",
       "Ethnicity                              2304316\n",
       "Length of Stay                         2304316\n",
       "Type of Admission                      2304316\n",
       "Patient Disposition                    2304316\n",
       "Discharge Year                         2304316\n",
       "CCS Diagnosis Code                     2304316\n",
       "CCS Diagnosis Description              2304316\n",
       "CCS Procedure Code                     2304316\n",
       "CCS Procedure Description              2304316\n",
       "APR DRG Code                           2304316\n",
       "APR DRG Description                    2304316\n",
       "APR MDC Code                           2304316\n",
       "APR MDC Description                    2304316\n",
       "APR Severity of Illness Code           2304316\n",
       "APR Severity of Illness Description    2304316\n",
       "APR Risk of Mortality                  2304316\n",
       "APR Medical Surgical Description       2304316\n",
       "Payment Typology 1                     2304316\n",
       "Payment Typology 2                     1442659\n",
       "Payment Typology 3                      597397\n",
       "Birth Weight                            224082\n",
       "Abortion Edit Indicator                2304316\n",
       "Emergency Department Indicator         2304316\n",
       "Total Charges                          2304316\n",
       "Total Costs                            2304316\n",
       "dtype: int64"
      ]
     },
     "execution_count": 19,
     "metadata": {},
     "output_type": "execute_result"
    }
   ],
   "source": [
    "data2 = data.dropna(subset = ['Hospital Service Area','Zip Code - 3 digits',\n",
    "                             'APR Risk of Mortality'])\n",
    "data2.count()"
   ]
  },
  {
   "cell_type": "markdown",
   "metadata": {},
   "source": [
    "3351 records of \"Abortion Edit Indicator\"=='Y', plus 2338414 records of Hospital Service Area, equal to 2341765. Less than 2343569, which means that some of the NA records in Hospital Service Area are not abortion.\n",
    "\n",
    "Records before dropping 2343569, after dropping 2304316, so drop rate 1.7%. No NA records (except payment typology 2&3), no abortion records.\n",
    "\n",
    "Or we could do abortion analysis (around 3000) on race, etc, no geographical."
   ]
  },
  {
   "cell_type": "code",
   "execution_count": 17,
   "metadata": {},
   "outputs": [
    {
     "data": {
      "text/plain": [
       "{'N'}"
      ]
     },
     "execution_count": 17,
     "metadata": {},
     "output_type": "execute_result"
    }
   ],
   "source": [
    "set(data2[\"Abortion Edit Indicator\"])"
   ]
  },
  {
   "cell_type": "markdown",
   "metadata": {},
   "source": [
    "Drop list:\n",
    "1. Discharge Year: only one value, 2017\n",
    "2. Abortion Edit Indicator: after dropping na, only one value, N for no abortion.\n",
    "3. Operating Certificate Number: The facility Operating Certificate Number as assigned by NYS Department of Health.\n",
    "4. Permanent Facility Id: almost 1-to-1 correspondence to \"Facility Name\" with slight difference. \n",
    "5. CCS Diagnosis Code: 1-to-1 correspondence to \"CCS Diagnosis Description\".\n",
    "6. CCS Procedure Code\": 1-to-1 correspondence to \"CCS Procedure Description\".\n",
    "7. APR MDC Code: 1-to-1 correspondence to \"APR MDC Description\"\n",
    "8. APR Severity of Illness Code: 1-to-1 correspondence to \"APR Severity of Illness Description\".\n",
    "9. APR DRG Code: 1-to-1 correspondence to \"APR DRG Description\".\n"
   ]
  },
  {
   "cell_type": "code",
   "execution_count": 54,
   "metadata": {},
   "outputs": [],
   "source": [
    "droplist = [\"Discharge Year\",\"Abortion Edit Indicator\",\n",
    "            \"Operating Certificate Number\",\"Permanent Facility Id\",\n",
    "            \"CCS Diagnosis Code\",\"CCS Procedure Code\",\n",
    "            \"APR MDC Code\",\"APR Severity of Illness Code\",\n",
    "           \"APR DRG Code\"]"
   ]
  },
  {
   "cell_type": "code",
   "execution_count": 55,
   "metadata": {},
   "outputs": [
    {
     "name": "stdout",
     "output_type": "stream",
     "text": [
      "(2304316, 25)\n"
     ]
    },
    {
     "data": {
      "text/html": [
       "<div>\n",
       "<style scoped>\n",
       "    .dataframe tbody tr th:only-of-type {\n",
       "        vertical-align: middle;\n",
       "    }\n",
       "\n",
       "    .dataframe tbody tr th {\n",
       "        vertical-align: top;\n",
       "    }\n",
       "\n",
       "    .dataframe thead th {\n",
       "        text-align: right;\n",
       "    }\n",
       "</style>\n",
       "<table border=\"1\" class=\"dataframe\">\n",
       "  <thead>\n",
       "    <tr style=\"text-align: right;\">\n",
       "      <th></th>\n",
       "      <th>Hospital Service Area</th>\n",
       "      <th>Hospital County</th>\n",
       "      <th>Facility Name</th>\n",
       "      <th>Age Group</th>\n",
       "      <th>Zip Code - 3 digits</th>\n",
       "      <th>Gender</th>\n",
       "      <th>Race</th>\n",
       "      <th>Ethnicity</th>\n",
       "      <th>Length of Stay</th>\n",
       "      <th>Type of Admission</th>\n",
       "      <th>...</th>\n",
       "      <th>APR Severity of Illness Description</th>\n",
       "      <th>APR Risk of Mortality</th>\n",
       "      <th>APR Medical Surgical Description</th>\n",
       "      <th>Payment Typology 1</th>\n",
       "      <th>Payment Typology 2</th>\n",
       "      <th>Payment Typology 3</th>\n",
       "      <th>Birth Weight</th>\n",
       "      <th>Emergency Department Indicator</th>\n",
       "      <th>Total Charges</th>\n",
       "      <th>Total Costs</th>\n",
       "    </tr>\n",
       "  </thead>\n",
       "  <tbody>\n",
       "    <tr>\n",
       "      <td>1</td>\n",
       "      <td>Hudson Valley</td>\n",
       "      <td>Westchester</td>\n",
       "      <td>Montefiore Mount Vernon Hospital</td>\n",
       "      <td>50 to 69</td>\n",
       "      <td>105</td>\n",
       "      <td>M</td>\n",
       "      <td>White</td>\n",
       "      <td>Spanish/Hispanic</td>\n",
       "      <td>8</td>\n",
       "      <td>Emergency</td>\n",
       "      <td>...</td>\n",
       "      <td>Major</td>\n",
       "      <td>Moderate</td>\n",
       "      <td>Medical</td>\n",
       "      <td>Medicaid</td>\n",
       "      <td>Medicaid</td>\n",
       "      <td>Self-Pay</td>\n",
       "      <td>NaN</td>\n",
       "      <td>N</td>\n",
       "      <td>58517.00</td>\n",
       "      <td>26046.50</td>\n",
       "    </tr>\n",
       "    <tr>\n",
       "      <td>2</td>\n",
       "      <td>Hudson Valley</td>\n",
       "      <td>Westchester</td>\n",
       "      <td>Montefiore Mount Vernon Hospital</td>\n",
       "      <td>30 to 49</td>\n",
       "      <td>105</td>\n",
       "      <td>F</td>\n",
       "      <td>White</td>\n",
       "      <td>Unknown</td>\n",
       "      <td>6</td>\n",
       "      <td>Emergency</td>\n",
       "      <td>...</td>\n",
       "      <td>Moderate</td>\n",
       "      <td>Moderate</td>\n",
       "      <td>Medical</td>\n",
       "      <td>Department of Corrections</td>\n",
       "      <td>Self-Pay</td>\n",
       "      <td>NaN</td>\n",
       "      <td>NaN</td>\n",
       "      <td>N</td>\n",
       "      <td>39647.04</td>\n",
       "      <td>17397.59</td>\n",
       "    </tr>\n",
       "    <tr>\n",
       "      <td>3</td>\n",
       "      <td>Hudson Valley</td>\n",
       "      <td>Westchester</td>\n",
       "      <td>Montefiore Mount Vernon Hospital</td>\n",
       "      <td>50 to 69</td>\n",
       "      <td>105</td>\n",
       "      <td>F</td>\n",
       "      <td>White</td>\n",
       "      <td>Not Span/Hispanic</td>\n",
       "      <td>4</td>\n",
       "      <td>Emergency</td>\n",
       "      <td>...</td>\n",
       "      <td>Moderate</td>\n",
       "      <td>Moderate</td>\n",
       "      <td>Medical</td>\n",
       "      <td>Medicaid</td>\n",
       "      <td>Medicaid</td>\n",
       "      <td>Self-Pay</td>\n",
       "      <td>NaN</td>\n",
       "      <td>N</td>\n",
       "      <td>36031.09</td>\n",
       "      <td>16118.84</td>\n",
       "    </tr>\n",
       "    <tr>\n",
       "      <td>4</td>\n",
       "      <td>Hudson Valley</td>\n",
       "      <td>Westchester</td>\n",
       "      <td>Montefiore Mount Vernon Hospital</td>\n",
       "      <td>18 to 29</td>\n",
       "      <td>105</td>\n",
       "      <td>F</td>\n",
       "      <td>White</td>\n",
       "      <td>Spanish/Hispanic</td>\n",
       "      <td>4</td>\n",
       "      <td>Emergency</td>\n",
       "      <td>...</td>\n",
       "      <td>Moderate</td>\n",
       "      <td>Minor</td>\n",
       "      <td>Medical</td>\n",
       "      <td>Department of Corrections</td>\n",
       "      <td>Self-Pay</td>\n",
       "      <td>NaN</td>\n",
       "      <td>NaN</td>\n",
       "      <td>N</td>\n",
       "      <td>30534.00</td>\n",
       "      <td>11921.05</td>\n",
       "    </tr>\n",
       "    <tr>\n",
       "      <td>5</td>\n",
       "      <td>Hudson Valley</td>\n",
       "      <td>Westchester</td>\n",
       "      <td>Montefiore Mount Vernon Hospital</td>\n",
       "      <td>50 to 69</td>\n",
       "      <td>105</td>\n",
       "      <td>M</td>\n",
       "      <td>Black/African American</td>\n",
       "      <td>Not Span/Hispanic</td>\n",
       "      <td>3</td>\n",
       "      <td>Emergency</td>\n",
       "      <td>...</td>\n",
       "      <td>Major</td>\n",
       "      <td>Major</td>\n",
       "      <td>Medical</td>\n",
       "      <td>Medicare</td>\n",
       "      <td>Medicare</td>\n",
       "      <td>Self-Pay</td>\n",
       "      <td>NaN</td>\n",
       "      <td>N</td>\n",
       "      <td>49290.08</td>\n",
       "      <td>18503.26</td>\n",
       "    </tr>\n",
       "  </tbody>\n",
       "</table>\n",
       "<p>5 rows × 25 columns</p>\n",
       "</div>"
      ],
      "text/plain": [
       "  Hospital Service Area Hospital County                     Facility Name  \\\n",
       "1         Hudson Valley     Westchester  Montefiore Mount Vernon Hospital   \n",
       "2         Hudson Valley     Westchester  Montefiore Mount Vernon Hospital   \n",
       "3         Hudson Valley     Westchester  Montefiore Mount Vernon Hospital   \n",
       "4         Hudson Valley     Westchester  Montefiore Mount Vernon Hospital   \n",
       "5         Hudson Valley     Westchester  Montefiore Mount Vernon Hospital   \n",
       "\n",
       "  Age Group Zip Code - 3 digits Gender                    Race  \\\n",
       "1  50 to 69                 105      M                   White   \n",
       "2  30 to 49                 105      F                   White   \n",
       "3  50 to 69                 105      F                   White   \n",
       "4  18 to 29                 105      F                   White   \n",
       "5  50 to 69                 105      M  Black/African American   \n",
       "\n",
       "           Ethnicity Length of Stay Type of Admission  ...  \\\n",
       "1   Spanish/Hispanic              8         Emergency  ...   \n",
       "2            Unknown              6         Emergency  ...   \n",
       "3  Not Span/Hispanic              4         Emergency  ...   \n",
       "4   Spanish/Hispanic              4         Emergency  ...   \n",
       "5  Not Span/Hispanic              3         Emergency  ...   \n",
       "\n",
       "  APR Severity of Illness Description APR Risk of Mortality  \\\n",
       "1                               Major              Moderate   \n",
       "2                            Moderate              Moderate   \n",
       "3                            Moderate              Moderate   \n",
       "4                            Moderate                 Minor   \n",
       "5                               Major                 Major   \n",
       "\n",
       "  APR Medical Surgical Description         Payment Typology 1  \\\n",
       "1                          Medical                   Medicaid   \n",
       "2                          Medical  Department of Corrections   \n",
       "3                          Medical                   Medicaid   \n",
       "4                          Medical  Department of Corrections   \n",
       "5                          Medical                   Medicare   \n",
       "\n",
       "  Payment Typology 2 Payment Typology 3 Birth Weight  \\\n",
       "1           Medicaid           Self-Pay          NaN   \n",
       "2           Self-Pay                NaN          NaN   \n",
       "3           Medicaid           Self-Pay          NaN   \n",
       "4           Self-Pay                NaN          NaN   \n",
       "5           Medicare           Self-Pay          NaN   \n",
       "\n",
       "  Emergency Department Indicator Total Charges Total Costs  \n",
       "1                              N      58517.00    26046.50  \n",
       "2                              N      39647.04    17397.59  \n",
       "3                              N      36031.09    16118.84  \n",
       "4                              N      30534.00    11921.05  \n",
       "5                              N      49290.08    18503.26  \n",
       "\n",
       "[5 rows x 25 columns]"
      ]
     },
     "execution_count": 55,
     "metadata": {},
     "output_type": "execute_result"
    }
   ],
   "source": [
    "data3 = data2.drop(droplist, axis=1)\n",
    "print(np.shape(data3))\n",
    "data3.head()"
   ]
  },
  {
   "cell_type": "code",
   "execution_count": 56,
   "metadata": {},
   "outputs": [
    {
     "data": {
      "text/plain": [
       "Hospital Service Area                        8\n",
       "Hospital County                             57\n",
       "Facility Name                              209\n",
       "Age Group                                    5\n",
       "Zip Code - 3 digits                         50\n",
       "Gender                                       3\n",
       "Race                                         4\n",
       "Ethnicity                                    4\n",
       "Length of Stay                             120\n",
       "Type of Admission                            6\n",
       "Patient Disposition                         20\n",
       "CCS Diagnosis Description                  259\n",
       "CCS Procedure Description                  222\n",
       "APR DRG Description                        312\n",
       "APR MDC Description                         24\n",
       "APR Severity of Illness Description          4\n",
       "APR Risk of Mortality                        4\n",
       "APR Medical Surgical Description             2\n",
       "Payment Typology 1                          10\n",
       "Payment Typology 2                          10\n",
       "Payment Typology 3                          10\n",
       "Birth Weight                               136\n",
       "Emergency Department Indicator               2\n",
       "Total Charges                          1819890\n",
       "Total Costs                            1519753\n",
       "dtype: int64"
      ]
     },
     "execution_count": 56,
     "metadata": {},
     "output_type": "execute_result"
    }
   ],
   "source": [
    "data3.nunique()"
   ]
  },
  {
   "cell_type": "code",
   "execution_count": 57,
   "metadata": {},
   "outputs": [
    {
     "data": {
      "text/plain": [
       "Hospital Service Area                  2304316\n",
       "Hospital County                        2304316\n",
       "Facility Name                          2304316\n",
       "Age Group                              2304316\n",
       "Zip Code - 3 digits                    2304316\n",
       "Gender                                 2304316\n",
       "Race                                   2304316\n",
       "Ethnicity                              2304316\n",
       "Length of Stay                         2304316\n",
       "Type of Admission                      2304316\n",
       "Patient Disposition                    2304316\n",
       "CCS Diagnosis Description              2304316\n",
       "CCS Procedure Description              2304316\n",
       "APR DRG Description                    2304316\n",
       "APR MDC Description                    2304316\n",
       "APR Severity of Illness Description    2304316\n",
       "APR Risk of Mortality                  2304316\n",
       "APR Medical Surgical Description       2304316\n",
       "Payment Typology 1                     2304316\n",
       "Payment Typology 2                     1442659\n",
       "Payment Typology 3                      597397\n",
       "Birth Weight                            224082\n",
       "Emergency Department Indicator         2304316\n",
       "Total Charges                          2304316\n",
       "Total Costs                            2304316\n",
       "dtype: int64"
      ]
     },
     "execution_count": 57,
     "metadata": {},
     "output_type": "execute_result"
    }
   ],
   "source": [
    "data3.count()"
   ]
  },
  {
   "cell_type": "code",
   "execution_count": 27,
   "metadata": {},
   "outputs": [],
   "source": [
    "a = data2[\"Permanent Facility Id\"].value_counts()"
   ]
  },
  {
   "cell_type": "code",
   "execution_count": 39,
   "metadata": {},
   "outputs": [
    {
     "data": {
      "text/plain": [
       "1456.0    51576\n",
       "1464.0    48296\n",
       "541.0     47991\n",
       "1458.0    45253\n",
       "1630.0    43405\n",
       "          ...  \n",
       "817.0        29\n",
       "111.0        15\n",
       "37.0         15\n",
       "309.0         9\n",
       "414.0         2\n",
       "Name: Permanent Facility Id, Length: 210, dtype: int64"
      ]
     },
     "execution_count": 39,
     "metadata": {},
     "output_type": "execute_result"
    }
   ],
   "source": [
    "a"
   ]
  },
  {
   "cell_type": "code",
   "execution_count": 42,
   "metadata": {},
   "outputs": [],
   "source": [
    "akeys = a.keys().tolist()\n",
    "bkeys = b.keys().tolist()"
   ]
  },
  {
   "cell_type": "code",
   "execution_count": 28,
   "metadata": {},
   "outputs": [],
   "source": [
    "b = data2[\"Facility Name\"].value_counts()"
   ]
  },
  {
   "cell_type": "code",
   "execution_count": 41,
   "metadata": {},
   "outputs": [],
   "source": [
    "alist = a.tolist()\n",
    "blist = b.tolist()"
   ]
  },
  {
   "cell_type": "code",
   "execution_count": 44,
   "metadata": {},
   "outputs": [
    {
     "name": "stdout",
     "output_type": "stream",
     "text": [
      "628.0 7487 UPSTATE University Hospital at Community General 7487\n",
      "1186.0 7180 UPMC Chautauqua at WCA 7438\n",
      "752.0 6998 North Central Bronx Hospital 7180\n"
     ]
    }
   ],
   "source": [
    "for i in range(len(alist)):\n",
    "    if alist[i] != blist[i]:\n",
    "        print(akeys[i-1], alist[i-1], bkeys[i-1],blist[i-1])\n",
    "        print(akeys[i], alist[i], bkeys[i], blist[i])\n",
    "        print(akeys[i+1], alist[i+1], bkeys[i+1], blist[i+1])\n",
    "        break"
   ]
  },
  {
   "cell_type": "code",
   "execution_count": 13,
   "metadata": {},
   "outputs": [
    {
     "data": {
      "image/png": "[encoded data removed]",
      "text/plain": [
       "<Figure size 432x288 with 1 Axes>"
      ]
     },
     "metadata": {
      "needs_background": "light"
     },
     "output_type": "display_data"
    }
   ],
   "source": [
    "data[\"Birth Weight\"].value_counts().plot.bar()\n",
    "plt.show()"
   ]
  },
  {
   "cell_type": "code",
   "execution_count": 45,
   "metadata": {},
   "outputs": [
    {
     "data": {
      "text/plain": [
       "66753"
      ]
     },
     "execution_count": 45,
     "metadata": {},
     "output_type": "execute_result"
    }
   ],
   "source": [
    "len(data2[data2[\"Zip Code - 3 digits\"]==\"OOS\"])"
   ]
  },
  {
   "cell_type": "code",
   "execution_count": 46,
   "metadata": {},
   "outputs": [
    {
     "data": {
      "text/plain": [
       "{'Admitted from Ambulatory Surgery',\n",
       " 'Another Type Not Listed',\n",
       " \"Cancer Center or Children's Hospital\",\n",
       " 'Court/Law Enforcement',\n",
       " 'Critical Access Hospital',\n",
       " 'Expired',\n",
       " 'Facility w/ Custodial/Supportive Care',\n",
       " 'Federal Health Care Facility',\n",
       " 'Home or Self Care',\n",
       " 'Home w/ Home Health Services',\n",
       " 'Hosp Basd Medicare Approved Swing Bed',\n",
       " 'Hospice - Home',\n",
       " 'Hospice - Medical Facility',\n",
       " 'Inpatient Rehabilitation Facility',\n",
       " 'Left Against Medical Advice',\n",
       " 'Medicaid Cert Nursing Facility',\n",
       " 'Medicare Cert Long Term Care Hospital',\n",
       " 'Psychiatric Hospital or Unit of Hosp',\n",
       " 'Short-term Hospital',\n",
       " 'Skilled Nursing Home'}"
      ]
     },
     "execution_count": 46,
     "metadata": {},
     "output_type": "execute_result"
    }
   ],
   "source": [
    "set(data2[\"Patient Disposition\"])"
   ]
  },
  {
   "cell_type": "code",
   "execution_count": 49,
   "metadata": {},
   "outputs": [
    {
     "data": {
      "text/plain": [
       "5     297917\n",
       "14    239750\n",
       "15    221170\n",
       "8     208123\n",
       "4     189783\n",
       "6     187956\n",
       "1     149058\n",
       "18    138232\n",
       "19    111984\n",
       "11     98742\n",
       "10     78870\n",
       "20     74309\n",
       "7      63320\n",
       "9      58789\n",
       "16     33395\n",
       "3      31517\n",
       "23     29148\n",
       "21     26747\n",
       "13     23259\n",
       "17     22421\n",
       "12     10332\n",
       "25      3861\n",
       "2       3554\n",
       "22      2079\n",
       "Name: APR MDC Code, dtype: int64"
      ]
     },
     "execution_count": 49,
     "metadata": {},
     "output_type": "execute_result"
    }
   ],
   "source": [
    "data2[\"APR MDC Code\"].value_counts()"
   ]
  },
  {
   "cell_type": "code",
   "execution_count": 50,
   "metadata": {},
   "outputs": [
    {
     "data": {
      "text/plain": [
       "Diseases and Disorders of the Circulatory System                                                        297917\n",
       "Pregnancy, Childbirth and the Puerperium                                                                239750\n",
       "Newborns and Other Neonates with Conditions Originating in the Perinatal Period                         221170\n",
       "Diseases and Disorders of the Musculoskeletal System and Conn Tissue                                    208123\n",
       "Diseases and Disorders of the Respiratory System                                                        189783\n",
       "Diseases and Disorders of the Digestive System                                                          187956\n",
       "Diseases and Disorders of the Nervous System                                                            149058\n",
       "Infectious and Parasitic Diseases, Systemic or Unspecified Sites                                        138232\n",
       "Mental Diseases and Disorders                                                                           111984\n",
       "Diseases and Disorders of the Kidney and Urinary Tract                                                   98742\n",
       "Endocrine, Nutritional and Metabolic Diseases and Disorders                                              78870\n",
       "Alcohol/Drug Use and Alcohol/Drug Induced Organic Mental Disorders                                       74309\n",
       "Diseases and Disorders of the Hepatobiliary System and Pancreas                                          63320\n",
       "Diseases and Disorders of the Skin, Subcutaneous Tissue and Breast                                       58789\n",
       "Diseases and Disorders of Blood, Blood Forming Organs and Immunological Disorders                        33395\n",
       "Ear, Nose, Mouth, Throat and Craniofacial Diseases and Disorders                                         31517\n",
       "Rehabilitation, Aftercare, Other Factors Influencing Health Status and Other Health Service Contacts     29148\n",
       "Poisonings, Toxic Effects, Other Injuries and Other Complications of Treatment                           26747\n",
       "Diseases and Disorders of the Female Reproductive System                                                 23259\n",
       "Lymphatic, Hematopoietic, Other Malignancies, Chemotherapy and Radiotherapy                              22421\n",
       "Diseases and Disorders of the Male Reproductive System                                                   10332\n",
       "Multiple Significant Trauma                                                                               3861\n",
       "Diseases and Disorders of the Eye                                                                         3554\n",
       "Burns                                                                                                     2079\n",
       "Name: APR MDC Description, dtype: int64"
      ]
     },
     "execution_count": 50,
     "metadata": {},
     "output_type": "execute_result"
    }
   ],
   "source": [
    "data2[\"APR MDC Description\"].value_counts()"
   ]
  },
  {
   "cell_type": "code",
   "execution_count": null,
   "metadata": {},
   "outputs": [],
   "source": []
  }
 ],
 "metadata": {
  "kernelspec": {
   "display_name": "Python 3",
   "language": "python",
   "name": "python3"
  },
  "language_info": {
   "codemirror_mode": {
    "name": "ipython",
    "version": 3
   },
   "file_extension": ".py",
   "mimetype": "text/x-python",
   "name": "python",
   "nbconvert_exporter": "python",
   "pygments_lexer": "ipython3",
   "version": "3.6.9"
  }
 },
 "nbformat": 4,
 "nbformat_minor": 2
}
