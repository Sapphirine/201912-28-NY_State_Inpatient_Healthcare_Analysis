{
 "cells": [
  {
   "cell_type": "markdown",
   "metadata": {
    "colab_type": "text",
    "id": "I1tfO9d5ceFo"
   },
   "source": [
    "## Load data\n",
    "有dictionary 文档。\n",
    "\n",
    "当时得奖的方案有：\n",
    "* DocSpot认为，“正确”的护理对每个人而言意味着完全不同的事物，并且医生与患者一样多层面。考虑到这一点，我们开发了多种创新方式，供用户搜索，过滤和选择适合自己独特需求的提供商。DocSpot提供的信息使每个用户都能快速找到适合其个人需求的提供者。\n",
    "* 纽约州医疗保健消费者的HealthRank，能够确定最能满足其个人健康需求的医院。HealthRank使用OPEN NY提供的公开医院住院病人出院数据来提供易于使用，可自定义的医院排名列表，这可以使纽约人能够自己做出更明智的医疗决策。\n",
    "* 基于地图的搜索工具，可根据客户的偏好（例如成本，距离和质量）在该地区找到医院。"
   ]
  },
  {
   "cell_type": "code",
   "execution_count": 1,
   "metadata": {
    "colab": {
     "base_uri": "https://localhost:8080/",
     "height": 54
    },
    "colab_type": "code",
    "executionInfo": {
     "elapsed": 608,
     "status": "ok",
     "timestamp": 1572611997879,
     "user": {
      "displayName": "Jing Qian",
      "photoUrl": "https://lh4.googleusercontent.com/-1wRHuRDt35U/AAAAAAAAAAI/AAAAAAAAAAM/Xix6aGg_aBo/s64/photo.jpg",
      "userId": "00162708507068034487"
     },
     "user_tz": 240
    },
    "id": "T4qtoSTQC3yz",
    "outputId": "ae5b0248-2c8c-4ab7-fc69-d1a3a1257546"
   },
   "outputs": [
    {
     "ename": "ModuleNotFoundError",
     "evalue": "No module named 'google.colab'",
     "output_type": "error",
     "traceback": [
      "\u001b[0;31m---------------------------------------------------------------------------\u001b[0m",
      "\u001b[0;31mModuleNotFoundError\u001b[0m                       Traceback (most recent call last)",
      "\u001b[0;32m<ipython-input-1-7ab6bfe37862>\u001b[0m in \u001b[0;36m<module>\u001b[0;34m\u001b[0m\n\u001b[1;32m      3\u001b[0m \u001b[0;32mimport\u001b[0m \u001b[0mmatplotlib\u001b[0m\u001b[0;34m.\u001b[0m\u001b[0mpyplot\u001b[0m \u001b[0;32mas\u001b[0m \u001b[0mplt\u001b[0m\u001b[0;34m\u001b[0m\u001b[0;34m\u001b[0m\u001b[0m\n\u001b[1;32m      4\u001b[0m \u001b[0;34m\u001b[0m\u001b[0m\n\u001b[0;32m----> 5\u001b[0;31m \u001b[0;32mfrom\u001b[0m \u001b[0mgoogle\u001b[0m\u001b[0;34m.\u001b[0m\u001b[0mcolab\u001b[0m \u001b[0;32mimport\u001b[0m \u001b[0mdrive\u001b[0m\u001b[0;34m\u001b[0m\u001b[0;34m\u001b[0m\u001b[0m\n\u001b[0m\u001b[1;32m      6\u001b[0m \u001b[0mdrive\u001b[0m\u001b[0;34m.\u001b[0m\u001b[0mmount\u001b[0m\u001b[0;34m(\u001b[0m\u001b[0;34m'/content/gdrive'\u001b[0m\u001b[0;34m)\u001b[0m\u001b[0;34m\u001b[0m\u001b[0;34m\u001b[0m\u001b[0m\n",
      "\u001b[0;31mModuleNotFoundError\u001b[0m: No module named 'google.colab'"
     ]
    }
   ],
   "source": [
    "import numpy as np\n",
    "import pandas as pd\n",
    "import matplotlib.pyplot as plt\n",
    "\n",
    "from google.colab import drive\n",
    "drive.mount('/content/gdrive')"
   ]
  },
  {
   "cell_type": "code",
   "execution_count": null,
   "metadata": {
    "colab": {
     "base_uri": "https://localhost:8080/",
     "height": 34
    },
    "colab_type": "code",
    "executionInfo": {
     "elapsed": 3523,
     "status": "ok",
     "timestamp": 1572581813238,
     "user": {
      "displayName": "Jing Qian",
      "photoUrl": "https://lh4.googleusercontent.com/-1wRHuRDt35U/AAAAAAAAAAI/AAAAAAAAAAM/Xix6aGg_aBo/s64/photo.jpg",
      "userId": "00162708507068034487"
     },
     "user_tz": 240
    },
    "id": "mNEYhq9Gb0od",
    "outputId": "eb646267-478c-4973-bf05-eb4e95c68167"
   },
   "outputs": [],
   "source": [
    "ls gdrive/My\\ Drive/BigData/Project/Data"
   ]
  },
  {
   "cell_type": "code",
   "execution_count": null,
   "metadata": {
    "colab": {
     "base_uri": "https://localhost:8080/",
     "height": 615
    },
    "colab_type": "code",
    "executionInfo": {
     "elapsed": 27751,
     "status": "ok",
     "timestamp": 1572611784684,
     "user": {
      "displayName": "Jing Qian",
      "photoUrl": "https://lh4.googleusercontent.com/-1wRHuRDt35U/AAAAAAAAAAI/AAAAAAAAAAM/Xix6aGg_aBo/s64/photo.jpg",
      "userId": "00162708507068034487"
     },
     "user_tz": 240
    },
    "id": "531zD9mvcS0t",
    "outputId": "89b9dfb2-160c-4297-dd42-e64f51aced68"
   },
   "outputs": [],
   "source": [
    "data2017 = pd.read_csv('/content/gdrive/My Drive/BigData/Project/Data/SPARCS-2017.csv', encoding = \"ISO-8859-1\")\n",
    "data2017.head()"
   ]
  },
  {
   "cell_type": "markdown",
   "metadata": {
    "colab_type": "text",
    "id": "j8QgUqvKLnlB"
   },
   "source": [
    "## 2. EDA"
   ]
  },
  {
   "cell_type": "code",
   "execution_count": 3,
   "metadata": {
    "colab": {
     "base_uri": "https://localhost:8080/",
     "height": 34
    },
    "colab_type": "code",
    "executionInfo": {
     "elapsed": 570,
     "status": "ok",
     "timestamp": 1572611832607,
     "user": {
      "displayName": "Jing Qian",
      "photoUrl": "https://lh4.googleusercontent.com/-1wRHuRDt35U/AAAAAAAAAAI/AAAAAAAAAAM/Xix6aGg_aBo/s64/photo.jpg",
      "userId": "00162708507068034487"
     },
     "user_tz": 240
    },
    "id": "iiiZKSADdFAa",
    "outputId": "f42183df-1465-47b5-b651-3caf4644e33c"
   },
   "outputs": [
    {
     "data": {
      "text/plain": [
       "(2343569, 34)"
      ]
     },
     "execution_count": 3,
     "metadata": {
      "tags": []
     },
     "output_type": "execute_result"
    }
   ],
   "source": [
    "np.shape(data2017)"
   ]
  },
  {
   "cell_type": "code",
   "execution_count": 4,
   "metadata": {
    "colab": {
     "base_uri": "https://localhost:8080/",
     "height": 612
    },
    "colab_type": "code",
    "executionInfo": {
     "elapsed": 673,
     "status": "ok",
     "timestamp": 1572611844691,
     "user": {
      "displayName": "Jing Qian",
      "photoUrl": "https://lh4.googleusercontent.com/-1wRHuRDt35U/AAAAAAAAAAI/AAAAAAAAAAM/Xix6aGg_aBo/s64/photo.jpg",
      "userId": "00162708507068034487"
     },
     "user_tz": 240
    },
    "id": "3s7U1hBMLuZc",
    "outputId": "3523e7d5-b16f-4fed-c792-aab525da4746"
   },
   "outputs": [
    {
     "data": {
      "text/plain": [
       "Hospital Service Area                   object\n",
       "Hospital County                         object\n",
       "Operating Certificate Number           float64\n",
       "Permanent Facility Id                  float64\n",
       "Facility Name                           object\n",
       "Age Group                               object\n",
       "Zip Code - 3 digits                     object\n",
       "Gender                                  object\n",
       "Race                                    object\n",
       "Ethnicity                               object\n",
       "Length of Stay                          object\n",
       "Type of Admission                       object\n",
       "Patient Disposition                     object\n",
       "Discharge Year                           int64\n",
       "CCS Diagnosis Code                       int64\n",
       "CCS Diagnosis Description               object\n",
       "CCS Procedure Code                       int64\n",
       "CCS Procedure Description               object\n",
       "APR DRG Code                             int64\n",
       "APR DRG Description                     object\n",
       "APR MDC Code                             int64\n",
       "APR MDC Description                     object\n",
       "APR Severity of Illness Code             int64\n",
       "APR Severity of Illness Description     object\n",
       "APR Risk of Mortality                   object\n",
       "APR Medical Surgical Description        object\n",
       "Payment Typology 1                      object\n",
       "Payment Typology 2                      object\n",
       "Payment Typology 3                      object\n",
       "Birth Weight                            object\n",
       "Abortion Edit Indicator                 object\n",
       "Emergency Department Indicator          object\n",
       "Total Charges                          float64\n",
       "Total Costs                            float64\n",
       "dtype: object"
      ]
     },
     "execution_count": 4,
     "metadata": {
      "tags": []
     },
     "output_type": "execute_result"
    }
   ],
   "source": [
    "data2017.dtypes"
   ]
  },
  {
   "cell_type": "code",
   "execution_count": 5,
   "metadata": {
    "colab": {
     "base_uri": "https://localhost:8080/",
     "height": 612
    },
    "colab_type": "code",
    "executionInfo": {
     "elapsed": 2535,
     "status": "ok",
     "timestamp": 1572611848314,
     "user": {
      "displayName": "Jing Qian",
      "photoUrl": "https://lh4.googleusercontent.com/-1wRHuRDt35U/AAAAAAAAAAI/AAAAAAAAAAM/Xix6aGg_aBo/s64/photo.jpg",
      "userId": "00162708507068034487"
     },
     "user_tz": 240
    },
    "id": "PedhpFk2LxOT",
    "outputId": "7ff98e97-eb66-4d70-f687-3931c6f4b92c"
   },
   "outputs": [
    {
     "data": {
      "text/plain": [
       "Hospital Service Area                  2338414\n",
       "Hospital County                        2338414\n",
       "Operating Certificate Number           2338414\n",
       "Permanent Facility Id                  2338414\n",
       "Facility Name                          2343569\n",
       "Age Group                              2343569\n",
       "Zip Code - 3 digits                    2304550\n",
       "Gender                                 2343569\n",
       "Race                                   2343569\n",
       "Ethnicity                              2343569\n",
       "Length of Stay                         2343569\n",
       "Type of Admission                      2343569\n",
       "Patient Disposition                    2343569\n",
       "Discharge Year                         2343569\n",
       "CCS Diagnosis Code                     2343569\n",
       "CCS Diagnosis Description              2343569\n",
       "CCS Procedure Code                     2343569\n",
       "CCS Procedure Description              2343569\n",
       "APR DRG Code                           2343569\n",
       "APR DRG Description                    2343569\n",
       "APR MDC Code                           2343569\n",
       "APR MDC Description                    2343569\n",
       "APR Severity of Illness Code           2343569\n",
       "APR Severity of Illness Description    2343329\n",
       "APR Risk of Mortality                  2343329\n",
       "APR Medical Surgical Description       2343569\n",
       "Payment Typology 1                     2343569\n",
       "Payment Typology 2                     1464847\n",
       "Payment Typology 3                      606325\n",
       "Birth Weight                            227884\n",
       "Abortion Edit Indicator                2343569\n",
       "Emergency Department Indicator         2343569\n",
       "Total Charges                          2343569\n",
       "Total Costs                            2343569\n",
       "dtype: int64"
      ]
     },
     "execution_count": 5,
     "metadata": {
      "tags": []
     },
     "output_type": "execute_result"
    }
   ],
   "source": [
    "data2017.count()"
   ]
  },
  {
   "cell_type": "markdown",
   "metadata": {
    "colab_type": "text",
    "id": "jW_t-XgFL_wi"
   },
   "source": [
    "Some of the data are missing, especially \"Payment Typology 2\" and \"Payment Typology 3\".\n",
    "Maybe we could discard null records for other columns"
   ]
  },
  {
   "cell_type": "code",
   "execution_count": 6,
   "metadata": {
    "colab": {
     "base_uri": "https://localhost:8080/",
     "height": 612
    },
    "colab_type": "code",
    "executionInfo": {
     "elapsed": 12026,
     "status": "ok",
     "timestamp": 1572611872850,
     "user": {
      "displayName": "Jing Qian",
      "photoUrl": "https://lh4.googleusercontent.com/-1wRHuRDt35U/AAAAAAAAAAI/AAAAAAAAAAM/Xix6aGg_aBo/s64/photo.jpg",
      "userId": "00162708507068034487"
     },
     "user_tz": 240
    },
    "id": "dMAmzXkpL3JB",
    "outputId": "9a03c5f9-7b08-4226-f4c4-d1b8d4cae21e"
   },
   "outputs": [
    {
     "data": {
      "text/plain": [
       "Hospital Service Area                        8\n",
       "Hospital County                             57\n",
       "Operating Certificate Number               174\n",
       "Permanent Facility Id                      211\n",
       "Facility Name                              211\n",
       "Age Group                                    5\n",
       "Zip Code - 3 digits                         50\n",
       "Gender                                       3\n",
       "Race                                         4\n",
       "Ethnicity                                    4\n",
       "Length of Stay                             120\n",
       "Type of Admission                            6\n",
       "Patient Disposition                         20\n",
       "Discharge Year                               1\n",
       "CCS Diagnosis Code                         263\n",
       "CCS Diagnosis Description                  263\n",
       "CCS Procedure Code                         224\n",
       "CCS Procedure Description                  224\n",
       "APR DRG Code                               320\n",
       "APR DRG Description                        320\n",
       "APR MDC Code                                26\n",
       "APR MDC Description                         26\n",
       "APR Severity of Illness Code                 5\n",
       "APR Severity of Illness Description          4\n",
       "APR Risk of Mortality                        4\n",
       "APR Medical Surgical Description             3\n",
       "Payment Typology 1                          10\n",
       "Payment Typology 2                          10\n",
       "Payment Typology 3                          10\n",
       "Birth Weight                               137\n",
       "Abortion Edit Indicator                      2\n",
       "Emergency Department Indicator               2\n",
       "Total Charges                          1846488\n",
       "Total Costs                            1538118\n",
       "dtype: int64"
      ]
     },
     "execution_count": 6,
     "metadata": {
      "tags": []
     },
     "output_type": "execute_result"
    }
   ],
   "source": [
    "data2017.nunique()"
   ]
  },
  {
   "cell_type": "markdown",
   "metadata": {
    "colab_type": "text",
    "id": "FZ-oTcO5Mc3D"
   },
   "source": [
    "### Distribution of column values"
   ]
  },
  {
   "cell_type": "code",
   "execution_count": 25,
   "metadata": {
    "colab": {
     "base_uri": "https://localhost:8080/",
     "height": 170
    },
    "colab_type": "code",
    "executionInfo": {
     "elapsed": 764,
     "status": "ok",
     "timestamp": 1572612382500,
     "user": {
      "displayName": "Jing Qian",
      "photoUrl": "https://lh4.googleusercontent.com/-1wRHuRDt35U/AAAAAAAAAAI/AAAAAAAAAAM/Xix6aGg_aBo/s64/photo.jpg",
      "userId": "00162708507068034487"
     },
     "user_tz": 240
    },
    "id": "hhJlEYQdMILa",
    "outputId": "44db0507-d596-47e2-8960-0190d51a1347"
   },
   "outputs": [
    {
     "data": {
      "text/plain": [
       "{'Capital/Adirond',\n",
       " 'Central NY',\n",
       " 'Finger Lakes',\n",
       " 'Hudson Valley',\n",
       " 'Long Island',\n",
       " 'New York City',\n",
       " 'Southern Tier',\n",
       " 'Western NY',\n",
       " nan}"
      ]
     },
     "execution_count": 25,
     "metadata": {
      "tags": []
     },
     "output_type": "execute_result"
    }
   ],
   "source": [
    "set(data2017[\"Hospital Service Area\"])"
   ]
  },
  {
   "cell_type": "code",
   "execution_count": 26,
   "metadata": {
    "colab": {
     "base_uri": "https://localhost:8080/",
     "height": 281
    },
    "colab_type": "code",
    "executionInfo": {
     "elapsed": 807,
     "status": "ok",
     "timestamp": 1572612401143,
     "user": {
      "displayName": "Jing Qian",
      "photoUrl": "https://lh4.googleusercontent.com/-1wRHuRDt35U/AAAAAAAAAAI/AAAAAAAAAAM/Xix6aGg_aBo/s64/photo.jpg",
      "userId": "00162708507068034487"
     },
     "user_tz": 240
    },
    "id": "ezHNSOnjMtvF",
    "outputId": "b7b31a30-94b5-43a9-984d-79429373b9d9"
   },
   "outputs": [
    {
     "data": {
      "text/plain": [
       "Text(0.5, 1.0, 'Hospital Service Area (NY state)')"
      ]
     },
     "execution_count": 26,
     "metadata": {
      "tags": []
     },
     "output_type": "execute_result"
    },
    {
     "data": {
      "image/png": "[encoded data removed]",
      "text/plain": [
       "<Figure size 432x288 with 1 Axes>"
      ]
     },
     "metadata": {
      "tags": []
     },
     "output_type": "display_data"
    }
   ],
   "source": [
    "data2017[\"Hospital Service Area\"].value_counts().plot.pie()\n",
    "plt.title(\"Hospital Service Area (NY state)\")"
   ]
  },
  {
   "cell_type": "code",
   "execution_count": 11,
   "metadata": {
    "colab": {
     "base_uri": "https://localhost:8080/",
     "height": 265
    },
    "colab_type": "code",
    "executionInfo": {
     "elapsed": 758,
     "status": "ok",
     "timestamp": 1572612050520,
     "user": {
      "displayName": "Jing Qian",
      "photoUrl": "https://lh4.googleusercontent.com/-1wRHuRDt35U/AAAAAAAAAAI/AAAAAAAAAAM/Xix6aGg_aBo/s64/photo.jpg",
      "userId": "00162708507068034487"
     },
     "user_tz": 240
    },
    "id": "P8fBqowhM3_D",
    "outputId": "e065c879-f5a9-4e48-efac-9160dc999db6"
   },
   "outputs": [
    {
     "data": {
      "text/plain": [
       "<matplotlib.axes._subplots.AxesSubplot at 0x7ffba7b2a828>"
      ]
     },
     "execution_count": 11,
     "metadata": {
      "tags": []
     },
     "output_type": "execute_result"
    },
    {
     "data": {
      "image/png": "[encoded data removed]",
      "text/plain": [
       "<Figure size 432x288 with 1 Axes>"
      ]
     },
     "metadata": {
      "tags": []
     },
     "output_type": "display_data"
    }
   ],
   "source": [
    "data2017[\"Age Group\"].value_counts().plot(kind=\"pie\")"
   ]
  },
  {
   "cell_type": "code",
   "execution_count": 12,
   "metadata": {
    "colab": {
     "base_uri": "https://localhost:8080/",
     "height": 265
    },
    "colab_type": "code",
    "executionInfo": {
     "elapsed": 1021,
     "status": "ok",
     "timestamp": 1572612070175,
     "user": {
      "displayName": "Jing Qian",
      "photoUrl": "https://lh4.googleusercontent.com/-1wRHuRDt35U/AAAAAAAAAAI/AAAAAAAAAAM/Xix6aGg_aBo/s64/photo.jpg",
      "userId": "00162708507068034487"
     },
     "user_tz": 240
    },
    "id": "X3nRTzXTM_C-",
    "outputId": "a9643254-0497-46bc-cdbb-cb168c29cf14"
   },
   "outputs": [
    {
     "data": {
      "text/plain": [
       "<matplotlib.axes._subplots.AxesSubplot at 0x7ffbb54072e8>"
      ]
     },
     "execution_count": 12,
     "metadata": {
      "tags": []
     },
     "output_type": "execute_result"
    },
    {
     "data": {
      "image/png": "[encoded data removed]",
      "text/plain": [
       "<Figure size 432x288 with 1 Axes>"
      ]
     },
     "metadata": {
      "tags": []
     },
     "output_type": "display_data"
    }
   ],
   "source": [
    "data2017[\"Gender\"].value_counts().plot(kind=\"pie\")"
   ]
  },
  {
   "cell_type": "code",
   "execution_count": 13,
   "metadata": {
    "colab": {
     "base_uri": "https://localhost:8080/",
     "height": 265
    },
    "colab_type": "code",
    "executionInfo": {
     "elapsed": 880,
     "status": "ok",
     "timestamp": 1572612079189,
     "user": {
      "displayName": "Jing Qian",
      "photoUrl": "https://lh4.googleusercontent.com/-1wRHuRDt35U/AAAAAAAAAAI/AAAAAAAAAAM/Xix6aGg_aBo/s64/photo.jpg",
      "userId": "00162708507068034487"
     },
     "user_tz": 240
    },
    "id": "zA4V85nZNEwi",
    "outputId": "9751e607-16d9-4f2e-b627-3407dfb61353"
   },
   "outputs": [
    {
     "data": {
      "text/plain": [
       "<matplotlib.axes._subplots.AxesSubplot at 0x7ffbb4f64f98>"
      ]
     },
     "execution_count": 13,
     "metadata": {
      "tags": []
     },
     "output_type": "execute_result"
    },
    {
     "data": {
      "image/png": "[encoded data removed]",
      "text/plain": [
       "<Figure size 432x288 with 1 Axes>"
      ]
     },
     "metadata": {
      "tags": []
     },
     "output_type": "display_data"
    }
   ],
   "source": [
    "data2017[\"Race\"].value_counts().plot(kind=\"pie\")"
   ]
  },
  {
   "cell_type": "code",
   "execution_count": 14,
   "metadata": {
    "colab": {
     "base_uri": "https://localhost:8080/",
     "height": 265
    },
    "colab_type": "code",
    "executionInfo": {
     "elapsed": 717,
     "status": "ok",
     "timestamp": 1572612087790,
     "user": {
      "displayName": "Jing Qian",
      "photoUrl": "https://lh4.googleusercontent.com/-1wRHuRDt35U/AAAAAAAAAAI/AAAAAAAAAAM/Xix6aGg_aBo/s64/photo.jpg",
      "userId": "00162708507068034487"
     },
     "user_tz": 240
    },
    "id": "TAntN2ZeNIZz",
    "outputId": "1a245a8d-92ec-481f-d336-c837414c2274"
   },
   "outputs": [
    {
     "data": {
      "text/plain": [
       "<matplotlib.axes._subplots.AxesSubplot at 0x7ffbb4f26470>"
      ]
     },
     "execution_count": 14,
     "metadata": {
      "tags": []
     },
     "output_type": "execute_result"
    },
    {
     "data": {
      "image/png": "[encoded data removed]",
      "text/plain": [
       "<Figure size 432x288 with 1 Axes>"
      ]
     },
     "metadata": {
      "tags": []
     },
     "output_type": "display_data"
    }
   ],
   "source": [
    "data2017[\"Ethnicity\"].value_counts().plot(kind=\"pie\")"
   ]
  },
  {
   "cell_type": "code",
   "execution_count": 15,
   "metadata": {
    "colab": {
     "base_uri": "https://localhost:8080/",
     "height": 298
    },
    "colab_type": "code",
    "executionInfo": {
     "elapsed": 933,
     "status": "ok",
     "timestamp": 1572612092675,
     "user": {
      "displayName": "Jing Qian",
      "photoUrl": "https://lh4.googleusercontent.com/-1wRHuRDt35U/AAAAAAAAAAI/AAAAAAAAAAM/Xix6aGg_aBo/s64/photo.jpg",
      "userId": "00162708507068034487"
     },
     "user_tz": 240
    },
    "id": "nH9cUVQENMTT",
    "outputId": "46ee610f-7cdf-4188-da21-4be0916200ea"
   },
   "outputs": [
    {
     "data": {
      "text/plain": [
       "Text(0.5, 1.0, 'Type of Admission')"
      ]
     },
     "execution_count": 15,
     "metadata": {
      "tags": []
     },
     "output_type": "execute_result"
    },
    {
     "data": {
      "image/png": "[encoded data removed]",
      "text/plain": [
       "<Figure size 432x288 with 1 Axes>"
      ]
     },
     "metadata": {
      "tags": []
     },
     "output_type": "display_data"
    }
   ],
   "source": [
    "data2017[\"Type of Admission\"].value_counts().plot(kind=\"bar\",rot=0)\n",
    "plt.title(\"Type of Admission\")"
   ]
  },
  {
   "cell_type": "code",
   "execution_count": 16,
   "metadata": {
    "colab": {
     "base_uri": "https://localhost:8080/",
     "height": 298
    },
    "colab_type": "code",
    "executionInfo": {
     "elapsed": 883,
     "status": "ok",
     "timestamp": 1572612111958,
     "user": {
      "displayName": "Jing Qian",
      "photoUrl": "https://lh4.googleusercontent.com/-1wRHuRDt35U/AAAAAAAAAAI/AAAAAAAAAAM/Xix6aGg_aBo/s64/photo.jpg",
      "userId": "00162708507068034487"
     },
     "user_tz": 240
    },
    "id": "sQ4cuH3JNXpO",
    "outputId": "4ca41566-e570-4039-ce00-14b350b5e43b"
   },
   "outputs": [
    {
     "data": {
      "text/plain": [
       "Text(0.5, 1.0, 'APR Severity of Illness Description')"
      ]
     },
     "execution_count": 16,
     "metadata": {
      "tags": []
     },
     "output_type": "execute_result"
    },
    {
     "data": {
      "image/png": "[encoded data removed]",
      "text/plain": [
       "<Figure size 432x288 with 1 Axes>"
      ]
     },
     "metadata": {
      "tags": []
     },
     "output_type": "display_data"
    }
   ],
   "source": [
    "data2017[\"APR Severity of Illness Description\"].value_counts().plot(kind=\"bar\",rot=0)\n",
    "plt.title(\"APR Severity of Illness Description\")"
   ]
  },
  {
   "cell_type": "code",
   "execution_count": 17,
   "metadata": {
    "colab": {
     "base_uri": "https://localhost:8080/",
     "height": 293
    },
    "colab_type": "code",
    "executionInfo": {
     "elapsed": 1617,
     "status": "ok",
     "timestamp": 1572612117180,
     "user": {
      "displayName": "Jing Qian",
      "photoUrl": "https://lh4.googleusercontent.com/-1wRHuRDt35U/AAAAAAAAAAI/AAAAAAAAAAM/Xix6aGg_aBo/s64/photo.jpg",
      "userId": "00162708507068034487"
     },
     "user_tz": 240
    },
    "id": "eVTcUJh_N7aC",
    "outputId": "89222d03-173f-441b-d5ed-8b43b0faf549"
   },
   "outputs": [
    {
     "data": {
      "text/plain": [
       "<matplotlib.axes._subplots.AxesSubplot at 0x7ffbb4f1de10>"
      ]
     },
     "execution_count": 17,
     "metadata": {
      "tags": []
     },
     "output_type": "execute_result"
    },
    {
     "data": {
      "image/png": "[encoded data removed]",
      "text/plain": [
       "<Figure size 432x288 with 1 Axes>"
      ]
     },
     "metadata": {
      "tags": []
     },
     "output_type": "display_data"
    }
   ],
   "source": [
    "data2017.boxplot(column=['Total Charges','Total Costs'])"
   ]
  },
  {
   "cell_type": "code",
   "execution_count": 18,
   "metadata": {
    "colab": {
     "base_uri": "https://localhost:8080/",
     "height": 298
    },
    "colab_type": "code",
    "executionInfo": {
     "elapsed": 1018,
     "status": "ok",
     "timestamp": 1572612123017,
     "user": {
      "displayName": "Jing Qian",
      "photoUrl": "https://lh4.googleusercontent.com/-1wRHuRDt35U/AAAAAAAAAAI/AAAAAAAAAAM/Xix6aGg_aBo/s64/photo.jpg",
      "userId": "00162708507068034487"
     },
     "user_tz": 240
    },
    "id": "ObVMbNPPOhot",
    "outputId": "9a5a8e0f-2269-4124-eee8-054d19542f27"
   },
   "outputs": [
    {
     "data": {
      "text/plain": [
       "Text(0.5, 1.0, 'Distribution of costs')"
      ]
     },
     "execution_count": 18,
     "metadata": {
      "tags": []
     },
     "output_type": "execute_result"
    },
    {
     "data": {
      "image/png": "[encoded data removed]",
      "text/plain": [
       "<Figure size 432x288 with 1 Axes>"
      ]
     },
     "metadata": {
      "tags": []
     },
     "output_type": "display_data"
    }
   ],
   "source": [
    "import matplotlib.pyplot as plt\n",
    "plt.hist(data2017[\"Total Charges\"],bins=20,range=(0,300000),alpha=0.5,label=\"Total Charges\")\n",
    "plt.hist(data2017[\"Total Costs\"],bins=20,range=(0,300000),alpha=0.5,label=\"Total Costs\")\n",
    "plt.legend()\n",
    "plt.title(\"Distribution of costs\")"
   ]
  },
  {
   "cell_type": "code",
   "execution_count": 19,
   "metadata": {
    "colab": {
     "base_uri": "https://localhost:8080/",
     "height": 300
    },
    "colab_type": "code",
    "executionInfo": {
     "elapsed": 1076,
     "status": "ok",
     "timestamp": 1572612141652,
     "user": {
      "displayName": "Jing Qian",
      "photoUrl": "https://lh4.googleusercontent.com/-1wRHuRDt35U/AAAAAAAAAAI/AAAAAAAAAAM/Xix6aGg_aBo/s64/photo.jpg",
      "userId": "00162708507068034487"
     },
     "user_tz": 240
    },
    "id": "0vxiMyFLO81F",
    "outputId": "b1a92c2e-bfde-4635-86a5-1598b13ce274"
   },
   "outputs": [
    {
     "data": {
      "text/plain": [
       "Text(0.5, 1.0, 'Length of Stay (Top 8)')"
      ]
     },
     "execution_count": 19,
     "metadata": {
      "tags": []
     },
     "output_type": "execute_result"
    },
    {
     "data": {
      "image/png": "[encoded data removed]",
      "text/plain": [
       "<Figure size 432x288 with 1 Axes>"
      ]
     },
     "metadata": {
      "tags": []
     },
     "output_type": "display_data"
    }
   ],
   "source": [
    "data2017[\"Length of Stay\"].value_counts()[:8].plot(kind=\"bar\",rot=45)\n",
    "plt.title(\"Length of Stay (Top 8)\")"
   ]
  },
  {
   "cell_type": "code",
   "execution_count": 20,
   "metadata": {
    "colab": {
     "base_uri": "https://localhost:8080/",
     "height": 340
    },
    "colab_type": "code",
    "executionInfo": {
     "elapsed": 966,
     "status": "ok",
     "timestamp": 1572612147184,
     "user": {
      "displayName": "Jing Qian",
      "photoUrl": "https://lh4.googleusercontent.com/-1wRHuRDt35U/AAAAAAAAAAI/AAAAAAAAAAM/Xix6aGg_aBo/s64/photo.jpg",
      "userId": "00162708507068034487"
     },
     "user_tz": 240
    },
    "id": "f2GeDlzMP92S",
    "outputId": "2ffa807a-55b5-427f-f7e2-e6c8cad4e448"
   },
   "outputs": [
    {
     "data": {
      "text/plain": [
       "Text(0.5, 1.0, 'Hospital County (Top 8)')"
      ]
     },
     "execution_count": 20,
     "metadata": {
      "tags": []
     },
     "output_type": "execute_result"
    },
    {
     "data": {
      "image/png": "[encoded data removed]",
      "text/plain": [
       "<Figure size 432x288 with 1 Axes>"
      ]
     },
     "metadata": {
      "tags": []
     },
     "output_type": "display_data"
    }
   ],
   "source": [
    "data2017[\"Hospital County\"].value_counts()[:8].plot(kind=\"bar\",rot=45)\n",
    "plt.title(\"Hospital County (Top 8)\")"
   ]
  },
  {
   "cell_type": "code",
   "execution_count": 21,
   "metadata": {
    "colab": {
     "base_uri": "https://localhost:8080/",
     "height": 298
    },
    "colab_type": "code",
    "executionInfo": {
     "elapsed": 1632,
     "status": "ok",
     "timestamp": 1572612153891,
     "user": {
      "displayName": "Jing Qian",
      "photoUrl": "https://lh4.googleusercontent.com/-1wRHuRDt35U/AAAAAAAAAAI/AAAAAAAAAAM/Xix6aGg_aBo/s64/photo.jpg",
      "userId": "00162708507068034487"
     },
     "user_tz": 240
    },
    "id": "ArsNjoC4Q8_3",
    "outputId": "49f68160-48e4-4366-af1a-010abe42b87a"
   },
   "outputs": [
    {
     "data": {
      "text/plain": [
       "Text(0.5, 1.0, 'Facility Name (Top 8)')"
      ]
     },
     "execution_count": 21,
     "metadata": {
      "tags": []
     },
     "output_type": "execute_result"
    },
    {
     "data": {
      "image/png": "[encoded data removed]",
      "text/plain": [
       "<Figure size 432x288 with 1 Axes>"
      ]
     },
     "metadata": {
      "tags": []
     },
     "output_type": "display_data"
    }
   ],
   "source": [
    "data2017[\"Facility Name\"].value_counts()[::-1][-8:].plot.barh()\n",
    "plt.title(\"Facility Name (Top 8)\")"
   ]
  },
  {
   "cell_type": "code",
   "execution_count": 0,
   "metadata": {
    "colab": {},
    "colab_type": "code",
    "id": "fwMj_NEKRDbB"
   },
   "outputs": [],
   "source": []
  }
 ],
 "metadata": {
  "accelerator": "GPU",
  "colab": {
   "collapsed_sections": [],
   "name": "Self_explore2017.ipynb",
   "provenance": []
  },
  "kernelspec": {
   "display_name": "Python 3",
   "language": "python",
   "name": "python3"
  },
  "language_info": {
   "codemirror_mode": {
    "name": "ipython",
    "version": 3
   },
   "file_extension": ".py",
   "mimetype": "text/x-python",
   "name": "python",
   "nbconvert_exporter": "python",
   "pygments_lexer": "ipython3",
   "version": "3.6.9"
  }
 },
 "nbformat": 4,
 "nbformat_minor": 1
}
