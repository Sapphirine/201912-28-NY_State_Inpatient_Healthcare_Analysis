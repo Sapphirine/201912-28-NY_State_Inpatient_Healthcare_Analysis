{
  "nbformat": 4,
  "nbformat_minor": 0,
  "metadata": {
    "colab": {
      "name": "PredictionModel.ipynb",
      "provenance": []
    },
    "kernelspec": {
      "name": "python3",
      "display_name": "Python 3"
    }
  },
  "cells": [
    {
      "cell_type": "code",
      "metadata": {
        "id": "BG0mx-3yO1i5",
        "colab_type": "code",
        "colab": {}
      },
      "source": [
        "# Install latest version of spark. If error, check the latest and replace \"spark-2.4.4\"\n",
        "!apt-get install openjdk-8-jdk-headless -qq > /dev/null\n",
        "!wget -q https://www-us.apache.org/dist/spark/spark-2.4.4/spark-2.4.4-bin-hadoop2.7.tgz\n",
        "!tar xf spark-2.4.4-bin-hadoop2.7.tgz\n",
        "!pip install -q findspark\n",
        "\n",
        "import os\n",
        "import findspark\n",
        "os.environ[\"JAVA_HOME\"] = \"/usr/lib/jvm/java-8-openjdk-amd64\"\n",
        "os.environ[\"SPARK_HOME\"] = \"/content/spark-2.4.4-bin-hadoop2.7\"\n",
        "findspark.init()"
      ],
      "execution_count": 0,
      "outputs": []
    },
    {
      "cell_type": "code",
      "metadata": {
        "id": "DymQI_sHO69x",
        "colab_type": "code",
        "colab": {}
      },
      "source": [
        "# Mount to Google drive to get data\n",
        "from google.colab import drive\n",
        "drive.mount('/content/drive')"
      ],
      "execution_count": 0,
      "outputs": []
    },
    {
      "cell_type": "code",
      "metadata": {
        "id": "e7oGbcxaO90-",
        "colab_type": "code",
        "colab": {}
      },
      "source": [
        "# Import dependencies\n",
        "import pyspark\n",
        "from pyspark.sql import SparkSession\n",
        "from pyspark.sql import Row\n",
        "from pyspark.sql.types import *\n",
        "from pyspark.sql.functions import *\n",
        "\n",
        "from pyspark.ml.feature import *\n",
        "from pyspark.ml import Pipeline, PipelineModel\n",
        "from pyspark.ml.regression import DecisionTreeRegressor\n",
        "from pyspark.ml.evaluation import RegressionEvaluator\n",
        "\n",
        "from pyspark.mllib.evaluation import BinaryClassificationMetrics, MulticlassMetrics\n",
        "\n",
        "from sklearn.metrics import accuracy_score\n",
        "import matplotlib.pyplot as plt\n",
        "import numpy as np\n",
        "import pandas as pd\n",
        "import torch"
      ],
      "execution_count": 0,
      "outputs": []
    },
    {
      "cell_type": "code",
      "metadata": {
        "id": "3Hcv-_vMO_FB",
        "colab_type": "code",
        "colab": {}
      },
      "source": [
        "spark = SparkSession.builder.master(\"local[*]\").getOrCreate()\n",
        "filename = \"/content/drive/My Drive/Colab Notebooks/SPARCS-2017_cleaned2.csv\"\n",
        "wholeData = spark.read.csv(filename, inferSchema=True, header=True).limit(1000000)"
      ],
      "execution_count": 0,
      "outputs": []
    },
    {
      "cell_type": "code",
      "metadata": {
        "id": "oHOWEyEaPAWg",
        "colab_type": "code",
        "outputId": "f6a2761f-5d83-4bf6-aa60-3cbf70e6b067",
        "colab": {
          "base_uri": "https://localhost:8080/",
          "height": 71
        }
      },
      "source": [
        "wholeData.cache()"
      ],
      "execution_count": 5,
      "outputs": [
        {
          "output_type": "execute_result",
          "data": {
            "text/plain": [
              "DataFrame[Hospital Service Area: string, Hospital County: string, Facility Name: string, Age Group: string, Zip Code - 3 digits: string, Gender: string, Race: string, Ethnicity: string, Length of Stay: int, Type of Admission: string, Patient Disposition: string, CCS Diagnosis Description: string, CCS Procedure Description: string, APR DRG Description: string, APR MDC Description: string, APR Severity of Illness Description: string, APR Risk of Mortality: string, APR Medical Surgical Description: string, Payment Typology 1: string, Payment Typology 2: string, Payment Typology 3: string, Birth Weight: double, Emergency Department Indicator: string, Total Charges: double, Total Costs: double]"
            ]
          },
          "metadata": {
            "tags": []
          },
          "execution_count": 5
        }
      ]
    },
    {
      "cell_type": "code",
      "metadata": {
        "id": "dulUJj4KPDXE",
        "colab_type": "code",
        "colab": {}
      },
      "source": [
        "# split column type into categorical and numerical\n",
        "categorical = ['Zip Code - 3 digits', 'Age Group', 'Gender', 'Race', 'Type of Admission']\n",
        "numeric = ['Length of Stay', 'Total Charges']"
      ],
      "execution_count": 0,
      "outputs": []
    },
    {
      "cell_type": "code",
      "metadata": {
        "id": "lJCsFBUmPHxZ",
        "colab_type": "code",
        "colab": {}
      },
      "source": [
        "stages = [] # stages in our Pipeline\n",
        "\n",
        "# Category Indexing with StringIndexer and OneHotEncoding to convert into binary SparseVectors\n",
        "for col in categorical:\n",
        "    stringIndexer = StringIndexer(inputCol=col, outputCol=col + \"Index\")\n",
        "    encoder = OneHotEncoderEstimator(inputCols=[col + \"Index\"], outputCols=[col + \"classVec\"])\n",
        "    stages += [stringIndexer, encoder]\n",
        "\n",
        "# Numeric columns casted from String type to Float type\n",
        "for col in numeric:\n",
        "    wholeData = wholeData.withColumn(col, wholeData[col].cast('float'))"
      ],
      "execution_count": 0,
      "outputs": []
    },
    {
      "cell_type": "code",
      "metadata": {
        "id": "WCsLILJoPKb7",
        "colab_type": "code",
        "colab": {}
      },
      "source": [
        "# Create labels for training data with only 5 fields we want\n",
        "trainingDataWithTarget = wholeData.withColumn(\"avg_charges_per_day\", wholeData['Total Charges']/wholeData['Length of Stay'])\\\n",
        "                                  .select(['Zip Code - 3 digits', 'Age Group', 'Gender', 'Race', 'Type of Admission', 'avg_charges_per_day'])"
      ],
      "execution_count": 0,
      "outputs": []
    },
    {
      "cell_type": "code",
      "metadata": {
        "id": "47W-LgcCQX6a",
        "colab_type": "code",
        "outputId": "996b0247-b91d-4f15-8810-771be9f3b282",
        "colab": {
          "base_uri": "https://localhost:8080/",
          "height": 32
        }
      },
      "source": [
        "trainingDataWithTarget.cache()"
      ],
      "execution_count": 9,
      "outputs": [
        {
          "output_type": "execute_result",
          "data": {
            "text/plain": [
              "DataFrame[Zip Code - 3 digits: string, Age Group: string, Gender: string, Race: string, Type of Admission: string, avg_charges_per_day: double]"
            ]
          },
          "metadata": {
            "tags": []
          },
          "execution_count": 9
        }
      ]
    },
    {
      "cell_type": "code",
      "metadata": {
        "id": "vQqDWwhgPk0l",
        "colab_type": "code",
        "colab": {}
      },
      "source": [
        "# Transform all features into a vector using VectorAssembler with 5 fields\n",
        "assemblerInputs = [c + \"classVec\" for c in categorical]\n",
        "assembler = VectorAssembler(inputCols=assemblerInputs, outputCol=\"features\")\n",
        "stages += [assembler]"
      ],
      "execution_count": 0,
      "outputs": []
    },
    {
      "cell_type": "code",
      "metadata": {
        "id": "YdiaiJd2P8XT",
        "colab_type": "code",
        "colab": {}
      },
      "source": [
        "partialPipeline = Pipeline().setStages(stages)\n",
        "pipelineModel = partialPipeline.fit(trainingDataWithTarget)\n",
        "preppedDataDF = pipelineModel.transform(trainingDataWithTarget)"
      ],
      "execution_count": 0,
      "outputs": []
    },
    {
      "cell_type": "code",
      "metadata": {
        "id": "6S68ZgRdQlfQ",
        "colab_type": "code",
        "colab": {}
      },
      "source": [
        "# Save the pipelineModel for customized user input\n",
        "pipelineModel.save(\"/content/drive/My Drive/Colab Notebooks/pipelineModel-1Mdata-2\")"
      ],
      "execution_count": 0,
      "outputs": []
    },
    {
      "cell_type": "code",
      "metadata": {
        "id": "eP4-alQlR9ip",
        "colab_type": "code",
        "outputId": "d71a00f2-71be-4cf8-9a0c-5466d138e7f6",
        "colab": {
          "base_uri": "https://localhost:8080/",
          "height": 131
        }
      },
      "source": [
        "preppedDataDF.select(['features', 'avg_charges_per_day']).show(1)"
      ],
      "execution_count": 12,
      "outputs": [
        {
          "output_type": "stream",
          "text": [
            "+--------------------+-------------------+\n",
            "|            features|avg_charges_per_day|\n",
            "+--------------------+-------------------+\n",
            "|(63,[9,50,54,55,5...|           7314.625|\n",
            "+--------------------+-------------------+\n",
            "only showing top 1 row\n",
            "\n"
          ],
          "name": "stdout"
        }
      ]
    },
    {
      "cell_type": "code",
      "metadata": {
        "id": "gM9UReujSD6-",
        "colab_type": "code",
        "colab": {}
      },
      "source": [
        "# Label and training features\n",
        "selectedcols = [\"avg_charges_per_day\", \"features\"]\n",
        "vectorizedDataset = preppedDataDF.select(selectedcols)"
      ],
      "execution_count": 0,
      "outputs": []
    },
    {
      "cell_type": "code",
      "metadata": {
        "id": "wb5dG8vSSFcG",
        "colab_type": "code",
        "outputId": "ecd036b9-a5b2-4cec-a6d8-142a98deb487",
        "colab": {
          "base_uri": "https://localhost:8080/",
          "height": 214
        }
      },
      "source": [
        "# Utilized a lot below\n",
        "vectorizedDataset.show(5)\n",
        "print (type(vectorizedDataset))"
      ],
      "execution_count": 14,
      "outputs": [
        {
          "output_type": "stream",
          "text": [
            "+-------------------+--------------------+\n",
            "|avg_charges_per_day|            features|\n",
            "+-------------------+--------------------+\n",
            "|           7314.625|(63,[9,50,54,55,5...|\n",
            "|      6607.83984375|(63,[9,51,53,55,5...|\n",
            "|    9007.7724609375|(63,[9,50,53,55,5...|\n",
            "|             7633.5|(63,[9,53,55,58],...|\n",
            "| 16430.026041666668|(63,[9,50,54,57,5...|\n",
            "+-------------------+--------------------+\n",
            "only showing top 5 rows\n",
            "\n",
            "<class 'pyspark.sql.dataframe.DataFrame'>\n"
          ],
          "name": "stdout"
        }
      ]
    },
    {
      "cell_type": "code",
      "metadata": {
        "id": "2J8pqTlnbv1f",
        "colab_type": "code",
        "outputId": "f2163cd5-4697-4925-da3b-9c006c4b7529",
        "colab": {
          "base_uri": "https://localhost:8080/",
          "height": 32
        }
      },
      "source": [
        "vectorizedDataset.select('features').collect()[0]"
      ],
      "execution_count": 79,
      "outputs": [
        {
          "output_type": "execute_result",
          "data": {
            "text/plain": [
              "Row(features=SparseVector(63, {9: 1.0, 50: 1.0, 54: 1.0, 55: 1.0, 58: 1.0}))"
            ]
          },
          "metadata": {
            "tags": []
          },
          "execution_count": 79
        }
      ]
    },
    {
      "cell_type": "markdown",
      "metadata": {
        "id": "_RnYvWGCVA4x",
        "colab_type": "text"
      },
      "source": [
        "## **PySpark MLlib Decision Tree Model and RMSE**"
      ]
    },
    {
      "cell_type": "code",
      "metadata": {
        "id": "GqihF38tVEze",
        "colab_type": "code",
        "colab": {}
      },
      "source": [
        "from pyspark.ml.regression import DecisionTreeRegressor\n",
        "from pyspark.ml.regression import GBTRegressor\n",
        "\n",
        "train_data, test_data = vectorizedDataset.randomSplit([0.8, 0.2])\n",
        "regressor = GBTRegressor(featuresCol='features', labelCol='avg_charges_per_day', maxDepth=10, maxIter=30)\n",
        "\n",
        "model = regressor.fit(train_data)"
      ],
      "execution_count": 0,
      "outputs": []
    },
    {
      "cell_type": "code",
      "metadata": {
        "id": "RhOwlzLeV-Gc",
        "colab_type": "code",
        "outputId": "94d844cc-a4da-45ad-a6bd-c33fe2ac64b4",
        "colab": {
          "base_uri": "https://localhost:8080/",
          "height": 32
        }
      },
      "source": [
        "predictions = model.transform(test_data)\n",
        "\n",
        "from pyspark.ml.evaluation import RegressionEvaluator\n",
        "\n",
        "evaluator = RegressionEvaluator(labelCol=\"avg_charges_per_day\", predictionCol=\"prediction\", metricName=\"rmse\")\n",
        "rmse = evaluator.evaluate(predictions)\n",
        "\n",
        "print(\"Root Mean Squared Error (RMSE) on test data = %g\" % rmse)"
      ],
      "execution_count": 16,
      "outputs": [
        {
          "output_type": "stream",
          "text": [
            "Root Mean Squared Error (RMSE) on test data = 12401.1\n"
          ],
          "name": "stdout"
        }
      ]
    },
    {
      "cell_type": "code",
      "metadata": {
        "id": "zbkVO4fyVFu1",
        "colab_type": "code",
        "colab": {}
      },
      "source": [
        "model.save(\"/content/drive/My Drive/Colab Notebooks/pySparkModel\")"
      ],
      "execution_count": 0,
      "outputs": []
    },
    {
      "cell_type": "code",
      "metadata": {
        "id": "iMWLaVklRm0W",
        "colab_type": "code",
        "colab": {}
      },
      "source": [
        "# Schema for 5 Fields customized test input\n",
        "schema = StructType([StructField('Age Group',StringType(),True),\n",
        "                     StructField('Zip Code - 3 digits',StringType(),True),\n",
        "                     StructField('Gender',StringType(),True),\n",
        "                     StructField('Race',StringType(),True),\n",
        "                     StructField('Type of Admission',StringType(),True)])"
      ],
      "execution_count": 0,
      "outputs": []
    },
    {
      "cell_type": "code",
      "metadata": {
        "id": "eNlHQwdpRrsU",
        "colab_type": "code",
        "colab": {}
      },
      "source": [
        "# customized input data for testing\n",
        "testDataWithTarget = spark.createDataFrame([Row('0 to 17','101','F','White','Emergency')], schema)"
      ],
      "execution_count": 0,
      "outputs": []
    },
    {
      "cell_type": "code",
      "metadata": {
        "id": "-cb2bEZzRw4A",
        "colab_type": "code",
        "outputId": "92f80200-d533-4ca9-f15a-2033d86f2932",
        "colab": {
          "base_uri": "https://localhost:8080/",
          "height": 115
        }
      },
      "source": [
        "# reload pipelineModel\n",
        "loadedModel = PipelineModel.load(\"/content/drive/My Drive/Colab Notebooks/pipelineModel\")\n",
        "testDataWithTargetDF = loadedModel.transform(testDataWithTarget)\n",
        "testDataWithTargetDF.select('features').show()"
      ],
      "execution_count": 0,
      "outputs": [
        {
          "output_type": "stream",
          "text": [
            "+--------------------+\n",
            "|            features|\n",
            "+--------------------+\n",
            "|(63,[47,52,53,55,...|\n",
            "+--------------------+\n",
            "\n"
          ],
          "name": "stdout"
        }
      ]
    },
    {
      "cell_type": "code",
      "metadata": {
        "id": "46-chjw3XrRS",
        "colab_type": "code",
        "colab": {}
      },
      "source": [
        "# reload pySpark Model\n",
        "from pyspark.ml.regression import GBTRegressionModel\n",
        "testModel = GBTRegressionModel.load(\"/content/drive/My Drive/Colab Notebooks/pySparkModel\")"
      ],
      "execution_count": 0,
      "outputs": []
    },
    {
      "cell_type": "code",
      "metadata": {
        "id": "uP7v2ubYWdyJ",
        "colab_type": "code",
        "colab": {}
      },
      "source": [
        "predictions = testModel.transform(testDataWithTargetDF)"
      ],
      "execution_count": 0,
      "outputs": []
    },
    {
      "cell_type": "code",
      "metadata": {
        "id": "dQ4IUfi-W1no",
        "colab_type": "code",
        "outputId": "4f289b7e-c720-4de8-9177-b56d44eb5a6f",
        "colab": {
          "base_uri": "https://localhost:8080/",
          "height": 115
        }
      },
      "source": [
        "predictions.select('prediction').show()"
      ],
      "execution_count": 0,
      "outputs": [
        {
          "output_type": "stream",
          "text": [
            "+------------------+\n",
            "|        prediction|\n",
            "+------------------+\n",
            "|12974.417774105545|\n",
            "+------------------+\n",
            "\n"
          ],
          "name": "stdout"
        }
      ]
    },
    {
      "cell_type": "markdown",
      "metadata": {
        "id": "CGaI7ok1Z4d7",
        "colab_type": "text"
      },
      "source": [
        "### **KMEANS**"
      ]
    },
    {
      "cell_type": "code",
      "metadata": {
        "id": "ZV7kWn-WZy8S",
        "colab_type": "code",
        "colab": {}
      },
      "source": [
        "pdf = vectorizedDataset.toPandas()\n",
        "series = pdf['features'].apply(lambda x : np.array(x.toArray())).values.reshape(-1,1)\n",
        "features = np.apply_along_axis(lambda x : x[0], 1, series)\n",
        "labels = pdf['avg_charges_per_day'].values.reshape(-1,1)"
      ],
      "execution_count": 0,
      "outputs": []
    },
    {
      "cell_type": "code",
      "metadata": {
        "id": "OMhkMLETaHfH",
        "colab_type": "code",
        "colab": {}
      },
      "source": [
        "np.savetxt('/content/drive/My Drive/Colab Notebooks/features.out', features, delimiter=',', fmt='%d')\n",
        "np.savetxt('/content/drive/My Drive/Colab Notebooks/labels.out', labels, delimiter=',', fmt='%.3f')"
      ],
      "execution_count": 0,
      "outputs": []
    },
    {
      "cell_type": "code",
      "metadata": {
        "id": "ZGRqzrRHaJHM",
        "colab_type": "code",
        "colab": {}
      },
      "source": [
        "from pyspark.mllib.clustering import KMeans, KMeansModel\n",
        "\n",
        "f = spark.sparkContext.textFile('/content/drive/My Drive/Colab Notebooks/features.out')\n",
        "rddForCluster = f.map(lambda line: np.array([__builtin__.float(x) for x in line.split(',')]))\n",
        "clusters = KMeans.train(rddForCluster, 8, maxIterations=100, initializationMode='k-means||')"
      ],
      "execution_count": 0,
      "outputs": []
    },
    {
      "cell_type": "code",
      "metadata": {
        "id": "y9jhGVCoaK7Y",
        "colab_type": "code",
        "colab": {}
      },
      "source": [
        "def error(point):\n",
        "    center = clusters.centers[clusters.predict(point)]\n",
        "    return (__builtin__.sum([x ** 2 for x in (point - center)])) ** 0.5"
      ],
      "execution_count": 0,
      "outputs": []
    },
    {
      "cell_type": "code",
      "metadata": {
        "id": "PwFPmrkjaNAb",
        "colab_type": "code",
        "colab": {
          "base_uri": "https://localhost:8080/",
          "height": 32
        },
        "outputId": "d7a58f95-c95a-4b18-996e-12b629c0623a"
      },
      "source": [
        "WSSSE = rddForCluster.map(lambda point: error(point)).reduce(lambda x, y: x + y)\n",
        "print(\"Within Set Sum of Squared Error = \" + str(WSSSE))"
      ],
      "execution_count": 184,
      "outputs": [
        {
          "output_type": "stream",
          "text": [
            "Within Set Sum of Squared Error = 13220.150763551235\n"
          ],
          "name": "stdout"
        }
      ]
    },
    {
      "cell_type": "code",
      "metadata": {
        "id": "GEuIhHs-aOmE",
        "colab_type": "code",
        "colab": {}
      },
      "source": [
        "kmeansLabels = clusters.predict(rddForCluster)\n",
        "np.savetxt('/content/drive/My Drive/Colab Notebooks/kmeanslabels.out', np.array(kmeansLabels.collect()), delimiter=',', fmt='%f')"
      ],
      "execution_count": 0,
      "outputs": []
    },
    {
      "cell_type": "code",
      "metadata": {
        "id": "UNHIUpMHaat-",
        "colab_type": "code",
        "colab": {}
      },
      "source": [
        "# TSNE for 3-dimension\n",
        "\n",
        "from sklearn.manifold import TSNE\n",
        "from sklearn.decomposition import PCA\n",
        "from mpl_toolkits.mplot3d import Axes3D\n",
        "\n",
        "pca = PCA(n_components=3, svd_solver='full')\n",
        "embedding_reduced = pca.fit_transform(features)        "
      ],
      "execution_count": 0,
      "outputs": []
    },
    {
      "cell_type": "code",
      "metadata": {
        "id": "hPwjln2dbMDh",
        "colab_type": "code",
        "colab": {}
      },
      "source": [
        "embedded3 = TSNE(n_components=3, perplexity=48.0, verbose=1).fit_transform(embedding_reduced)"
      ],
      "execution_count": 0,
      "outputs": []
    },
    {
      "cell_type": "code",
      "metadata": {
        "id": "RbUqlNOCwLAm",
        "colab_type": "code",
        "colab": {}
      },
      "source": [
        "np.savetxt('/content/drive/My Drive/Colab Notebooks/tsneembedded3.out', embedded3, delimiter=',', fmt='%f')"
      ],
      "execution_count": 0,
      "outputs": []
    },
    {
      "cell_type": "code",
      "metadata": {
        "id": "hwVTiC7rbO2o",
        "colab_type": "code",
        "colab": {
          "base_uri": "https://localhost:8080/",
          "height": 263
        },
        "outputId": "81f29e72-f81a-458f-8ec3-8f53d6cde580"
      },
      "source": [
        "fig = plt.figure()\n",
        "ax = fig.add_subplot(111, projection='3d')\n",
        "ax.scatter(embedded3[:, 0], embedded3[:, 1], embedded3[:, 2], c=kmeansLabels.collect(), cmap=plt.cm.get_cmap(\"jet\", 10))"
      ],
      "execution_count": 189,
      "outputs": [
        {
          "output_type": "execute_result",
          "data": {
            "text/plain": [
              "<mpl_toolkits.mplot3d.art3d.Path3DCollection at 0x7fca17785710>"
            ]
          },
          "metadata": {
            "tags": []
          },
          "execution_count": 189
        },
        {
          "output_type": "display_data",
          "data": {
            "image/png": "[encoded data removed]",
            "text/plain": [
              "<Figure size 432x288 with 1 Axes>"
            ]
          },
          "metadata": {
            "tags": []
          }
        }
      ]
    },
    {
      "cell_type": "markdown",
      "metadata": {
        "id": "g9ijN7V96hR-",
        "colab_type": "text"
      },
      "source": [
        "### **Neural Network**"
      ]
    },
    {
      "cell_type": "code",
      "metadata": {
        "id": "g2yB6X4t6yYM",
        "colab_type": "code",
        "colab": {}
      },
      "source": [
        "# Install PyTorch\n",
        "!pip3 install http://download.pytorch.org/whl/cu80/torch-0.3.0.post4-cp36-cp36m-linux_x86_64.whl \n",
        "!pip3 install torchvision"
      ],
      "execution_count": 0,
      "outputs": []
    },
    {
      "cell_type": "code",
      "metadata": {
        "id": "JLWW4AtS6rHr",
        "colab_type": "code",
        "colab": {
          "base_uri": "https://localhost:8080/",
          "height": 247
        },
        "outputId": "729c300e-b866-4039-de3b-adc17f20c7e7"
      },
      "source": [
        "pdf = vectorizedDataset.toPandas()\n",
        "pdf.describe"
      ],
      "execution_count": 19,
      "outputs": [
        {
          "output_type": "execute_result",
          "data": {
            "text/plain": [
              "<bound method NDFrame.describe of         avg_charges_per_day                                           features\n",
              "0               7314.625000  (0.0, 0.0, 0.0, 0.0, 0.0, 0.0, 0.0, 0.0, 0.0, ...\n",
              "1               6607.839844  (0.0, 0.0, 0.0, 0.0, 0.0, 0.0, 0.0, 0.0, 0.0, ...\n",
              "2               9007.772461  (0.0, 0.0, 0.0, 0.0, 0.0, 0.0, 0.0, 0.0, 0.0, ...\n",
              "3               7633.500000  (0.0, 0.0, 0.0, 0.0, 0.0, 0.0, 0.0, 0.0, 0.0, ...\n",
              "4              16430.026042  (0.0, 0.0, 0.0, 0.0, 0.0, 0.0, 0.0, 0.0, 0.0, ...\n",
              "...                     ...                                                ...\n",
              "999995          7949.466797  (0.0, 0.0, 0.0, 0.0, 0.0, 0.0, 0.0, 0.0, 0.0, ...\n",
              "999996          4731.475098  (0.0, 0.0, 0.0, 0.0, 0.0, 0.0, 0.0, 0.0, 0.0, ...\n",
              "999997          7302.500000  (0.0, 0.0, 0.0, 0.0, 0.0, 0.0, 0.0, 0.0, 0.0, ...\n",
              "999998         10376.032227  (0.0, 0.0, 0.0, 0.0, 0.0, 0.0, 0.0, 0.0, 0.0, ...\n",
              "999999          5950.080078  (0.0, 0.0, 0.0, 0.0, 0.0, 0.0, 0.0, 0.0, 0.0, ...\n",
              "\n",
              "[1000000 rows x 2 columns]>"
            ]
          },
          "metadata": {
            "tags": []
          },
          "execution_count": 19
        }
      ]
    },
    {
      "cell_type": "code",
      "metadata": {
        "id": "A95tAoq3txsO",
        "colab_type": "code",
        "colab": {}
      },
      "source": [
        "# pdf.to_pickle('/content/drive/My Drive/Colab Notebooks/pdf')"
      ],
      "execution_count": 0,
      "outputs": []
    },
    {
      "cell_type": "code",
      "metadata": {
        "id": "gjoJHgQZv1fl",
        "colab_type": "code",
        "colab": {}
      },
      "source": [
        "# pdf = pd.read_pickle('/content/drive/My Drive/Colab Notebooks/pdf')\n",
        "# pdf.describe"
      ],
      "execution_count": 0,
      "outputs": []
    },
    {
      "cell_type": "code",
      "metadata": {
        "id": "Lq3dLHOC6lAr",
        "colab_type": "code",
        "colab": {}
      },
      "source": [
        "series = pdf['features'].apply(lambda x : np.array(x.toArray())).values.reshape(-1, 1)\n",
        "features = np.apply_along_axis(lambda x : x[0], 1, series)\n",
        "labels = pdf['avg_charges_per_day'].values.reshape(-1, 1)"
      ],
      "execution_count": 0,
      "outputs": []
    },
    {
      "cell_type": "code",
      "metadata": {
        "id": "LDBCF15Q6pMZ",
        "colab_type": "code",
        "colab": {}
      },
      "source": [
        "import torch\n",
        "pyf = torch.from_numpy(features)\n",
        "pyl = torch.from_numpy(labels)\n",
        "pydata = torch.cat((pyf, pyl), 1)\n",
        "pydata.shape"
      ],
      "execution_count": 0,
      "outputs": []
    },
    {
      "cell_type": "code",
      "metadata": {
        "id": "VASiH5Ww6tY-",
        "colab_type": "code",
        "colab": {}
      },
      "source": [
        "# Import PyTorch model dependencies\n",
        "import torch.nn.functional as F\n",
        "from torch.autograd import Variable\n",
        "from torch.utils.data import DataLoader\n",
        "from torch.utils.data.sampler import SubsetRandomSampler"
      ],
      "execution_count": 0,
      "outputs": []
    },
    {
      "cell_type": "code",
      "metadata": {
        "id": "nPt148Tg601n",
        "colab_type": "code",
        "colab": {}
      },
      "source": [
        "dataset_size = len(pydata)\n",
        "indices = list(range(dataset_size))\n",
        "split = int(np.floor(.2 * dataset_size))\n",
        "shuffle_dataset = True\n",
        "batch_size = 32\n",
        "random_seed = 1\n",
        "\n",
        "if shuffle_dataset :\n",
        "    np.random.seed(random_seed)\n",
        "    np.random.shuffle(indices)\n",
        "\n",
        "train_indices, test_indices = indices[split:], indices[:split]\n",
        "\n",
        "train_sampler = SubsetRandomSampler(train_indices)\n",
        "test_sampler = SubsetRandomSampler(test_indices)\n",
        "\n",
        "train_loader = DataLoader(pydata, batch_size=batch_size, sampler=train_sampler)\n",
        "test_loader = DataLoader(pydata, batch_size=1, sampler=test_sampler)"
      ],
      "execution_count": 0,
      "outputs": []
    },
    {
      "cell_type": "code",
      "metadata": {
        "id": "Ayy0ojTj61o7",
        "colab_type": "code",
        "colab": {}
      },
      "source": [
        "class Net(torch.nn.Module):\n",
        "    def __init__(self, n_feature, n_output):\n",
        "        super(Net, self).__init__()\n",
        "        self.hidden1 = torch.nn.Linear(n_feature, 32)\n",
        "        self.hidden2 = torch.nn.Linear(32, 16)\n",
        "        self.hidden3 = torch.nn.Linear(16, 8)\n",
        "        self.hidden4 = torch.nn.Linear(8, 4)\n",
        "        self.predict = torch.nn.Linear(4, n_output)\n",
        "\n",
        "    def forward(self, x):\n",
        "        x = F.relu(self.hidden1(x))      \n",
        "        x = F.relu(self.hidden2(x))\n",
        "        x = F.relu(self.hidden3(x))\n",
        "        x = F.relu(self.hidden4(x))\n",
        "        x = self.predict(x)     \n",
        "        return x\n",
        "\n",
        "net = Net(n_feature=pyf.shape[1], n_output=1).float()\n",
        "momentum_value = 0.0\n",
        "# optimizer = torch.optim.SGD(net.parameters(), lr=0.001, momentum=momentum_value)\n",
        "optimizer = torch.optim.Adam(net.parameters(), lr=0.001)\n",
        "# optimizer = torch.optim.Adagrad(net.parameters(), lr=0.001)\n",
        "criterion = torch.nn.MSELoss()\n",
        "epochs = 60"
      ],
      "execution_count": 0,
      "outputs": []
    },
    {
      "cell_type": "code",
      "metadata": {
        "id": "eSqurPof66Ms",
        "colab_type": "code",
        "colab": {}
      },
      "source": [
        "for epoch in range(1, epochs+1):\n",
        "\n",
        "    running_loss = 0.0\n",
        "    for batch_idx, batch_data in enumerate(train_loader, 1):\n",
        "        inputs, labels = Variable(batch_data[:, :-1]).float(), Variable(batch_data[:, -1].reshape((-1, 1))).float()\n",
        "    \n",
        "        optimizer.zero_grad()\n",
        "        outputs = net(inputs)\n",
        "        \n",
        "        loss = torch.sqrt(criterion(outputs, labels))\n",
        "        loss.backward()\n",
        "        optimizer.step()\n",
        "\n",
        "        running_loss += loss.item()\n",
        "        if batch_idx % 20000 == 19999:    \n",
        "            print('[%d, %5d] RMSE loss: %.3f' % (epoch, batch_idx, running_loss / 20000.0))\n",
        "            running_loss = 0.0"
      ],
      "execution_count": 0,
      "outputs": []
    },
    {
      "cell_type": "code",
      "metadata": {
        "id": "bAUcjUaA7L8-",
        "colab_type": "code",
        "colab": {
          "base_uri": "https://localhost:8080/",
          "height": 32
        },
        "outputId": "1e68083a-831a-47b9-b679-ae76f7761170"
      },
      "source": [
        "total_loss = 0.0\n",
        "with torch.no_grad():\n",
        "    for data in test_loader:\n",
        "        inputs, labels = Variable(data[:, :-1]).float(), Variable(data[:, -1].reshape((-1, 1))).float()\n",
        "        outputs = net(inputs)\n",
        "        loss = torch.sqrt(criterion(outputs, labels))\n",
        "        total_loss += loss\n",
        "\n",
        "print (total_loss / len(test_loader))"
      ],
      "execution_count": 32,
      "outputs": [
        {
          "output_type": "stream",
          "text": [
            "tensor(9835.3730)\n"
          ],
          "name": "stdout"
        }
      ]
    },
    {
      "cell_type": "code",
      "metadata": {
        "id": "e3yV-Agg_bhe",
        "colab_type": "code",
        "colab": {}
      },
      "source": [
        "PATH = '/content/drive/My Drive/Colab Notebooks/net.pth'\n",
        "torch.save(net.state_dict(), PATH)"
      ],
      "execution_count": 0,
      "outputs": []
    }
  ]
}