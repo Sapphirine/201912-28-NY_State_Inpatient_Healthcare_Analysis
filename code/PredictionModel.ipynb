{
  "nbformat": 4,
  "nbformat_minor": 0,
  "metadata": {
    "colab": {
      "name": "PredictionModel.ipynb",
      "provenance": []
    },
    "kernelspec": {
      "name": "python3",
      "display_name": "Python 3"
    }
  },
  "cells": [
    {
      "cell_type": "code",
      "metadata": {
        "id": "BG0mx-3yO1i5",
        "colab_type": "code",
        "colab": {}
      },
      "source": [
        "# Install latest version of spark. If error, check the latest and replace \"spark-2.4.4\"\n",
        "!apt-get install openjdk-8-jdk-headless -qq > /dev/null\n",
        "!wget -q https://www-us.apache.org/dist/spark/spark-2.4.4/spark-2.4.4-bin-hadoop2.7.tgz\n",
        "!tar xf spark-2.4.4-bin-hadoop2.7.tgz\n",
        "!pip install -q findspark\n",
        "\n",
        "import os\n",
        "import findspark\n",
        "os.environ[\"JAVA_HOME\"] = \"/usr/lib/jvm/java-8-openjdk-amd64\"\n",
        "os.environ[\"SPARK_HOME\"] = \"/content/spark-2.4.4-bin-hadoop2.7\"\n",
        "findspark.init()"
      ],
      "execution_count": 0,
      "outputs": []
    },
    {
      "cell_type": "code",
      "metadata": {
        "id": "DymQI_sHO69x",
        "colab_type": "code",
        "outputId": "561bc209-b71c-4b9c-bcf2-fa90344bec71",
        "colab": {
          "base_uri": "https://localhost:8080/",
          "height": 32
        }
      },
      "source": [
        "# Mount to Google drive to get data\n",
        "from google.colab import drive\n",
        "drive.mount('/content/drive')"
      ],
      "execution_count": 0,
      "outputs": [
        {
          "output_type": "stream",
          "text": [
            "Drive already mounted at /content/drive; to attempt to forcibly remount, call drive.mount(\"/content/drive\", force_remount=True).\n"
          ],
          "name": "stdout"
        }
      ]
    },
    {
      "cell_type": "code",
      "metadata": {
        "id": "e7oGbcxaO90-",
        "colab_type": "code",
        "colab": {}
      },
      "source": [
        "# Import dependencies\n",
        "import pyspark\n",
        "from pyspark.sql import SparkSession\n",
        "from pyspark.sql import Row\n",
        "from pyspark.sql.types import *\n",
        "from pyspark.sql.functions import *\n",
        "\n",
        "from pyspark.ml.feature import *\n",
        "from pyspark.ml import Pipeline, PipelineModel\n",
        "from pyspark.ml.regression import DecisionTreeRegressor\n",
        "from pyspark.ml.evaluation import RegressionEvaluator\n",
        "\n",
        "from pyspark.mllib.evaluation import BinaryClassificationMetrics, MulticlassMetrics\n",
        "\n",
        "from sklearn.metrics import accuracy_score\n",
        "import matplotlib.pyplot as plt\n",
        "import numpy as np\n",
        "import pandas as pd\n",
        "import torch"
      ],
      "execution_count": 0,
      "outputs": []
    },
    {
      "cell_type": "code",
      "metadata": {
        "id": "3Hcv-_vMO_FB",
        "colab_type": "code",
        "colab": {}
      },
      "source": [
        "spark = SparkSession.builder.master(\"local[*]\").getOrCreate()\n",
        "filename = \"/content/drive/My Drive/Colab Notebooks/SPARCS-2017_cleaned2.csv\"\n",
        "wholeData = spark.read.csv(filename, inferSchema=True, header=True).limit(50000)"
      ],
      "execution_count": 0,
      "outputs": []
    },
    {
      "cell_type": "code",
      "metadata": {
        "id": "oHOWEyEaPAWg",
        "colab_type": "code",
        "outputId": "e873b780-b981-41bd-9dee-cc444c8bedde",
        "colab": {
          "base_uri": "https://localhost:8080/",
          "height": 223
        }
      },
      "source": [
        "wholeData.show(3)"
      ],
      "execution_count": 0,
      "outputs": [
        {
          "output_type": "stream",
          "text": [
            "+---------------------+---------------+--------------------+---------+-------------------+------+-----+-----------------+--------------+-----------------+--------------------+-------------------------+-------------------------+--------------------+--------------------+-----------------------------------+---------------------+--------------------------------+--------------------+------------------+------------------+------------+------------------------------+-------------+-----------+\n",
            "|Hospital Service Area|Hospital County|       Facility Name|Age Group|Zip Code - 3 digits|Gender| Race|        Ethnicity|Length of Stay|Type of Admission| Patient Disposition|CCS Diagnosis Description|CCS Procedure Description| APR DRG Description| APR MDC Description|APR Severity of Illness Description|APR Risk of Mortality|APR Medical Surgical Description|  Payment Typology 1|Payment Typology 2|Payment Typology 3|Birth Weight|Emergency Department Indicator|Total Charges|Total Costs|\n",
            "+---------------------+---------------+--------------------+---------+-------------------+------+-----+-----------------+--------------+-----------------+--------------------+-------------------------+-------------------------+--------------------+--------------------+-----------------------------------+---------------------+--------------------------------+--------------------+------------------+------------------+------------+------------------------------+-------------+-----------+\n",
            "|        Hudson Valley|    Westchester|Montefiore Mount ...| 50 to 69|                105|     M|White| Spanish/Hispanic|             8|        Emergency|Skilled Nursing Home|     Hypertension with...|      INDWELLING CATHETER|       Heart failure|Diseases and Diso...|                              Major|             Moderate|                         Medical|            Medicaid|          Medicaid|          Self-Pay|        null|                             N|      58517.0|    26046.5|\n",
            "|        Hudson Valley|    Westchester|Montefiore Mount ...| 30 to 49|                105|     F|White|          Unknown|             6|        Emergency|Court/Law Enforce...|     Other diseases of...|     URETERAL CATHETER...|Urinary stones & ...|Diseases and Diso...|                           Moderate|             Moderate|                         Medical|Department of Cor...|          Self-Pay|              null|        null|                             N|     39647.04|   17397.59|\n",
            "|        Hudson Valley|    Westchester|Montefiore Mount ...| 50 to 69|                105|     F|White|Not Span/Hispanic|             4|        Emergency|Skilled Nursing Home|     Complications of ...|        BLOOD TRANSFUSION|Post-operative, p...|Infectious and Pa...|                           Moderate|             Moderate|                         Medical|            Medicaid|          Medicaid|          Self-Pay|        null|                             N|     36031.09|   16118.84|\n",
            "+---------------------+---------------+--------------------+---------+-------------------+------+-----+-----------------+--------------+-----------------+--------------------+-------------------------+-------------------------+--------------------+--------------------+-----------------------------------+---------------------+--------------------------------+--------------------+------------------+------------------+------------+------------------------------+-------------+-----------+\n",
            "only showing top 3 rows\n",
            "\n"
          ],
          "name": "stdout"
        }
      ]
    },
    {
      "cell_type": "code",
      "metadata": {
        "id": "dulUJj4KPDXE",
        "colab_type": "code",
        "colab": {}
      },
      "source": [
        "# split column type into categorical and numerical\n",
        "categorical = ['Zip Code - 3 digits', 'Age Group', 'Gender', 'Race', 'Type of Admission']\n",
        "numeric = ['Length of Stay', 'Total Charges']"
      ],
      "execution_count": 0,
      "outputs": []
    },
    {
      "cell_type": "code",
      "metadata": {
        "id": "lJCsFBUmPHxZ",
        "colab_type": "code",
        "colab": {}
      },
      "source": [
        "stages = [] # stages in our Pipeline\n",
        "\n",
        "# Category Indexing with StringIndexer and OneHotEncoding to convert into binary SparseVectors\n",
        "for col in categorical:\n",
        "    stringIndexer = StringIndexer(inputCol=col, outputCol=col + \"Index\")\n",
        "    encoder = OneHotEncoderEstimator(inputCols=[col + \"Index\"], outputCols=[col + \"classVec\"])\n",
        "    stages += [stringIndexer, encoder]\n",
        "\n",
        "# Numeric columns casted from String type to Float type\n",
        "for col in numeric:\n",
        "    wholeData = wholeData.withColumn(col, wholeData[col].cast('float'))"
      ],
      "execution_count": 0,
      "outputs": []
    },
    {
      "cell_type": "code",
      "metadata": {
        "id": "WCsLILJoPKb7",
        "colab_type": "code",
        "colab": {}
      },
      "source": [
        "# Create labels for training data with only 5 fields we want\n",
        "trainingDataWithTarget = wholeData.withColumn(\"avg_charges_per_day\", wholeData['Total Charges']/wholeData['Length of Stay'])\\\n",
        "                                  .select(['Zip Code - 3 digits', 'Age Group', 'Gender', 'Race', 'Type of Admission', 'avg_charges_per_day'])"
      ],
      "execution_count": 0,
      "outputs": []
    },
    {
      "cell_type": "code",
      "metadata": {
        "id": "47W-LgcCQX6a",
        "colab_type": "code",
        "outputId": "efdca56a-f0a6-490f-9046-77b9d60c07e2",
        "colab": {
          "base_uri": "https://localhost:8080/",
          "height": 131
        }
      },
      "source": [
        "trainingDataWithTarget.show(1)"
      ],
      "execution_count": 0,
      "outputs": [
        {
          "output_type": "stream",
          "text": [
            "+-------------------+---------+------+-----+-----------------+-------------------+\n",
            "|Zip Code - 3 digits|Age Group|Gender| Race|Type of Admission|avg_charges_per_day|\n",
            "+-------------------+---------+------+-----+-----------------+-------------------+\n",
            "|                105| 50 to 69|     M|White|        Emergency|           7314.625|\n",
            "+-------------------+---------+------+-----+-----------------+-------------------+\n",
            "only showing top 1 row\n",
            "\n"
          ],
          "name": "stdout"
        }
      ]
    },
    {
      "cell_type": "code",
      "metadata": {
        "id": "vQqDWwhgPk0l",
        "colab_type": "code",
        "colab": {}
      },
      "source": [
        "# Transform all features into a vector using VectorAssembler with 5 fields\n",
        "assemblerInputs = [c + \"classVec\" for c in categorical]\n",
        "assembler = VectorAssembler(inputCols=assemblerInputs, outputCol=\"features\")\n",
        "stages += [assembler]"
      ],
      "execution_count": 0,
      "outputs": []
    },
    {
      "cell_type": "code",
      "metadata": {
        "id": "YdiaiJd2P8XT",
        "colab_type": "code",
        "colab": {}
      },
      "source": [
        "partialPipeline = Pipeline().setStages(stages)\n",
        "pipelineModel = partialPipeline.fit(trainingDataWithTarget)\n",
        "preppedDataDF = pipelineModel.transform(trainingDataWithTarget)"
      ],
      "execution_count": 0,
      "outputs": []
    },
    {
      "cell_type": "code",
      "metadata": {
        "id": "6S68ZgRdQlfQ",
        "colab_type": "code",
        "colab": {}
      },
      "source": [
        "# Save the pipelineModel for customized user input\n",
        "pipelineModel.save(\"/content/drive/My Drive/Colab Notebooks/pipelineModel\")"
      ],
      "execution_count": 0,
      "outputs": []
    },
    {
      "cell_type": "code",
      "metadata": {
        "id": "eP4-alQlR9ip",
        "colab_type": "code",
        "outputId": "9ee93bfd-5761-44ce-ae90-85077845b9a6",
        "colab": {
          "base_uri": "https://localhost:8080/",
          "height": 131
        }
      },
      "source": [
        "preppedDataDF.select(['features', 'avg_charges_per_day']).show(1)"
      ],
      "execution_count": 0,
      "outputs": [
        {
          "output_type": "stream",
          "text": [
            "+--------------------+-------------------+\n",
            "|            features|avg_charges_per_day|\n",
            "+--------------------+-------------------+\n",
            "|(62,[9,50,54,57],...|           7314.625|\n",
            "+--------------------+-------------------+\n",
            "only showing top 1 row\n",
            "\n"
          ],
          "name": "stdout"
        }
      ]
    },
    {
      "cell_type": "code",
      "metadata": {
        "id": "gM9UReujSD6-",
        "colab_type": "code",
        "colab": {}
      },
      "source": [
        "# Label and training features\n",
        "selectedcols = [\"avg_charges_per_day\", \"features\"]\n",
        "vectorizedDataset = preppedDataDF.select(selectedcols)"
      ],
      "execution_count": 0,
      "outputs": []
    },
    {
      "cell_type": "code",
      "metadata": {
        "id": "wb5dG8vSSFcG",
        "colab_type": "code",
        "outputId": "e5c5a63e-56f4-4184-a235-ca1ed80ffb66",
        "colab": {
          "base_uri": "https://localhost:8080/",
          "height": 214
        }
      },
      "source": [
        "# Utilized a lot below\n",
        "vectorizedDataset.show(5)\n",
        "print (type(vectorizedDataset))"
      ],
      "execution_count": 0,
      "outputs": [
        {
          "output_type": "stream",
          "text": [
            "+-------------------+--------------------+\n",
            "|avg_charges_per_day|            features|\n",
            "+-------------------+--------------------+\n",
            "|           7314.625|(62,[9,50,54,57],...|\n",
            "|      6607.83984375|(62,[9,51,53,54,5...|\n",
            "|    9007.7724609375|(62,[9,50,53,54,5...|\n",
            "|             7633.5|(62,[9,53,54,57],...|\n",
            "| 16430.026041666668|(62,[9,50,56,57],...|\n",
            "+-------------------+--------------------+\n",
            "only showing top 5 rows\n",
            "\n",
            "<class 'pyspark.sql.dataframe.DataFrame'>\n"
          ],
          "name": "stdout"
        }
      ]
    },
    {
      "cell_type": "code",
      "metadata": {
        "id": "2J8pqTlnbv1f",
        "colab_type": "code",
        "outputId": "093dd072-5012-4b22-8299-23b79dfa1c18",
        "colab": {
          "base_uri": "https://localhost:8080/",
          "height": 32
        }
      },
      "source": [
        "vectorizedDataset.select('features').collect()[0]"
      ],
      "execution_count": 0,
      "outputs": [
        {
          "output_type": "execute_result",
          "data": {
            "text/plain": [
              "Row(features=SparseVector(62, {9: 1.0, 50: 1.0, 54: 1.0, 57: 1.0}))"
            ]
          },
          "metadata": {
            "tags": []
          },
          "execution_count": 198
        }
      ]
    },
    {
      "cell_type": "markdown",
      "metadata": {
        "id": "_RnYvWGCVA4x",
        "colab_type": "text"
      },
      "source": [
        "## **PySpark MLlib Decision Tree Model and RMSE**"
      ]
    },
    {
      "cell_type": "code",
      "metadata": {
        "id": "GqihF38tVEze",
        "colab_type": "code",
        "colab": {}
      },
      "source": [
        "from pyspark.ml.regression import DecisionTreeRegressor\n",
        "from pyspark.ml.regression import GBTRegressor\n",
        "\n",
        "train_data, test_data = vectorizedDataset.randomSplit([0.8, 0.2])\n",
        "regressor = GBTRegressor(featuresCol='features', labelCol='avg_charges_per_day', maxDepth=30, maxIter=50)\n",
        "\n",
        "model = regressor.fit(train_data)"
      ],
      "execution_count": 0,
      "outputs": []
    },
    {
      "cell_type": "code",
      "metadata": {
        "id": "RhOwlzLeV-Gc",
        "colab_type": "code",
        "outputId": "bf99e513-56bf-418e-effb-f8543f1ba82d",
        "colab": {
          "base_uri": "https://localhost:8080/",
          "height": 32
        }
      },
      "source": [
        "predictions = model.transform(test_data)\n",
        "\n",
        "from pyspark.ml.evaluation import RegressionEvaluator\n",
        "\n",
        "evaluator = RegressionEvaluator(labelCol=\"avg_charges_per_day\", predictionCol=\"prediction\", metricName=\"rmse\")\n",
        "rmse = evaluator.evaluate(predictions)\n",
        "\n",
        "print(\"Root Mean Squared Error (RMSE) on test data = %g\" % rmse)"
      ],
      "execution_count": 0,
      "outputs": [
        {
          "output_type": "stream",
          "text": [
            "Root Mean Squared Error (RMSE) on test data = 12301.9\n"
          ],
          "name": "stdout"
        }
      ]
    },
    {
      "cell_type": "code",
      "metadata": {
        "id": "iMWLaVklRm0W",
        "colab_type": "code",
        "colab": {}
      },
      "source": [
        "# Schema for 5 Fields customized test input\n",
        "schema = StructType([StructField('Age Group',StringType(),True),\n",
        "                     StructField('Zip Code - 3 digits',StringType(),True),\n",
        "                     StructField('Gender',StringType(),True),\n",
        "                     StructField('Race',StringType(),True),\n",
        "                     StructField('Type of Admission',StringType(),True)])"
      ],
      "execution_count": 0,
      "outputs": []
    },
    {
      "cell_type": "code",
      "metadata": {
        "id": "eNlHQwdpRrsU",
        "colab_type": "code",
        "colab": {}
      },
      "source": [
        "# customized input data for testing\n",
        "testDataWithTarget = spark.createDataFrame([Row('0 to 17','101','F','White','Emergency')], schema)"
      ],
      "execution_count": 0,
      "outputs": []
    },
    {
      "cell_type": "code",
      "metadata": {
        "id": "-cb2bEZzRw4A",
        "colab_type": "code",
        "outputId": "a5d16e89-33fc-4749-ea25-d1b2950876e4",
        "colab": {
          "base_uri": "https://localhost:8080/",
          "height": 115
        }
      },
      "source": [
        "# reload pipelineModel\n",
        "loadedModel = PipelineModel.load(\"/content/drive/My Drive/Colab Notebooks/pipelineModel\")\n",
        "testDataWithTargetDF = loadedModel.transform(testDataWithTarget)\n",
        "testDataWithTargetDF.select('features').show()"
      ],
      "execution_count": 0,
      "outputs": [
        {
          "output_type": "stream",
          "text": [
            "+--------------------+\n",
            "|            features|\n",
            "+--------------------+\n",
            "|(62,[23,52,53,54,...|\n",
            "+--------------------+\n",
            "\n"
          ],
          "name": "stdout"
        }
      ]
    },
    {
      "cell_type": "code",
      "metadata": {
        "id": "uP7v2ubYWdyJ",
        "colab_type": "code",
        "colab": {}
      },
      "source": [
        "predictions = model.transform(testDataWithTargetDF)"
      ],
      "execution_count": 0,
      "outputs": []
    },
    {
      "cell_type": "code",
      "metadata": {
        "id": "dQ4IUfi-W1no",
        "colab_type": "code",
        "outputId": "c27ad439-e121-4494-a378-de02ca29526b",
        "colab": {
          "base_uri": "https://localhost:8080/",
          "height": 115
        }
      },
      "source": [
        "predictions.select('prediction').show()"
      ],
      "execution_count": 0,
      "outputs": [
        {
          "output_type": "stream",
          "text": [
            "+------------------+\n",
            "|        prediction|\n",
            "+------------------+\n",
            "|12461.040988522816|\n",
            "+------------------+\n",
            "\n"
          ],
          "name": "stdout"
        }
      ]
    },
    {
      "cell_type": "code",
      "metadata": {
        "id": "WmDTKuOh7byA",
        "colab_type": "code",
        "colab": {}
      },
      "source": [
        ""
      ],
      "execution_count": 0,
      "outputs": []
    }
  ]
}